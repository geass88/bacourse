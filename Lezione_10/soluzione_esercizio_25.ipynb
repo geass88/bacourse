{
 "cells": [
  {
   "cell_type": "markdown",
   "metadata": {},
   "source": [
    "## Esercizio 25\n",
    "\n",
    "#### Determinare il prodotto di due numeri naturali utilizzando la seguente definizione ricorsiva:\n",
    "\n",
    "$\\large A \\cdot B = \\begin{cases} 0, & \\mbox{se } B\\mbox{ = 0} \\\\ A \\cdot (B-1) + A & \\mbox{se } B\\mbox{ >0} \\end{cases}$"
   ]
  },
  {
   "cell_type": "code",
   "execution_count": null,
   "metadata": {},
   "outputs": [],
   "source": [
    "def prodotto(A, B):\n",
    "    if B == 0:\n",
    "        return 0\n",
    "    return prodotto(A, B-1) + A\n",
    "\n",
    "A = int(input('Inserisci un numero naturale: '))\n",
    "B = int(input('Inserisci un altro numero naturale: '))\n",
    "print('prodotto: '+ str(prodotto(A, B)))\n",
    "print('test: ' + str(A*B))"
   ]
  },
  {
   "cell_type": "code",
   "execution_count": null,
   "metadata": {},
   "outputs": [],
   "source": []
  }
 ],
 "metadata": {
  "kernelspec": {
   "display_name": "Python 3 (ipykernel)",
   "language": "python",
   "name": "python3"
  },
  "language_info": {
   "codemirror_mode": {
    "name": "ipython",
    "version": 3
   },
   "file_extension": ".py",
   "mimetype": "text/x-python",
   "name": "python",
   "nbconvert_exporter": "python",
   "pygments_lexer": "ipython3",
   "version": "3.8.12"
  }
 },
 "nbformat": 4,
 "nbformat_minor": 4
}
