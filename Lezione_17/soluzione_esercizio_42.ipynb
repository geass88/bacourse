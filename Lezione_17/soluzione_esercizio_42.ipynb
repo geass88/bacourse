{
 "cells": [
  {
   "cell_type": "markdown",
   "metadata": {},
   "source": [
    "# The fractional knapsack problem\n",
    "\n",
    "Sia dato uno zaino che possa sopportare un determinato peso e siano dati $n$ oggetti, ognuno dei quali caratterizzato da un peso e un valore. Il problema si propone di scegliere quali di questi oggetti mettere nello zaino per ottenere il maggiore valore senza eccedere il peso sostenibile dallo zaino stesso.\n",
    "\n",
    "<img src=\"https://tommasoadamo.it/images/lez17/knapsack.png\" style=\"width: 400px\" />\n",
    "\n",
    "Supponiamo che gli oggetti possano essere frazionati. \n",
    "\n",
    "### LP Formulation\n",
    "\n",
    "\\begin{align}\n",
    "\\max \\quad& \\sum\\limits_{i \\in N} c_i x_i\\\\\n",
    "\\quad& \\sum\\limits_{i \\in N} w_i x_i \\leq W\\\\\n",
    "\\quad& 0 \\leq x_i \\leq 1 & i \\in N\n",
    "\\end{align}\n",
    "\n",
    "### Problem Instance: oggetti.json\n",
    "\n",
    "Optimal solution with total cost: 7566.857"
   ]
  },
  {
   "cell_type": "code",
   "execution_count": null,
   "metadata": {},
   "outputs": [],
   "source": [
    "# ALERT: execute this cell to prepare input data!\n",
    "import requests\n",
    "def download(link, nomeFile=None):\n",
    "    if nomeFile == None:\n",
    "        nomeFile = link.split('/')[-1]\n",
    "    richiesta = requests.get(link)\n",
    "    if richiesta.status_code == 200:\n",
    "        with open(nomeFile, 'w') as file:\n",
    "            file.write(richiesta.text)\n",
    "            \n",
    "download('https://tommasoadamo.it/data/oggetti.json')"
   ]
  },
  {
   "cell_type": "code",
   "execution_count": null,
   "metadata": {},
   "outputs": [],
   "source": [
    "# ALERT: execute this cell to install DOcplex! \n",
    "!pip install docplex cplex"
   ]
  },
  {
   "cell_type": "code",
   "execution_count": null,
   "metadata": {},
   "outputs": [],
   "source": [
    "import docplex.mp.model as cplex\n",
    "import json\n",
    "\n",
    "# prepariamo l'istanza\n",
    "with open('oggetti.json', 'r') as f:\n",
    "    D = json.load(f)\n",
    "\n",
    "W = D['zaino']['capacita']\n",
    "\n",
    "c = []\n",
    "w = []    \n",
    "for o in D['oggetti']:\n",
    "    c.append(o['costo'])\n",
    "    w.append(o['peso'])\n",
    "n = len(c)\n",
    "R = tuple(range(n))\n",
    "\n",
    "# codifichiamo il modello\n",
    "with cplex.Model(\"Fractional knapsack\") as mdl:\n",
    "    x = mdl.continuous_var_list(R, name=\"x\")\n",
    "\n",
    "    mdl.add_constraint(sum(w[i] * x[i] for i in R) <= W)\n",
    "    \n",
    "    for i in R:\n",
    "        mdl.add_constraint(x[i] <= 1)\n",
    "    \n",
    "    mdl.maximize(sum(c[i] * x[i] for i in R))\n",
    "        \n",
    "    mdl.print_information()\n",
    "    sol = mdl.solve(log_output=True)\n",
    "    \n",
    "    if sol == None:\n",
    "        print('No solution.')\n",
    "    else:\n",
    "        print(sol)\n",
    "        \n",
    "        # presentiamo la soluzione\n",
    "        packed_items = [i for i in R if x[i].solution_value > 0]\n",
    "        print('Packed items: ' + str(packed_items))\n",
    "        tw = sum(w[i] * x[i].solution_value for i in packed_items)\n",
    "        print('Total weight:', tw)\n",
    "        print('Total cost:', sol.objective_value)"
   ]
  },
  {
   "cell_type": "code",
   "execution_count": null,
   "metadata": {},
   "outputs": [],
   "source": []
  }
 ],
 "metadata": {
  "kernelspec": {
   "display_name": "Python 3 (ipykernel)",
   "language": "python",
   "name": "python3"
  },
  "language_info": {
   "codemirror_mode": {
    "name": "ipython",
    "version": 3
   },
   "file_extension": ".py",
   "mimetype": "text/x-python",
   "name": "python",
   "nbconvert_exporter": "python",
   "pygments_lexer": "ipython3",
   "version": "3.8.12"
  }
 },
 "nbformat": 4,
 "nbformat_minor": 4
}
