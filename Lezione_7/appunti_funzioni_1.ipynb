{
 "cells": [
  {
   "cell_type": "markdown",
   "metadata": {},
   "source": [
    "# Top-down design"
   ]
  },
  {
   "cell_type": "markdown",
   "metadata": {},
   "source": [
    "Increasing code size makes it harder to understand and maintain.\n",
    "Code reuse is a very important part of programming in any language.\n",
    "\n",
    "In the top-down approach the main problem is progressively decomposed in smaller and simpler subproblems."
   ]
  },
  {
   "cell_type": "markdown",
   "metadata": {},
   "source": [
    "<img src=\"https://www.tommasoadamo.it/images/lez6/Sottoprogramma.jpg\" style=\"margin:auto\"/>"
   ]
  },
  {
   "cell_type": "markdown",
   "metadata": {},
   "source": []
  },
  {
   "cell_type": "markdown",
   "metadata": {},
   "source": [
    "## Functions\n",
    "\n",
    "A <b>function</b> is like a miniprogram within a program.\n",
    "\n",
    "\n",
    "We've already used functions until now.\n",
    "\n",
    "Any statement that consists of a word followed by information in parentheses is a function call.\n",
    "\n",
    "Here are some examples that you've already seen:"
   ]
  },
  {
   "cell_type": "code",
   "execution_count": null,
   "metadata": {},
   "outputs": [],
   "source": [
    "print(\"Hello world!\")\n",
    "range(2, 20)\n",
    "str(12)\n",
    "int('21')\n",
    "type('Hello world')"
   ]
  },
  {
   "cell_type": "markdown",
   "metadata": {},
   "source": [
    "The words in front of the parentheses are function names, and the comma-separated values inside the parentheses are function arguments.\n",
    "\n",
    "In addition to using pre-defined functions, you can create your own functions by using the <b>def</b> statement.\n",
    "\n",
    "Here is an example of a function named my_func. It takes no arguments, and prints \"hello\" three times. It is defined, and then called. "
   ]
  },
  {
   "cell_type": "code",
   "execution_count": null,
   "metadata": {},
   "outputs": [],
   "source": [
    "def my_func():\n",
    "    print(\"hello\")\n",
    "    print(\"hello\")\n",
    "    print(\"hello\")\n",
    "\n",
    "print(\"first call:\")\n",
    "my_func()\n",
    "print(\"second call:\")\n",
    "my_func()"
   ]
  },
  {
   "cell_type": "markdown",
   "metadata": {},
   "source": [
    "The statements in the function are executed only when the function is called. The code block within every function starts with a colon (:) and is indented. \n",
    "\n",
    "You must define functions before they are called, in the same way that you must assign variables before using them."
   ]
  },
  {
   "cell_type": "code",
   "execution_count": null,
   "metadata": {},
   "outputs": [],
   "source": [
    "hello()\n",
    "\n",
    "def hello():\n",
    "    print(\"Hello world!\")"
   ]
  },
  {
   "cell_type": "markdown",
   "metadata": {},
   "source": [
    "## The Call Stack\n",
    "\n",
    "The call stack is how Python remembers where to return the execution after each function call. The call stack isn’t stored in a variable in your program; rather, Python handles it behind the scenes. When your program calls a function, Python creates a frame object on the top of the call stack. Frame objects store the line number of the original function call so that Python can remember where to return. If another function call is made, Python puts another frame object on the call stack above the other one.\n",
    "\n",
    "When a function call returns, Python removes a frame object from the top of the stack and moves the execution to the line number stored in it. Note that frame objects are always added and removed from the top of the stack and not from any other place. \n",
    "\n",
    "The top of the call stack is which function the execution is currently in. When the call stack is empty, the execution is on a line outside of all functions.\n",
    "\n",
    "<img src=\"https://www.tommasoadamo.it/images/lez6/call_stack.jpg\" style=\"margin:auto\"/>"
   ]
  },
  {
   "cell_type": "code",
   "execution_count": null,
   "metadata": {},
   "outputs": [],
   "source": [
    "def a():\n",
    "    print('a() starts')\n",
    "    b()\n",
    "    d()\n",
    "    print('a() returns')\n",
    "\n",
    "def b():\n",
    "    print('b() starts')\n",
    "    c()\n",
    "    print('b() returns')\n",
    "\n",
    "def c():\n",
    "    print('c() starts')\n",
    "    print('c() returns')\n",
    "\n",
    "def d():\n",
    "    print('d() starts')\n",
    "    print('d() returns')\n",
    "    \n",
    "a()"
   ]
  },
  {
   "cell_type": "markdown",
   "metadata": {},
   "source": [
    "<a target=\"_blank\" href=\"https://autbor.com/abcdcallstack/\">VISUALIZZA ESECUZIONE</a>"
   ]
  },
  {
   "cell_type": "markdown",
   "metadata": {},
   "source": [
    "## Arguments\n",
    "\n",
    "All the function definitions we've looked at so far have been functions of zero arguments, which are called with empty parentheses.\n",
    "\n",
    "However, most functions take arguments.\n",
    "\n",
    "The example below defines a function that takes one argument:"
   ]
  },
  {
   "cell_type": "code",
   "execution_count": null,
   "metadata": {},
   "outputs": [],
   "source": [
    "def print_with_exclamation(word):\n",
    "    print(word + \"!\")\n",
    "    \n",
    "print_with_exclamation(\"hello\")\n",
    "print_with_exclamation(\"world\")\n",
    "print_with_exclamation(\"python\")"
   ]
  },
  {
   "cell_type": "markdown",
   "metadata": {},
   "source": [
    "As you can see, the argument is defined inside the parentheses. You can also define functions with more than one argument; separate them with commas."
   ]
  },
  {
   "cell_type": "code",
   "execution_count": null,
   "metadata": {},
   "outputs": [],
   "source": [
    "def print_sum_twice(x, y):\n",
    "    print(x + y)\n",
    "    print(x + y)\n",
    "\n",
    "print_sum_twice(5, 8)"
   ]
  },
  {
   "cell_type": "markdown",
   "metadata": {},
   "source": [
    "Function arguments can be used as variables inside the function definition. However, they cannot be referenced outside of the function's definition. \n",
    "\n",
    "This also applies to other variables created inside a function (<b>local scope</b>)."
   ]
  },
  {
   "cell_type": "code",
   "execution_count": null,
   "metadata": {},
   "outputs": [],
   "source": [
    "def function(variable):\n",
    "    variable += 1\n",
    "    print(variable)\n",
    "\n",
    "function(7)\n",
    "print(variable)"
   ]
  },
  {
   "cell_type": "markdown",
   "metadata": {},
   "source": [
    "Technically, parameters are the variables in a function definition, and arguments are the values put into parameters when functions are called. \n",
    "\n",
    "Variables that are assigned outside all functions are said to exist in the global scope. However, code in a local scope can access global variables. You can use the same name for different variables if they are in different scopes. While using global variables in small programs is fine, it is a bad habit to rely on global variables as your programs get larger and larger."
   ]
  },
  {
   "cell_type": "markdown",
   "metadata": {},
   "source": [
    "## Returning from Functions\n",
    "\n",
    "Certain functions, such as <b>int</b> or <b>str</b>, return a value that can be used later.\n",
    "To do this for your defined functions, you can use the <b>return</b> statement.\n",
    "\n",
    "For example:"
   ]
  },
  {
   "cell_type": "code",
   "execution_count": null,
   "metadata": {},
   "outputs": [],
   "source": [
    "def max2(x, y):\n",
    "    if x >= y:\n",
    "        return x\n",
    "    else:\n",
    "        return y\n",
    "print(max2(4, 7))\n",
    "z = max2(8, 5)\n",
    "print(z)"
   ]
  },
  {
   "cell_type": "markdown",
   "metadata": {},
   "source": [
    "The <b>return</b> statement cannot be used outside of a function definition. Once you return a value from a function, it immediately stops being executed. Any code after the return statement will never happen.\n",
    "\n",
    "For example:"
   ]
  },
  {
   "cell_type": "code",
   "execution_count": null,
   "metadata": {},
   "outputs": [],
   "source": [
    "def add_numbers(x, y):\n",
    "    total = x + y\n",
    "    return total\n",
    "    print(\"This won't be printed\")\n",
    "print(add_numbers(4, 5))"
   ]
  },
  {
   "cell_type": "markdown",
   "metadata": {},
   "source": [
    "## None\n",
    "\n",
    "The <b>None</b> object is used to represent the absence of a value.\n",
    "It is similar to null in other programming languages.\n",
    "\n",
    "Like other \"empty\" values, such as 0, \\[ \\] and the empty string, it is False when converted to a Boolean variable.\n",
    "When entered at the Python console, it is displayed as the empty string."
   ]
  },
  {
   "cell_type": "code",
   "execution_count": null,
   "metadata": {},
   "outputs": [],
   "source": [
    "None"
   ]
  },
  {
   "cell_type": "code",
   "execution_count": null,
   "metadata": {},
   "outputs": [],
   "source": [
    "print(None)"
   ]
  },
  {
   "cell_type": "markdown",
   "metadata": {},
   "source": [
    "The None object is returned by any function that doesn't explicitly return anything else."
   ]
  },
  {
   "cell_type": "code",
   "execution_count": null,
   "metadata": {},
   "outputs": [],
   "source": [
    "def some_func():\n",
    "    print(\"Hi!\")\n",
    "\n",
    "var = some_func()\n",
    "print(var)"
   ]
  }
 ],
 "metadata": {
  "kernelspec": {
   "display_name": "Python 3 (ipykernel)",
   "language": "python",
   "name": "python3"
  },
  "language_info": {
   "codemirror_mode": {
    "name": "ipython",
    "version": 3
   },
   "file_extension": ".py",
   "mimetype": "text/x-python",
   "name": "python",
   "nbconvert_exporter": "python",
   "pygments_lexer": "ipython3",
   "version": "3.8.12"
  }
 },
 "nbformat": 4,
 "nbformat_minor": 4
}
