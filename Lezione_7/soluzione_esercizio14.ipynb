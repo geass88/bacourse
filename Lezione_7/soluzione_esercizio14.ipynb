{
 "cells": [
  {
   "cell_type": "markdown",
   "metadata": {},
   "source": [
    "## Esercizio 14\n",
    "\n",
    "#### Scrivere una funzione che dato in input un numero intero positivo ritorni <b>True</b> se il numero è primo, <b>False</b> altrimenti.\n",
    "\n",
    "Esempi:\n",
    "* 121 non è primo\n",
    "* 41 è primo\n",
    "* 9999937 è primo\n",
    "* 2173 non è primo"
   ]
  },
  {
   "cell_type": "code",
   "execution_count": null,
   "metadata": {},
   "outputs": [],
   "source": [
    "def primo(n):\n",
    "    for i in range(2, n):\n",
    "        if n % i == 0:            \n",
    "            print(str(n) + ' è divisibile per ' + str(i))\n",
    "            return False\n",
    "    return True\n",
    "\n",
    "print(primo(121))\n",
    "print(primo(41))\n",
    "print(primo(9999937))\n",
    "print(primo(2173))"
   ]
  },
  {
   "cell_type": "code",
   "execution_count": null,
   "metadata": {},
   "outputs": [],
   "source": [
    "def primo(n):\n",
    "    p = True\n",
    "    for i in range(2, n):\n",
    "        if n % i == 0:            \n",
    "            print(str(n) + ' è divisibile per ' + str(i))\n",
    "            p = False\n",
    "            break\n",
    "    return p\n",
    "\n",
    "print(primo(121))\n",
    "print(primo(41))\n",
    "print(primo(9999937))\n",
    "print(primo(2173))"
   ]
  }
 ],
 "metadata": {
  "kernelspec": {
   "display_name": "Python 3 (ipykernel)",
   "language": "python",
   "name": "python3"
  },
  "language_info": {
   "codemirror_mode": {
    "name": "ipython",
    "version": 3
   },
   "file_extension": ".py",
   "mimetype": "text/x-python",
   "name": "python",
   "nbconvert_exporter": "python",
   "pygments_lexer": "ipython3",
   "version": "3.8.12"
  }
 },
 "nbformat": 4,
 "nbformat_minor": 4
}
