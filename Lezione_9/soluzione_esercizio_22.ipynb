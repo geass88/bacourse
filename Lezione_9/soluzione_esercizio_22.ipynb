{
 "cells": [
  {
   "cell_type": "markdown",
   "id": "economic-declaration",
   "metadata": {},
   "source": [
    "## Esercizio 22\n",
    "\n",
    "#### Scrivere una funzione che presa una stringa esadecimale restituisca il corrispondente numero decimale.\n",
    "\n",
    "Esempio:\n",
    "> $\\text{A}8_{16} = 168_{10}$\n",
    "\n",
    "> $\\text{1DEA}_{16} = 7658_{10}$"
   ]
  },
  {
   "cell_type": "code",
   "execution_count": null,
   "id": "hispanic-lincoln",
   "metadata": {},
   "outputs": [],
   "source": [
    "def hexToDec(Nconv):    \n",
    "    N = 0\n",
    "    e = len(Nconv)-1\n",
    "    for c in Nconv:\n",
    "        if c == 'a' or c == 'A':\n",
    "            val = 10\n",
    "        elif c == 'b' or c == 'B':\n",
    "            val = 11\n",
    "        elif c == 'c' or c == 'C':\n",
    "            val = 12\n",
    "        elif c == 'd' or c == 'D':\n",
    "            val = 13\n",
    "        elif c == 'e' or c == 'E':\n",
    "            val = 14\n",
    "        elif c == 'f' or c == 'F':\n",
    "            val = 15\n",
    "        else:\n",
    "            val = int(c)\n",
    "        N += val * 16**e\n",
    "        e -= 1\n",
    "    return N\n",
    "\n",
    "ottale = input('Inserisci una stringa esadecimale: ')\n",
    "print('In decimale è: ' + str(hexToDec(ottale)))"
   ]
  },
  {
   "cell_type": "code",
   "execution_count": null,
   "id": "c580c6b4-29ea-4317-a56e-f287f2a8b203",
   "metadata": {},
   "outputs": [],
   "source": [
    "# soluzione alternativa\n",
    "# con procedura di ricerca lineare\n",
    "def cerca(s):\n",
    "    cifre='0123456789ABCDEF'\n",
    "    i = 0\n",
    "    for c in cifre:        \n",
    "        if s == c:\n",
    "            return i\n",
    "        i += 1\n",
    "    \n",
    "def hexToDec(Nconv):    \n",
    "    N = 0\n",
    "    e = len(Nconv)-1\n",
    "    for c in Nconv:        \n",
    "        N += cerca(c) * 16**e\n",
    "        e -= 1\n",
    "    return N\n",
    "\n",
    "ottale = input('Inserisci una stringa esadecimale: ')\n",
    "print('In decimale è: ' + str(hexToDec(ottale)))"
   ]
  }
 ],
 "metadata": {
  "kernelspec": {
   "display_name": "Python 3 (ipykernel)",
   "language": "python",
   "name": "python3"
  },
  "language_info": {
   "codemirror_mode": {
    "name": "ipython",
    "version": 3
   },
   "file_extension": ".py",
   "mimetype": "text/x-python",
   "name": "python",
   "nbconvert_exporter": "python",
   "pygments_lexer": "ipython3",
   "version": "3.8.12"
  }
 },
 "nbformat": 4,
 "nbformat_minor": 5
}
