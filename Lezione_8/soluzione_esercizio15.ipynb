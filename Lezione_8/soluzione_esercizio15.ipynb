{
 "cells": [
  {
   "cell_type": "markdown",
   "metadata": {},
   "source": [
    "## Esercizio 15\n",
    "\n",
    "#### Scrivere una funzione che determini il MCD di due numeri interi positivi\n",
    "\n",
    "> MCD(20, 30) = 10\n",
    "\n",
    "> MCD(70, 15) = 5\n",
    "\n",
    "> MCD(21, 59) = 1\n",
    "\n",
    "> MCD(209, 1729) = 19"
   ]
  },
  {
   "cell_type": "code",
   "execution_count": null,
   "metadata": {},
   "outputs": [],
   "source": [
    "def minimo(a, b):\n",
    "    if a < b:\n",
    "        return a\n",
    "    else:\n",
    "        return b\n",
    "def MCD(a, b):\n",
    "    for i in range(minimo(a,b), 0, -1):\n",
    "        if a % i == 0 and b % i == 0:\n",
    "            return i\n",
    "print(MCD(20,30))\n",
    "print(MCD(70,15))\n",
    "print(MCD(21,59))\n",
    "print(MCD(209,1729))"
   ]
  }
 ],
 "metadata": {
  "kernelspec": {
   "display_name": "Python 3 (ipykernel)",
   "language": "python",
   "name": "python3"
  },
  "language_info": {
   "codemirror_mode": {
    "name": "ipython",
    "version": 3
   },
   "file_extension": ".py",
   "mimetype": "text/x-python",
   "name": "python",
   "nbconvert_exporter": "python",
   "pygments_lexer": "ipython3",
   "version": "3.8.12"
  }
 },
 "nbformat": 4,
 "nbformat_minor": 4
}
