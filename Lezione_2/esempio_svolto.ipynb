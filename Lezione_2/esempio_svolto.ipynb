{
 "cells": [
  {
   "cell_type": "markdown",
   "id": "sixth-klein",
   "metadata": {},
   "source": [
    "## Esempio 1"
   ]
  },
  {
   "cell_type": "markdown",
   "id": "fantastic-typing",
   "metadata": {},
   "source": [
    "#### - dato in input un nome stampare un saluto come nell'esempio seguente:\n",
    "\n",
    "Inserendo il nome \"Alice\" il programma restituirà \"Ciao, Alice!\""
   ]
  },
  {
   "cell_type": "code",
   "execution_count": null,
   "id": "loving-township",
   "metadata": {},
   "outputs": [],
   "source": [
    "x = input('Inserisci il tuo nome: ')\n",
    "print('Ciao, ' + x + '!')"
   ]
  },
  {
   "cell_type": "markdown",
   "id": "growing-gasoline",
   "metadata": {},
   "source": [
    "## Esempio 2\n"
   ]
  },
  {
   "cell_type": "markdown",
   "id": "noted-boxing",
   "metadata": {},
   "source": [
    "#### - dati in input 3 numeri determinarne la media"
   ]
  },
  {
   "cell_type": "code",
   "execution_count": null,
   "id": "angry-ticket",
   "metadata": {
    "tags": []
   },
   "outputs": [],
   "source": [
    "x = float(input('Inserisci numero: '))\n",
    "y = float(input('Inserisci numero: '))\n",
    "z = float(input('Inserisci numero: '))\n",
    "media = (x+y+z)/3\n",
    "print('La media dei numeri è: ' + str(media))"
   ]
  },
  {
   "cell_type": "code",
   "execution_count": null,
   "id": "relevant-warren",
   "metadata": {},
   "outputs": [],
   "source": []
  }
 ],
 "metadata": {
  "kernelspec": {
   "display_name": "Python 3 (ipykernel)",
   "language": "python",
   "name": "python3"
  },
  "language_info": {
   "codemirror_mode": {
    "name": "ipython",
    "version": 3
   },
   "file_extension": ".py",
   "mimetype": "text/x-python",
   "name": "python",
   "nbconvert_exporter": "python",
   "pygments_lexer": "ipython3",
   "version": "3.8.12"
  }
 },
 "nbformat": 4,
 "nbformat_minor": 5
}
