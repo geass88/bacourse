{
 "cells": [
  {
   "cell_type": "markdown",
   "metadata": {},
   "source": [
    "## Esercizio 8"
   ]
  },
  {
   "cell_type": "markdown",
   "metadata": {
    "tags": []
   },
   "source": [
    "#### - Su una somma di denaro si vuole applicare un'imposta progressiva secondo lo schema seguente:\n",
    "* da 0 a 5000 euro: imposta del 10%\n",
    "* dopo i 5000 e fino a 15000 euro: imposta del 20%\n",
    "* oltre i 15000 euro: imposta del 30%.\n",
    "\n",
    "#### Scrivere un programma che dato in input un importo calcoli il valore dell'imposta da applicare.\n",
    "\n",
    "Esempi:\n",
    "\n",
    "> importo 4000 € &rarr; imposta 400 €\n",
    "\n",
    "> importo 6000 € &rarr; imposta 700 €\n",
    "\n",
    "> importo 18000 € &rarr; imposta 3400 € \n",
    "\n"
   ]
  },
  {
   "cell_type": "code",
   "execution_count": null,
   "metadata": {},
   "outputs": [],
   "source": [
    "importo = float(input('Inserisci un importo: '))\n",
    "Aliquota1 = 10 / 100\n",
    "Aliquota2 = 20 / 100\n",
    "Aliquota3 = 30 / 100\n",
    "Scaglione1 = 5000\n",
    "Scaglione2 = 15000\n",
    "\n",
    "if importo <= Scaglione1:\n",
    "    imposta = importo * Aliquota1 \n",
    "elif importo <= Scaglione2:\n",
    "    imposta = Scaglione1 * Aliquota1 + (importo - Scaglione1) * Aliquota2 \n",
    "else:\n",
    "    imposta = Scaglione1 * Aliquota1 + (Scaglione2 - Scaglione1) * Aliquota2  + (importo - Scaglione2) * Aliquota3 \n",
    "    \n",
    "print(\"L'imposta calcolata è: \" + str(imposta) + \"€\")\n",
    "del Aliquota1, Aliquota2, Aliquota3, Scaglione1, Scaglione2, importo, imposta"
   ]
  }
 ],
 "metadata": {
  "kernelspec": {
   "display_name": "Python 3 (ipykernel)",
   "language": "python",
   "name": "python3"
  },
  "language_info": {
   "codemirror_mode": {
    "name": "ipython",
    "version": 3
   },
   "file_extension": ".py",
   "mimetype": "text/x-python",
   "name": "python",
   "nbconvert_exporter": "python",
   "pygments_lexer": "ipython3",
   "version": "3.8.12"
  }
 },
 "nbformat": 4,
 "nbformat_minor": 4
}
