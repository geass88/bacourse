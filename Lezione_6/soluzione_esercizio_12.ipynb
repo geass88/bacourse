{
 "cells": [
  {
   "cell_type": "markdown",
   "metadata": {},
   "source": [
    "## Esercizio 12\n",
    "\n",
    "#### Determinare il risultato della potenza di due numeri naturali utilizzando l'operazione di prodotto."
   ]
  },
  {
   "cell_type": "markdown",
   "metadata": {},
   "source": [
    "\n",
    "\n",
    "$ \\large A^B = \\begin{cases} \\text{undefined}, & \\mbox{if } A=B\\mbox{ = 0} \\\\ 1, & \\mbox{if } A \\neq 0, B\\mbox{ = 0} \\\\ \\prod\\limits_{k=1}^{B} A, & \\mbox{if } B\\mbox{ >0} \\end{cases}$"
   ]
  },
  {
   "cell_type": "code",
   "execution_count": null,
   "metadata": {},
   "outputs": [],
   "source": [
    "A = int(input('Inserisci base:'))\n",
    "B = int(input('Inserisci esponente: '))\n",
    "\n",
    "if A == 0 and B == 0:\n",
    "    potenza = 'undefined'\n",
    "else:\n",
    "    potenza = 1\n",
    "    for k in range(1, B+1):\n",
    "        potenza *= A\n",
    "print(str(A) + ' ** ' + str(B) + ' = ' + str(potenza))\n",
    "\n",
    "print('Il risultato corretto è: ' + str(A**B))\n",
    "del A, B, potenza"
   ]
  }
 ],
 "metadata": {
  "kernelspec": {
   "display_name": "Python 3 (ipykernel)",
   "language": "python",
   "name": "python3"
  },
  "language_info": {
   "codemirror_mode": {
    "name": "ipython",
    "version": 3
   },
   "file_extension": ".py",
   "mimetype": "text/x-python",
   "name": "python",
   "nbconvert_exporter": "python",
   "pygments_lexer": "ipython3",
   "version": "3.8.12"
  }
 },
 "nbformat": 4,
 "nbformat_minor": 4
}
