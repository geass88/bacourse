{
 "cells": [
  {
   "cell_type": "markdown",
   "metadata": {},
   "source": [
    "## Esercizio 38\n",
    "\n",
    "Scaricare il file disponibile al seguente link: https://raw.githubusercontent.com/pcm-dpc/COVID-19/master/dati-json/dpc-covid19-ita-regioni.json\n",
    "\n",
    "Scrivere una funzione che dato il nome di una regione disegni il grafico sull'andamento dei \"totale_positivi\" negli ultimi 7 giorni in quella regione."
   ]
  },
  {
   "cell_type": "code",
   "execution_count": null,
   "metadata": {},
   "outputs": [],
   "source": [
    "# ALERT: execute this cell to prepare input data!\n",
    "import requests\n",
    "def download(link, nomeFile=None):\n",
    "    if nomeFile == None:\n",
    "        nomeFile = link.split('/')[-1]\n",
    "    richiesta = requests.get(link)\n",
    "    if richiesta.status_code == 200:\n",
    "        with open(nomeFile, 'w') as file:\n",
    "            file.write(richiesta.text)         \n",
    "download('https://raw.githubusercontent.com/pcm-dpc/COVID-19/master/dati-json/dpc-covid19-ita-regioni.json', 'dati.json')"
   ]
  },
  {
   "cell_type": "code",
   "execution_count": null,
   "metadata": {},
   "outputs": [],
   "source": [
    "import json\n",
    "import matplotlib.pyplot as plt\n",
    "\n",
    "def disegna(D, regione):\n",
    "    x = list(range(1, 8))\n",
    "    y = []\n",
    "    \n",
    "    for d in D:\n",
    "        if d['denominazione_regione'] == regione:\n",
    "            y.append(d['totale_positivi'])\n",
    "    plt.plot(x, y[-7:])\n",
    "    plt.xlabel('Giorni')\n",
    "    plt.ylabel('Totale positivi')\n",
    "    plt.title('Positivi ultimi 7 giorni nella regione '+ regione)\n",
    "    plt.show()\n",
    "\n",
    "\n",
    "with open('dati.json', 'r') as file:\n",
    "    D = json.load(file)\n",
    "r = input('Inserisci nome della regione: ')\n",
    "\n",
    "disegna(D, r)"
   ]
  },
  {
   "cell_type": "code",
   "execution_count": null,
   "metadata": {},
   "outputs": [],
   "source": [
    "# disegna il grafico di tutte le regioni\n",
    "\n",
    "import json\n",
    "import matplotlib.pyplot as plt\n",
    "\n",
    "def disegna(D, regione):\n",
    "    x = []\n",
    "    y = []\n",
    "    \n",
    "    for d in D:\n",
    "        if d['denominazione_regione'] == regione:\n",
    "            x.append(d['data'][5:10])\n",
    "            y.append(d['totale_positivi'])\n",
    "    plt.plot(x[-7:], y[-7:])\n",
    "    plt.xlabel('Giorni')\n",
    "    plt.ylabel('Totale positivi')\n",
    "    plt.title('Positivi ultimi 7 giorni nella regione '+ regione)\n",
    "    plt.show()\n",
    "\n",
    "\n",
    "with open('dati.json', 'r') as file:\n",
    "    D = json.load(file)\n",
    "\n",
    "REGIONI = set()\n",
    "for i in D:\n",
    "    REGIONI.add(i['denominazione_regione'])\n",
    "\n",
    "for r in REGIONI:\n",
    "    disegna(D, r)\n"
   ]
  },
  {
   "cell_type": "code",
   "execution_count": null,
   "metadata": {},
   "outputs": [],
   "source": []
  }
 ],
 "metadata": {
  "kernelspec": {
   "display_name": "Python 3 (ipykernel)",
   "language": "python",
   "name": "python3"
  },
  "language_info": {
   "codemirror_mode": {
    "name": "ipython",
    "version": 3
   },
   "file_extension": ".py",
   "mimetype": "text/x-python",
   "name": "python",
   "nbconvert_exporter": "python",
   "pygments_lexer": "ipython3",
   "version": "3.8.12"
  }
 },
 "nbformat": 4,
 "nbformat_minor": 4
}
