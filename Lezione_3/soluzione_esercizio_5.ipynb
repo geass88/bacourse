{
 "cells": [
  {
   "cell_type": "markdown",
   "metadata": {},
   "source": [
    "## Esercizio 5"
   ]
  },
  {
   "cell_type": "markdown",
   "metadata": {},
   "source": [
    "#### - dato un carattere in input verificare se è una vocale"
   ]
  },
  {
   "cell_type": "code",
   "execution_count": null,
   "metadata": {},
   "outputs": [],
   "source": [
    "# SOLUZIONE 1\n",
    "\n",
    "carattere = input('Inserisci un singolo carattere: ')\n",
    "\n",
    "if len(carattere) != 1:\n",
    "    print('Input non valido')\n",
    "elif carattere == 'a' or carattere == 'e' or carattere == 'i' or carattere == 'o' or carattere == 'u' or carattere == 'A' or carattere == 'E' or carattere == 'I' or carattere == 'O' or carattere == 'U':\n",
    "    print(carattere + ' è una vocale')\n",
    "else:\n",
    "    print(carattere + ' non è una vocale')\n",
    "del carattere"
   ]
  },
  {
   "cell_type": "code",
   "execution_count": null,
   "metadata": {},
   "outputs": [],
   "source": [
    "# SOLUZIONE 2\n",
    "\n",
    "carattere = input('Inserisci un singolo carattere: ')\n",
    "\n",
    "if len(carattere) != 1:\n",
    "    print('Input non valido')\n",
    "elif carattere == 'a':\n",
    "    print(carattere + ' è una vocale')\n",
    "elif carattere == 'e':\n",
    "    print(carattere + ' è una vocale')\n",
    "elif carattere == 'i':\n",
    "    print(carattere + ' è una vocale')\n",
    "elif carattere == 'o':\n",
    "    print(carattere + ' è una vocale')\n",
    "elif carattere == 'u':\n",
    "    print(carattere + ' è una vocale')\n",
    "elif carattere == 'A':\n",
    "    print(carattere + ' è una vocale')\n",
    "elif carattere == 'E':\n",
    "    print(carattere + ' è una vocale')\n",
    "elif carattere == 'I':\n",
    "    print(carattere + ' è una vocale')\n",
    "elif carattere == 'O':\n",
    "    print(carattere + ' è una vocale')\n",
    "elif carattere == 'U':\n",
    "    print(carattere + ' è una vocale')\n",
    "else:\n",
    "    print(carattere + ' non è una vocale')\n",
    "del carattere"
   ]
  },
  {
   "cell_type": "code",
   "execution_count": null,
   "metadata": {},
   "outputs": [],
   "source": [
    "# SOLUZIONE 3\n",
    "\n",
    "carattere = input('Inserisci un singolo carattere: ')\n",
    "\n",
    "if len(carattere) != 1: \n",
    "    print('Input non valido')\n",
    "elif carattere in 'aeiouAEIOU':\n",
    "    print(carattere + ' è una vocale')\n",
    "else:\n",
    "    print(carattere + ' non è una vocale')\n",
    "del carattere"
   ]
  },
  {
   "cell_type": "code",
   "execution_count": null,
   "metadata": {},
   "outputs": [],
   "source": []
  }
 ],
 "metadata": {
  "kernelspec": {
   "display_name": "Python 3 (ipykernel)",
   "language": "python",
   "name": "python3"
  },
  "language_info": {
   "codemirror_mode": {
    "name": "ipython",
    "version": 3
   },
   "file_extension": ".py",
   "mimetype": "text/x-python",
   "name": "python",
   "nbconvert_exporter": "python",
   "pygments_lexer": "ipython3",
   "version": "3.8.12"
  }
 },
 "nbformat": 4,
 "nbformat_minor": 4
}
