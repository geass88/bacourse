{
 "cells": [
  {
   "cell_type": "markdown",
   "metadata": {},
   "source": [
    "# The knapsack problem\n",
    "\n",
    "In the knapsack problem, you need to pack a set of items $N = \\{1, \\dots, n\\}$, with given values and sizes (such as weights or volumes), into a container with a maximum capacity. If the total size of the items exceeds the capacity, you can't pack them all. In that case, the problem is to choose a subset of the items of maximum total value that will fit in the container.\n",
    "\n",
    "<img src=\"https://www.tommasoadamo.it/images/lez18/image.png\" width=\"400px\" />\n",
    "\n",
    "* The 0/1 knapsack problem: we can't break items.\n",
    "\\begin{align}\n",
    "\\max \\quad& \\sum\\limits_{i \\in N} c_i x_i\\\\\n",
    "\\quad& \\sum\\limits_{i \\in N} w_i x_i \\leq W\\\\\n",
    "\\quad& x_i \\in \\{0,1\\} & i \\in N\n",
    "\\end{align}"
   ]
  },
  {
   "cell_type": "code",
   "execution_count": null,
   "metadata": {},
   "outputs": [],
   "source": [
    "# ALERT: execute this cell to prepare input data!\n",
    "import requests\n",
    "def download(link, nomeFile=None):\n",
    "    if nomeFile == None:\n",
    "        nomeFile = link.split('/')[-1]\n",
    "    richiesta = requests.get(link)\n",
    "    if richiesta.status_code == 200:\n",
    "        with open(nomeFile, 'w') as file:\n",
    "            file.write(richiesta.text)\n",
    "            \n",
    "download('https://tommasoadamo.it/data/oggetti.json')"
   ]
  },
  {
   "cell_type": "code",
   "execution_count": null,
   "metadata": {},
   "outputs": [],
   "source": [
    "# ALERT: execute this cell to install DOcplex! \n",
    "!pip install docplex cplex"
   ]
  },
  {
   "cell_type": "code",
   "execution_count": null,
   "metadata": {},
   "outputs": [],
   "source": [
    "import docplex.mp.model as cplex\n",
    "import json\n",
    "\n",
    "with open('oggetti.json', 'r') as file:\n",
    "    dati = json.load(file)\n",
    "\n",
    "W = dati['zaino']['capacita']\n",
    "n = len(dati['oggetti'])\n",
    "\n",
    "w = []\n",
    "c = []\n",
    "\n",
    "for oggetto in dati['oggetti']:\n",
    "    c.append(oggetto['costo'])\n",
    "    w.append(oggetto['peso'])\n",
    "\n",
    "N = list(range(n))\n",
    "\n",
    "with cplex.Model(\"0/1 knapsack\") as mdl:\n",
    "    x = mdl.binary_var_list(N, name=\"x\")\n",
    "\n",
    "    mdl.add_constraint(sum(w[i] * x[i] for i in N) <= W)\n",
    "    \n",
    "    mdl.maximize(sum(c[i] * x[i] for i in N))\n",
    "        \n",
    "    mdl.print_information()\n",
    "    sol = mdl.solve(log_output=True)\n",
    "    \n",
    "    if sol == None:\n",
    "        print('No solution.')\n",
    "    else:\n",
    "        print(sol)\n",
    "        \n",
    "        packed_items = [i for i in N if x[i].solution_value == 1]\n",
    "        print('Packed items: ' + str(packed_items))\n",
    "        tw = sum(w[i] for i in packed_items)\n",
    "        print('Total weight:', tw)\n",
    "        print('Total cost:', sol.objective_value)"
   ]
  },
  {
   "cell_type": "code",
   "execution_count": null,
   "metadata": {},
   "outputs": [],
   "source": []
  }
 ],
 "metadata": {
  "kernelspec": {
   "display_name": "Python 3 (ipykernel)",
   "language": "python",
   "name": "python3"
  },
  "language_info": {
   "codemirror_mode": {
    "name": "ipython",
    "version": 3
   },
   "file_extension": ".py",
   "mimetype": "text/x-python",
   "name": "python",
   "nbconvert_exporter": "python",
   "pygments_lexer": "ipython3",
   "version": "3.8.12"
  }
 },
 "nbformat": 4,
 "nbformat_minor": 4
}
