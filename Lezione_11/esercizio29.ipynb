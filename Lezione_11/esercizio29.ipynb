{
 "cells": [
  {
   "cell_type": "markdown",
   "metadata": {},
   "source": [
    "## Esercizio 29\n",
    "\n",
    "#### Scrivere una funzione che data una lista di numeri li disponga in ordine crescente.\n",
    "\n",
    "Esempio:\n",
    "\n",
    "> lista = [ 20, 50, 10, 70, 90, 30, 20, 0]\n",
    "\n",
    "* ordina(lista) ritorna [ 0, 10, 20, 20, 30, 50, 70, 90 ]"
   ]
  },
  {
   "cell_type": "code",
   "execution_count": null,
   "metadata": {},
   "outputs": [],
   "source": [
    "def ordina(lista):    \n",
    "    for i in range(len(lista)):\n",
    "        for j in range(i+1, len(lista)):\n",
    "            if lista[i] > lista[j]:\n",
    "                C = lista[i]\n",
    "                lista[i] = lista[j]\n",
    "                lista[j] = C\n",
    "\n",
    "lista = [ 20, 50, 10, 70, 90, 30, 20, 0]\n",
    "ordina(lista)\n",
    "print(lista)"
   ]
  }
 ],
 "metadata": {
  "kernelspec": {
   "display_name": "Python 3 (ipykernel)",
   "language": "python",
   "name": "python3"
  },
  "language_info": {
   "codemirror_mode": {
    "name": "ipython",
    "version": 3
   },
   "file_extension": ".py",
   "mimetype": "text/x-python",
   "name": "python",
   "nbconvert_exporter": "python",
   "pygments_lexer": "ipython3",
   "version": "3.8.12"
  }
 },
 "nbformat": 4,
 "nbformat_minor": 4
}
