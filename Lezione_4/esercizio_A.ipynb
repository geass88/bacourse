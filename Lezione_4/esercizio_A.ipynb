{
 "cells": [
  {
   "cell_type": "markdown",
   "id": "electrical-industry",
   "metadata": {},
   "source": [
    "## Esercizio A\n",
    "\n",
    "#### - Sul prezzo di un prodotto viene praticato lo sconto del 3% se costa meno di 500 euro e del 5% per prezzi superiori a 500 euro. Calcolare il prezzo da pagare."
   ]
  },
  {
   "cell_type": "code",
   "execution_count": null,
   "id": "entertaining-blame",
   "metadata": {},
   "outputs": [],
   "source": []
  }
 ],
 "metadata": {
   "kernelspec": {
     "display_name": "bacourse",
     "language": "python",
     "name": "bacourse"
   },
  "language_info": {
   "codemirror_mode": {
    "name": "ipython",
    "version": 3
   },
   "file_extension": ".py",
   "mimetype": "text/x-python",
   "name": "python",
   "nbconvert_exporter": "python",
   "pygments_lexer": "ipython3",
   "version": "3.8.12"
  }
 },
 "nbformat": 4,
 "nbformat_minor": 5
}
