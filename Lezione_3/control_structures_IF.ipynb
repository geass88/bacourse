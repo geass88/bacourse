{
 "cells": [
  {
   "cell_type": "markdown",
   "metadata": {},
   "source": [
    "# Control structures"
   ]
  },
  {
   "cell_type": "markdown",
   "metadata": {},
   "source": [
    "The <strong>structured program theorem</strong>, also called the Böhm–Jacopini theorem, is a result in programming language theory. It states that any algorithm can be realized combining only three specific control structures. These are:\n",
    "\n",
    "* Executing one instruction at a time (<strong>sequence</strong>)\n",
    "* Executing one of two blocks of code according to the value of a boolean expression (<strong>selection</strong>)\n",
    "* Repeatedly executing a block of code as long as a boolean expression is true (<strong>iteration</strong>)"
   ]
  },
  {
   "cell_type": "code",
   "execution_count": null,
   "metadata": {},
   "outputs": [],
   "source": []
  },
  {
   "cell_type": "markdown",
   "metadata": {},
   "source": [
    "<img src=\"https://www.tommasoadamo.it/images/lez3/sequence.svg\" style=\"margin:auto\"/>"
   ]
  },
  {
   "cell_type": "code",
   "execution_count": null,
   "metadata": {},
   "outputs": [],
   "source": []
  },
  {
   "cell_type": "markdown",
   "metadata": {},
   "source": [
    "<img src=\"https://www.tommasoadamo.it/images/lez3/image1.png\" style=\"margin: auto\"/>"
   ]
  },
  {
   "cell_type": "code",
   "execution_count": null,
   "metadata": {},
   "outputs": [],
   "source": []
  },
  {
   "cell_type": "markdown",
   "metadata": {},
   "source": [
    "<table class=\"topbot-d\">\n",
    "<colgroup class=\"calibre13\">\n",
    "<col class=\"calibre18\">\n",
    "<col class=\"calibre18\">\n",
    "</colgroup>\n",
    "<caption>Comparison operators</caption>\n",
    "<thead class=\"calibre15\">\n",
    "<tr class=\"calibre16\">\n",
    "<td class=\"table-h\"><p class=\"tab_th\"><strong class=\"calibre4\">Operator</strong></p></td>\n",
    "<td class=\"table-h\"><p class=\"tab_th\"><strong class=\"calibre4\">Meaning</strong></p></td>\n",
    "</tr>\n",
    "</thead>\n",
    "<tbody class=\"calibre17\">\n",
    "<tr class=\"calibre16\">\n",
    "<td class=\"table-b\"><p class=\"taba\"><span class=\"literal\">==</span></p></td>\n",
    "<td class=\"table-b\"><p class=\"taba\">Equal to</p></td>\n",
    "</tr>\n",
    "<tr class=\"calibre16\">\n",
    "<td class=\"table-v\"><p class=\"taba\"><span class=\"literal\">!=</span></p></td>\n",
    "<td class=\"table-v\"><p class=\"taba\">Not equal to</p></td>\n",
    "</tr>\n",
    "<tr class=\"calibre16\">\n",
    "<td class=\"table-b\"><p class=\"taba\"><span class=\"literal\">&lt;</span></p></td>\n",
    "<td class=\"table-b\"><p class=\"taba\">Less than</p></td>\n",
    "</tr>\n",
    "<tr class=\"calibre16\">\n",
    "<td class=\"table-v\"><p class=\"taba\"><span class=\"literal\">&gt;</span></p></td>\n",
    "<td class=\"table-v\"><p class=\"taba\">Greater than</p></td>\n",
    "</tr>\n",
    "<tr class=\"calibre16\">\n",
    "<td class=\"table-b\"><p class=\"taba\"><span class=\"literal\">&lt;=</span></p></td>\n",
    "<td class=\"table-b\"><p class=\"taba\">Less than or equal to</p></td>\n",
    "</tr>\n",
    "<tr class=\"calibre16\">\n",
    "<td class=\"table-va\"><p class=\"taba\"><span class=\"literal\">&gt;=</span></p></td>\n",
    "<td class=\"table-va\"><p class=\"taba\">Greater than or equal to</p></td>\n",
    "</tr>\n",
    "</tbody>\n",
    "</table>"
   ]
  },
  {
   "cell_type": "code",
   "execution_count": null,
   "metadata": {},
   "outputs": [],
   "source": []
  },
  {
   "cell_type": "markdown",
   "metadata": {},
   "source": [
    "<div style=\"display:table; margin:auto;\">\n",
    "<table class=\"topbot-d\" style=\"float:left;\">\n",
    "<colgroup class=\"calibre13\">\n",
    "<col class=\"calibre18\">\n",
    "<col class=\"calibre18\">\n",
    "</colgroup>\n",
    "<caption>The <b>and</b> operator's truth table</caption>\n",
    "<thead class=\"calibre15\">\n",
    "<tr class=\"calibre16\">\n",
    "<td class=\"table-h\"><p class=\"tab_th\"><strong class=\"calibre4\">Expression</strong></p></td>\n",
    "<td class=\"table-h\"><p class=\"tab_th\"><strong class=\"calibre4\">Evaluates to . . .</strong></p></td>\n",
    "</tr>\n",
    "</thead>\n",
    "<tbody class=\"calibre17\">\n",
    "<tr class=\"calibre16\">\n",
    "<td class=\"table-b\"><p class=\"taba\"><span class=\"literal\">True and True</span></p></td>\n",
    "<td class=\"table-b\"><p class=\"taba\"><span class=\"literal\">True</span></p></td>\n",
    "</tr>\n",
    "<tr class=\"calibre16\">\n",
    "<td class=\"table-b\"><p class=\"taba\"><span class=\"literal\">True and False</span></p></td>\n",
    "<td class=\"table-b\"><p class=\"taba\"><span class=\"literal\">False</span></p></td>\n",
    "</tr>\n",
    "<tr class=\"calibre16\">\n",
    "<td class=\"table-b\"><p class=\"taba\"><span class=\"literal\">False and True</span></p></td>\n",
    "<td class=\"table-b\"><p class=\"taba\"><span class=\"literal\">False</span></p></td>\n",
    "</tr>\n",
    "<tr class=\"calibre16\">\n",
    "<td class=\"table-ba\"><p class=\"taba\"><span class=\"literal\">False and False</span></p></td>\n",
    "<td class=\"table-ba\"><p class=\"taba\"><span class=\"literal\">False</span></p></td>\n",
    "</tr>\n",
    "</tbody>\n",
    "</table>\n",
    "<table class=\"topbot-d\" style=\"float:left;margin-right:30px; margin-left:30px\">\n",
    "<colgroup class=\"calibre13\">\n",
    "<col class=\"calibre18\">\n",
    "<col class=\"calibre18\">\n",
    "</colgroup>\n",
    "<caption>The <b>or</b> operator's truth table</caption>\n",
    "<thead class=\"calibre15\">\n",
    "<tr class=\"calibre16\">\n",
    "<td class=\"table-h\"><p class=\"tab_th\"><strong class=\"calibre4\">Expression</strong></p></td>\n",
    "<td class=\"table-h\"><p class=\"tab_th\"><strong class=\"calibre4\">Evaluates to . . .</strong></p></td>\n",
    "</tr>\n",
    "</thead>\n",
    "<tbody class=\"calibre17\">\n",
    "<tr class=\"calibre16\">\n",
    "<td class=\"table-b\"><p class=\"taba\"><span class=\"literal\">True or True</span></p></td>\n",
    "<td class=\"table-b\"><p class=\"taba\"><span class=\"literal\">True</span></p></td>\n",
    "</tr>\n",
    "<tr class=\"calibre16\">\n",
    "<td class=\"table-b\"><p class=\"taba\"><span class=\"literal\">True or False</span></p></td>\n",
    "<td class=\"table-b\"><p class=\"taba\"><span class=\"literal\">True</span></p></td>\n",
    "</tr>\n",
    "<tr class=\"calibre16\">\n",
    "<td class=\"table-b\"><p class=\"taba\"><span class=\"literal\">False or True</span></p></td>\n",
    "<td class=\"table-b\"><p class=\"taba\"><span class=\"literal\">True</span></p></td>\n",
    "</tr>\n",
    "<tr class=\"calibre16\">\n",
    "<td class=\"table-ba\"><p class=\"taba\"><span class=\"literal\">False or False</span></p></td>\n",
    "<td class=\"table-ba\"><p class=\"taba\"><span class=\"literal\">False</span></p></td>\n",
    "</tr>\n",
    "</tbody>\n",
    "</table>\n",
    "\n",
    "<table class=\"topbot-d\" style=\"float:left\">\n",
    "<colgroup class=\"calibre13\">\n",
    "<col class=\"calibre18\">\n",
    "<col class=\"calibre18\">\n",
    "</colgroup>\n",
    "<caption>The <b>not</b> operator's truth table</caption>\n",
    "<thead class=\"calibre15\">\n",
    "<tr class=\"calibre16\">\n",
    "<td class=\"table-h\"><p class=\"tab_th\"><strong class=\"calibre4\">Expression</strong></p></td>\n",
    "<td class=\"table-h\"><p class=\"tab_th\"><strong class=\"calibre4\">Evaluates to . . .</strong></p></td>\n",
    "</tr>\n",
    "</thead>\n",
    "<tbody class=\"calibre17\">\n",
    "<tr class=\"calibre16\">\n",
    "<td class=\"table-b\"><p class=\"taba\"><span class=\"literal\">not True</span></p></td>\n",
    "<td class=\"table-b\"><p class=\"taba\"><span class=\"literal\">False</span></p></td>\n",
    "</tr>\n",
    "<tr class=\"calibre16\">\n",
    "<td class=\"table-ba\"><p class=\"taba\"><span class=\"literal\">not False</span></p></td>\n",
    "<td class=\"table-ba\"><p class=\"taba\"><span class=\"literal\">True</span></p></td>\n",
    "</tr>\n",
    "</tbody>\n",
    "</table>\n",
    "</div>"
   ]
  },
  {
   "cell_type": "code",
   "execution_count": null,
   "metadata": {},
   "outputs": [],
   "source": [
    "(4 < 5) and (5 < 6)"
   ]
  },
  {
   "cell_type": "markdown",
   "metadata": {},
   "source": [
    "<img src=\"https://www.tommasoadamo.it/images/lez3/image6.png\" />"
   ]
  },
  {
   "cell_type": "code",
   "execution_count": null,
   "metadata": {},
   "outputs": [],
   "source": []
  },
  {
   "cell_type": "markdown",
   "metadata": {},
   "source": [
    "## Selection structure\n"
   ]
  },
  {
   "cell_type": "markdown",
   "metadata": {},
   "source": [
    "<img src=\"https://www.tommasoadamo.it/images/lez3/image7.png\" />"
   ]
  },
  {
   "cell_type": "code",
   "execution_count": null,
   "metadata": {},
   "outputs": [],
   "source": [
    "name = input('Who are you? ')\n",
    "\n",
    "if name == 'Alice':\n",
    "    print('Hi, Alice.')"
   ]
  },
  {
   "cell_type": "markdown",
   "metadata": {},
   "source": [
    "<img src=\"https://www.tommasoadamo.it/images/lez3/image8.png\" />"
   ]
  },
  {
   "cell_type": "code",
   "execution_count": null,
   "metadata": {},
   "outputs": [],
   "source": [
    "name = input('Who are you? ')\n",
    "\n",
    "if name == 'Alice':\n",
    "    print('Hi, Alice.')\n",
    "else:\n",
    "    print('Hello, stranger.')"
   ]
  },
  {
   "cell_type": "markdown",
   "metadata": {},
   "source": [
    "<img src=\"https://www.tommasoadamo.it/images/lez3/image9.png\" />"
   ]
  },
  {
   "cell_type": "code",
   "execution_count": null,
   "metadata": {},
   "outputs": [],
   "source": [
    "name = input('Who are you? ')\n",
    "age = int(input('How old are you?'))\n",
    "\n",
    "if name == 'Alice':\n",
    "    print('Hi, Alice.')\n",
    "else:\n",
    "    if age < 12:\n",
    "        print('You are not Alice, kiddo.')"
   ]
  },
  {
   "cell_type": "code",
   "execution_count": null,
   "metadata": {},
   "outputs": [],
   "source": [
    "# in questo modo evito di chiedere l'età di Alice\n",
    "name = input('Who are you? ')\n",
    "\n",
    "if name == 'Alice':\n",
    "    print('Hi, Alice.')\n",
    "else:\n",
    "    age = int(input('How old are you?'))\n",
    "    if age < 12:\n",
    "        print('You are not Alice, kiddo.')"
   ]
  },
  {
   "cell_type": "markdown",
   "metadata": {},
   "source": [
    "<img src=\"https://www.tommasoadamo.it/images/lez3/image10.png\" />"
   ]
  },
  {
   "cell_type": "code",
   "execution_count": null,
   "metadata": {},
   "outputs": [],
   "source": [
    "name = input('Who are you? ')\n",
    "age = int(input('How old are you?'))\n",
    "\n",
    "if name == 'Alice':\n",
    "    print('Hi, Alice.')\n",
    "else:    \n",
    "    if age < 12:\n",
    "        print('You are not Alice, kiddo.')\n",
    "    else:\n",
    "        if age > 2000:\n",
    "            print('Unlike you, Alice is not an undead, immortal vampire.')\n",
    "        else:\n",
    "            if age > 100:\n",
    "                print('You are not Alice, grannie.')"
   ]
  },
  {
   "cell_type": "code",
   "execution_count": null,
   "metadata": {},
   "outputs": [],
   "source": [
    "# equivalent formulation with elif statement\n",
    "\n",
    "name = input('Who are you? ')\n",
    "age = int(input('How old are you?'))\n",
    "\n",
    "if name == 'Alice':\n",
    "    print('Hi, Alice.')\n",
    "elif age < 12:\n",
    "    print('You are not Alice, kiddo.')\n",
    "elif age > 2000:\n",
    "    print('Unlike you, Alice is not an undead, immortal vampire.')\n",
    "elif age > 100:\n",
    "    print('You are not Alice, grannie.')"
   ]
  },
  {
   "cell_type": "markdown",
   "metadata": {},
   "source": [
    "<img src=\"https://www.tommasoadamo.it/images/lez3/image11.png\" />"
   ]
  },
  {
   "cell_type": "code",
   "execution_count": null,
   "metadata": {},
   "outputs": [],
   "source": [
    "# the age > 2000 block is never reached!\n",
    "\n",
    "name = input('Who are you? ')\n",
    "age = int(input('How old are you?'))\n",
    "\n",
    "if name == 'Alice':\n",
    "    print('Hi, Alice.')\n",
    "elif age < 12:\n",
    "    print('You are not Alice, kiddo.')\n",
    "elif age > 100:\n",
    "    print('You are not Alice, grannie.')\n",
    "elif age > 2000:\n",
    "    print('Unlike you, Alice is not an undead, immortal vampire.')"
   ]
  },
  {
   "cell_type": "markdown",
   "metadata": {},
   "source": [
    "<img src=\"https://www.tommasoadamo.it/images/lez3/image12.png\" />"
   ]
  },
  {
   "cell_type": "code",
   "execution_count": null,
   "metadata": {},
   "outputs": [],
   "source": [
    "name = input('Who are you? ')\n",
    "age = int(input('How old are you?'))\n",
    "\n",
    "if name == 'Alice':\n",
    "    print('Hi, Alice.')\n",
    "elif age < 12:\n",
    "    print('You are not Alice, kiddo.')\n",
    "else:\n",
    "    print('You are neither Alice nor a little kid.')"
   ]
  },
  {
   "cell_type": "code",
   "execution_count": null,
   "metadata": {},
   "outputs": [],
   "source": []
  },
  {
   "cell_type": "markdown",
   "metadata": {},
   "source": [
    "## Esempio 1\n",
    "\n",
    "Dati in input due numeri disporli in ordine crescente"
   ]
  },
  {
   "cell_type": "code",
   "execution_count": null,
   "metadata": {},
   "outputs": [],
   "source": [
    "A = float(input('Inserisci il primo numero: '))\n",
    "B = float(input('Inserisci il secondo numero: '))\n",
    "\n",
    "if A >= B:\n",
    "    minore = B\n",
    "    maggiore = A\n",
    "else:\n",
    "    minore = A\n",
    "    maggiore = B\n",
    "print('Minore=' + str(minore) + ' maggiore=' + str(maggiore))"
   ]
  }
 ],
 "metadata": {
  "kernelspec": {
   "display_name": "Python 3 (ipykernel)",
   "language": "python",
   "name": "python3"
  },
  "language_info": {
   "codemirror_mode": {
    "name": "ipython",
    "version": 3
   },
   "file_extension": ".py",
   "mimetype": "text/x-python",
   "name": "python",
   "nbconvert_exporter": "python",
   "pygments_lexer": "ipython3",
   "version": "3.8.12"
  }
 },
 "nbformat": 4,
 "nbformat_minor": 4
}
