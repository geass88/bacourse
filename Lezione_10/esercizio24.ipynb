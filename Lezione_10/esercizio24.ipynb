{
 "cells": [
  {
   "cell_type": "markdown",
   "metadata": {},
   "source": [
    "## Esercizio 24\n",
    "\n",
    "#### Calcolare la somma di tutti i numeri che vanno da 1 a N (incluso) utilizzando la definizione ricorsiva seguente:\n",
    "\n",
    "> $\\large \\sum\\limits_{k = 1}^1 k= 1$\n",
    "\n",
    "> $\\large \\sum\\limits_{k = 1}^N k= N+\\sum\\limits_{k = 1}^{N-1} {k}$ \n",
    "\n",
    "Per il test di correttezza dell'algoritmo si può usare la formula (già introdotta nell'esercizio 9):\n",
    "\n",
    "> $\\large \\sum\\limits_{k=1}^{N} k = N \\dfrac{N+1}{2} $"
   ]
  },
  {
   "cell_type": "code",
   "execution_count": null,
   "metadata": {},
   "outputs": [],
   "source": []
  }
 ],
 "metadata": {
  "kernelspec": {
   "display_name": "bacourse",
   "language": "python",
   "name": "bacourse"
  },
  "language_info": {
   "codemirror_mode": {
    "name": "ipython",
    "version": 3
   },
   "file_extension": ".py",
   "mimetype": "text/x-python",
   "name": "python",
   "nbconvert_exporter": "python",
   "pygments_lexer": "ipython3",
   "version": "3.8.12"
  }
 },
 "nbformat": 4,
 "nbformat_minor": 4
}
