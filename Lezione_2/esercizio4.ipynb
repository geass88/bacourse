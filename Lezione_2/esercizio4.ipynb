{
 "cells": [
  {
   "cell_type": "markdown",
   "metadata": {},
   "source": [
    "## Esercizio 4"
   ]
  },
  {
   "cell_type": "markdown",
   "metadata": {},
   "source": [
    "#### - date in input le misure di 3 angoli espresse in secondi (interi) determinare l'angolo risultante dalla loro somma in forma normale (gradi, primi e secondi)\n",
    "\n",
    "Esempio:\n",
    "\n",
    "$20000'' + 5000'' + 156'' = 6^\\circ \\ 59' \\ 16''$"
   ]
  },
  {
   "cell_type": "code",
   "execution_count": null,
   "metadata": {},
   "outputs": [],
   "source": []
  }
 ],
 "metadata": {
   "kernelspec": {
     "display_name": "bacourse",
     "language": "python",
     "name": "bacourse"
   },
  "language_info": {
   "codemirror_mode": {
    "name": "ipython",
    "version": 3
   },
   "file_extension": ".py",
   "mimetype": "text/x-python",
   "name": "python",
   "nbconvert_exporter": "python",
   "pygments_lexer": "ipython3",
   "version": "3.8.12"
  }
 },
 "nbformat": 4,
 "nbformat_minor": 4
}
