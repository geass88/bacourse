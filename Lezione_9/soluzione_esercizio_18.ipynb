{
 "cells": [
  {
   "cell_type": "markdown",
   "id": "impossible-batman",
   "metadata": {},
   "source": [
    "## Esercizio 18 \n",
    "\n",
    "#### Scrivere una funzione che presa una stringa binaria restituisca il corrispondente numero decimale.\n",
    "\n",
    "Esempio:\n",
    "> $10101000_2 = 168_{10}$\n",
    "\n",
    "> $11101_2 = 29_{10}$"
   ]
  },
  {
   "cell_type": "code",
   "execution_count": null,
   "id": "specialized-subsection",
   "metadata": {},
   "outputs": [],
   "source": [
    "def binAdec(stringa):\n",
    "    N = 0\n",
    "    e = len(stringa) - 1\n",
    "    for c in stringa:\n",
    "        peso = 2 ** e\n",
    "        N = N + int(c) * peso\n",
    "        e -= 1\n",
    "    return N\n",
    "binario = input('inserisci valore: ')\n",
    "print(binAdec(binario))"
   ]
  },
  {
   "cell_type": "code",
   "execution_count": null,
   "id": "expressed-cover",
   "metadata": {},
   "outputs": [],
   "source": [
    "def binAdec(stringa):    \n",
    "    N = 0    \n",
    "    for i in range(len(stringa)):\n",
    "        peso = 2 ** (len(stringa) - 1 - i)\n",
    "        N = N + int(stringa[i]) * peso\n",
    "    return N\n",
    "print(binAdec('10101000'))\n",
    "print(binAdec('11101'))"
   ]
  },
  {
   "cell_type": "code",
   "execution_count": null,
   "id": "informal-prescription",
   "metadata": {},
   "outputs": [],
   "source": [
    "def binAdec(stringa):\n",
    "    N = 0\n",
    "    for i in range(len(stringa)):        \n",
    "        N += int(stringa[-i-1]) * 2 ** i        \n",
    "    return N\n",
    "    \n",
    "print(binAdec('10101000'))\n",
    "print(binAdec('11101'))"
   ]
  }
 ],
 "metadata": {
  "kernelspec": {
   "display_name": "Python 3 (ipykernel)",
   "language": "python",
   "name": "python3"
  },
  "language_info": {
   "codemirror_mode": {
    "name": "ipython",
    "version": 3
   },
   "file_extension": ".py",
   "mimetype": "text/x-python",
   "name": "python",
   "nbconvert_exporter": "python",
   "pygments_lexer": "ipython3",
   "version": "3.8.12"
  }
 },
 "nbformat": 4,
 "nbformat_minor": 5
}
