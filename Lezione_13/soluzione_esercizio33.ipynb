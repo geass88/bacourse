{
 "cells": [
  {
   "cell_type": "markdown",
   "metadata": {},
   "source": [
    "## Esercizio 33\n",
    "\n",
    "#### Scrivere una funzione che date due matrici calcoli il loro prodotto riga per colonna.\n",
    "\n",
    "Esempio:\n",
    "\n",
    "> $A = \\begin{bmatrix}\n",
    "1 & 2 & 3\\\\\n",
    "4 & 5 & 6\n",
    "\\end{bmatrix}$\n",
    "\n",
    "> $B = \\begin{bmatrix}\n",
    "3 & 0\\\\\n",
    "2 & -5\\\\\n",
    "1 & 4\n",
    "\\end{bmatrix}$\n",
    "\n",
    "* prodotto(A, B) ritorna: $  \\quad P=A \\times B = \\begin{bmatrix}\n",
    "10 & 2\\\\\n",
    "28 & -1\n",
    "\\end{bmatrix}$\n",
    "\n",
    "\n",
    "\\begin{align}\n",
    "P_{ij} = \\sum_k  A_{ik} \\cdot B_{kj}\n",
    "\\end{align}"
   ]
  },
  {
   "cell_type": "code",
   "execution_count": null,
   "metadata": {},
   "outputs": [],
   "source": [
    "def prodotto(A, B):\n",
    "    if len(A[0]) == len(B):\n",
    "        C = []\n",
    "        for i in range(len(A)):\n",
    "            C.append([])\n",
    "            for j in range(len(B[0])):\n",
    "                somma = 0\n",
    "                for k in range(len(B)):\n",
    "                    somma += A[i][k] * B[k][j]\n",
    "                C[i].append(somma)\n",
    "        return C\n",
    "\n",
    "A = [[1,2,3], [4,5,6]]\n",
    "B = [[3,0], [2,  -5], [1,4]]\n",
    "print(prodotto(A, B))"
   ]
  },
  {
   "cell_type": "code",
   "execution_count": null,
   "metadata": {},
   "outputs": [],
   "source": [
    "# alternativa con le comprensioni di lista\n",
    "def prodotto(A, B):\n",
    "    if len(A[0]) == len(B):\n",
    "        return [[sum([A[i][k] * B[k][j] for k in range(len(B))]) for j in range(len(B[0]))] for i in range(len(A))]\n",
    "    \n",
    "A = [[1,2,3], [4,5,6]]\n",
    "B = [[3,0], [2,  -5], [1,4]]\n",
    "print(prodotto(A, B))"
   ]
  }
 ],
 "metadata": {
  "kernelspec": {
   "display_name": "Python 3 (ipykernel)",
   "language": "python",
   "name": "python3"
  },
  "language_info": {
   "codemirror_mode": {
    "name": "ipython",
    "version": 3
   },
   "file_extension": ".py",
   "mimetype": "text/x-python",
   "name": "python",
   "nbconvert_exporter": "python",
   "pygments_lexer": "ipython3",
   "version": "3.8.12"
  }
 },
 "nbformat": 4,
 "nbformat_minor": 4
}
