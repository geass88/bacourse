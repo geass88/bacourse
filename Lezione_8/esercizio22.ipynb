{
 "cells": [
  {
   "cell_type": "markdown",
   "metadata": {},
   "source": [
    "## Esercizio 22\n",
    "\n",
    "#### Scrivere una funzione che presa una stringa esadecimale restituisca il corrispondente numero decimale.\n",
    "\n",
    "Esempio:\n",
    "> $\\text{A}8_{16} = 168_{10}$\n",
    "\n",
    "> $\\text{1DEA}_{16} = 7658_{10}$"
   ]
  },
  {
   "cell_type": "code",
   "execution_count": null,
   "metadata": {},
   "outputs": [],
   "source": []
  }
 ],
 "metadata": {
  "kernelspec": {
   "display_name": "bacourse",
   "language": "python",
   "name": "bacourse"
  },
  "language_info": {
   "codemirror_mode": {
    "name": "ipython",
    "version": 3
   },
   "file_extension": ".py",
   "mimetype": "text/x-python",
   "name": "python",
   "nbconvert_exporter": "python",
   "pygments_lexer": "ipython3",
   "version": "3.8.12"
  }
 },
 "nbformat": 4,
 "nbformat_minor": 4
}
