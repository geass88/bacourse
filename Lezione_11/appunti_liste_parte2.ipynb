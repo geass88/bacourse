{
 "cells": [
  {
   "cell_type": "markdown",
   "metadata": {
    "tags": []
   },
   "source": [
    "# References\n",
    "\n",
    "As you’ve seen, variables “store” values (strings, integers, floats or booleans). However, this explanation is a simplification of what Python is actually doing. Technically, variables are storing references to the computer memory locations where the values are stored. Enter the following into the interactive shell:\n"
   ]
  },
  {
   "cell_type": "code",
   "execution_count": null,
   "metadata": {},
   "outputs": [],
   "source": [
    "A = 10\n",
    "B = A\n",
    "A = 20\n",
    "print(\"A = \" + str(A))\n",
    "print(\"B = \" + str(B))"
   ]
  },
  {
   "cell_type": "markdown",
   "metadata": {},
   "source": [
    "When you assign 10 to the A variable, you are actually creating the 10 value in the computer’s memory and storing a reference to it in the A variable. When you copy the value in A and assign it to the variable B, you are actually copying the reference. Both the A and B variables refer to the 10 value in the computer’s memory. When you later change the value in A to 20, you’re creating a new 20 value and storing a reference to it in A. This doesn’t affect the value in B. Integers are immutable values that don’t change; changing the A variable is actually making it refer to a completely different value in memory.\n",
    "\n",
    "But lists don’t work this way, because list values can change; that is, lists are mutable."
   ]
  },
  {
   "cell_type": "code",
   "execution_count": null,
   "metadata": {},
   "outputs": [],
   "source": [
    "x = [0, 1, 2, 3, 4, 5]\n",
    "y = x           # The reference is being copied, not the list.\n",
    "y[1] = 'Hello!' # This changes the list value.\n",
    "print(x)\n",
    "print(y)        # The y variable refers to the same list."
   ]
  },
  {
   "cell_type": "markdown",
   "metadata": {},
   "source": [
    "<img src=\"https://www.tommasoadamo.it/images/lez11/references1.jpg\"/>"
   ]
  },
  {
   "cell_type": "markdown",
   "metadata": {},
   "source": [
    "When you create the list, you assign a reference to it in the x variable. But the next line copies only the list reference in x to y, not the list value itself. This means the values stored in x and y now both refer to the same list. There is only one underlying list because the list itself was never actually copied. So when you modify the first element of y, you are modifying the same list that x refers to."
   ]
  },
  {
   "cell_type": "markdown",
   "metadata": {},
   "source": [
    "<img src=\"https://www.tommasoadamo.it/images/lez11/references2.jpg\"/>"
   ]
  },
  {
   "cell_type": "markdown",
   "metadata": {},
   "source": [
    "## Passing References\n",
    "\n",
    "References are particularly important for understanding how arguments get passed to functions. When a function is called, the values of the arguments are copied to the parameter variables. For lists (sets, tuples and dictionaries), this means a copy of the reference is used for the parameter. "
   ]
  },
  {
   "cell_type": "code",
   "execution_count": null,
   "metadata": {},
   "outputs": [],
   "source": [
    "def function(someParameter):\n",
    "    someParameter.append('Hello')\n",
    "    #someParameter += ['Hello'] # equivalent to append\n",
    "    #someParameter = someParameter + ['Hello'] # not equivalent \n",
    "    #someParameter *= 3 # work on the original list\n",
    "    #someParameter = someParameter * 3 # create a copy of the list\n",
    "    \n",
    "x = [1, 2, 3]\n",
    "function(x)\n",
    "print(x)"
   ]
  },
  {
   "cell_type": "markdown",
   "metadata": {},
   "source": [
    "Notice that when function() is called, a return value is not used to assign a new value to x. Instead, it modifies the list in place, directly. When run, this program produces the following output:\n",
    "\n",
    "[1, 2, 3, 'Hello']\n",
    "\n",
    "Even though x and someParameter contain separate references, they both refer to the same list. This is why the append('Hello') method call inside the function affects the list even after the function call has returned.\n",
    "\n",
    "Keep this behavior in mind: forgetting that Python handles list and dictionary variables this way can lead to confusing bugs.\n",
    "\n",
    "Using the copy function is possible to clone a list:"
   ]
  },
  {
   "cell_type": "code",
   "execution_count": null,
   "metadata": {},
   "outputs": [],
   "source": [
    "x = ['A', 'B', 'C', 'D']\n",
    "y = x.copy()\n",
    "y[1] = 42\n",
    "print(x)\n",
    "print(y)"
   ]
  },
  {
   "cell_type": "markdown",
   "metadata": {},
   "source": [
    "<img src=\"https://www.tommasoadamo.it/images/lez11/copy.jpg\"/>\n",
    "\n",
    "Now the x and y variables refer to separate lists, which is why only the list in y is modified when you assign 42 at index 1."
   ]
  },
  {
   "cell_type": "markdown",
   "metadata": {},
   "source": [
    "# List Slices\n",
    "\n",
    "List slices provide a more advanced way of retrieving values from a list. Basic list slicing involves indexing a list with two colon-separated integers. This returns a new list containing all the values in the old list between the indices.\n",
    "Example:"
   ]
  },
  {
   "cell_type": "code",
   "execution_count": null,
   "metadata": {},
   "outputs": [],
   "source": [
    "squares = [0, 1, 4, 9, 16, 25, 36, 49, 64, 81]\n",
    "print(squares[2:6])\n",
    "print(squares[3:8])\n",
    "print(squares[0:1])"
   ]
  },
  {
   "cell_type": "markdown",
   "metadata": {},
   "source": [
    "Like the arguments to range, the first index provided in a slice is included in the result, but the second isn't.\n",
    "\n",
    "If the first number in a slice is omitted, it is taken to be the start of the list.\n",
    "If the second number is omitted, it is taken to be the end.\n",
    "\n",
    "Example:"
   ]
  },
  {
   "cell_type": "code",
   "execution_count": null,
   "metadata": {},
   "outputs": [],
   "source": [
    "squares = [0, 1, 4, 9, 16, 25, 36, 49, 64, 81]\n",
    "print(squares[:7])\n",
    "print(squares[7:])"
   ]
  },
  {
   "cell_type": "markdown",
   "metadata": {},
   "source": [
    "Slicing can also be done on tuples.\n",
    "\n",
    "List slices can also have a third number, representing the step, to include only alternate values in the slice."
   ]
  },
  {
   "cell_type": "code",
   "execution_count": null,
   "metadata": {},
   "outputs": [],
   "source": [
    "squares = [0, 1, 4, 9, 16, 25, 36, 49, 64, 81]\n",
    "print(squares[::2])\n",
    "print(squares[2:8:3])"
   ]
  },
  {
   "cell_type": "markdown",
   "metadata": {},
   "source": [
    "Negative values can be used in list slicing (and normal list indexing). When negative values are used for the first and second values in a slice (or a normal index), they count from the end of the list."
   ]
  },
  {
   "cell_type": "code",
   "execution_count": null,
   "metadata": {},
   "outputs": [],
   "source": [
    "squares = [0, 1, 4, 9, 16, 25, 36, 49, 64, 81]\n",
    "print(squares[1:-1])"
   ]
  },
  {
   "cell_type": "markdown",
   "metadata": {},
   "source": [
    "If a negative value is used for the step, the slice is done backwards.\n",
    "Using \\[ : : -1\\] as a slice is a common and idiomatic way to reverse a list."
   ]
  },
  {
   "cell_type": "code",
   "execution_count": null,
   "metadata": {},
   "outputs": [],
   "source": [
    "print(squares[::-1])"
   ]
  },
  {
   "cell_type": "markdown",
   "metadata": {
    "tags": []
   },
   "source": [
    "# List Comprehensions\n",
    "\n",
    "List comprehensions are a useful way of quickly creating lists whose contents obey a simple rule.\n",
    "For example, we can do the following:"
   ]
  },
  {
   "cell_type": "code",
   "execution_count": null,
   "metadata": {},
   "outputs": [],
   "source": [
    "# a list comprehension\n",
    "cubes = [i**3 for i in range(5)]\n",
    "\n",
    "print(cubes)"
   ]
  },
  {
   "cell_type": "markdown",
   "metadata": {},
   "source": [
    "List comprehensions are inspired by set-builder notation in mathematics.\n",
    "\n",
    "A list comprehension can also contain an if statement to enforce a condition on values in the list.\n",
    "\n",
    "Example:"
   ]
  },
  {
   "cell_type": "code",
   "execution_count": null,
   "metadata": {},
   "outputs": [],
   "source": [
    "evens=[i**2 for i in range(10) if i**2 % 2 == 0]\n",
    "\n",
    "print(evens)"
   ]
  },
  {
   "cell_type": "markdown",
   "metadata": {},
   "source": [
    "Trying to create a list in a very extensive range will result in a MemoryError.\n",
    "This code shows an example where the list comprehension runs out of memory."
   ]
  },
  {
   "cell_type": "code",
   "execution_count": null,
   "metadata": {},
   "outputs": [],
   "source": [
    "even = [2*i for i in range(10**100)]"
   ]
  },
  {
   "cell_type": "markdown",
   "metadata": {},
   "source": [
    "This issue is solved by generators."
   ]
  },
  {
   "cell_type": "markdown",
   "metadata": {},
   "source": [
    "# Numeric Functions\n",
    "\n",
    "* To find the maximum or minimum of some numbers or a list, you can use <b>max</b> or <b>min</b>.\n",
    "* To find the distance of a number from zero (its absolute value), use <b>abs</b>.\n",
    "* To round a number to a certain number of decimal places, use <b>round</b>.\n",
    "* To find the total of a list, use <b>sum</b>.\n",
    "\n",
    "Some examples:"
   ]
  },
  {
   "cell_type": "code",
   "execution_count": null,
   "metadata": {},
   "outputs": [],
   "source": [
    "print(min([1, 2, 3, 4, 0, 2, 1]))\n",
    "print(max([1, 4, 9, 2, 5, 6, 8]))\n",
    "print(abs(-99))\n",
    "print(abs(42))\n",
    "print(sum([1, 2, 3, 4, 5]))\n",
    "print(round(10.2408, 3))\n",
    "print(round(10.24))"
   ]
  },
  {
   "cell_type": "markdown",
   "metadata": {},
   "source": [
    "# Advanced List Functions\n",
    "\n",
    "There are a few more useful methods for lists.\n",
    "\n",
    "list.<b>count</b>(obj): Returns a count of how many times an item occurs in a list\n",
    "\n",
    "list.<b>remove</b>(obj): Removes an object from a list\n",
    "\n",
    "list.<b>reverse</b>(): Reverses objects in a list\n",
    "\n",
    "list.<b>sort</b>(): Sorts objects in a list\n",
    "\n",
    "list.<b>copy</b>(): Clone a list, equivalent to list[:]"
   ]
  },
  {
   "cell_type": "markdown",
   "metadata": {},
   "source": [
    "Often used in conditional statements, <b>all</b> and <b>any</b> take a list as an argument, and return True if all or any (respectively) of their arguments evaluate to True (and False otherwise).\n",
    "\n",
    "The function <b>enumerate</b> can be used to iterate through the values and indices of a list simultaneously.\n",
    "\n",
    "Example:"
   ]
  },
  {
   "cell_type": "code",
   "execution_count": null,
   "metadata": {},
   "outputs": [],
   "source": [
    "nums = [55, 44, 33, 22, 11]\n",
    "\n",
    "if all([i > 5 for i in nums]):\n",
    "    print(\"All larger than 5\")\n",
    "\n",
    "if any([i % 2 == 0 for i in nums]):\n",
    "    print(\"At least one is even\")\n",
    "\n",
    "# index, value pair\n",
    "for i, v in enumerate(nums):\n",
    "    print(v)"
   ]
  },
  {
   "cell_type": "markdown",
   "metadata": {},
   "source": [
    "# String Formatting\n",
    "\n",
    "So far, to combine strings and non-strings, you've converted the non-strings to strings and added them.\n",
    "String formatting provides a more powerful way to embed non-strings within strings. String formatting uses a string's format method to substitute a number of arguments in the string.\n",
    "\n",
    "Example:"
   ]
  },
  {
   "cell_type": "code",
   "execution_count": null,
   "metadata": {},
   "outputs": [],
   "source": [
    "# string formatting\n",
    "nums = [4, 5, 6]\n",
    "msg1 = \"Printing {} numbers: {} {} {}\\nFull list: {}\".format(len(nums), nums[0], nums[1], nums[2], nums) # automatic field numbering\n",
    "print(msg1)\n",
    "msg2 = \"Printing {2} for {0} {1}: {2} {2} {2}\".format(3, 'times', nums[1]) # manual field specification\n",
    "print(msg2)"
   ]
  },
  {
   "cell_type": "markdown",
   "metadata": {},
   "source": [
    "Each argument of the <b>format</b> method is placed in the string at the corresponding position, which is determined using the curly braces { }.\n",
    "\n",
    "String formatting can also be done with named arguments.\n",
    "\n",
    "Example:"
   ]
  },
  {
   "cell_type": "code",
   "execution_count": null,
   "metadata": {},
   "outputs": [],
   "source": [
    "a = \"{x}, {y}\".format(x=5, y=12) # named field mapping\n",
    "print(a)"
   ]
  },
  {
   "cell_type": "markdown",
   "metadata": {},
   "source": [
    "# String Functions\n",
    "\n",
    "Python contains many useful built-in functions and methods to accomplish common tasks.\n",
    "* <b>join</b> - joins a list of strings with another string as a separator.\n",
    "* <b>replace</b> - replaces one substring in a string with another.\n",
    "* <b>startswith</b> and <b>endswith</b> - determine if there is a substring at the start and end of a string, respectively.\n",
    "* <b>strip</b> - removes spaces at the beginning and at the end of a string.\n",
    "\n",
    "To change the case of a string, you can use <b>lower</b> and <b>upper</b>.\n",
    "\n",
    "The method <b>split</b> is the opposite of <b>join</b>, turning a string with a certain separator into a list.\n",
    "\n",
    "Some examples:"
   ]
  },
  {
   "cell_type": "code",
   "execution_count": null,
   "metadata": {},
   "outputs": [],
   "source": [
    "print(\", \".join([\"spam\", \"eggs\", \"ham\"]))\n",
    "#prints \"spam, eggs, ham\"\n",
    "\n",
    "print(\"Hello ME\".replace(\"ME\", \"world\"))\n",
    "#prints \"Hello world\"\n",
    "\n",
    "print(\"This is a sentence.\".startswith(\"This\"))\n",
    "# prints \"True\"\n",
    "\n",
    "print(\"This is a sentence.\".endswith(\"sentence.\"))\n",
    "# prints \"True\"\n",
    "\n",
    "print(\"This is a sentence.\".upper())\n",
    "# prints \"THIS IS A SENTENCE.\"\n",
    "\n",
    "print(\"AN ALL CAPS SENTENCE\".lower())\n",
    "#prints \"an all caps sentence\"\n",
    "\n",
    "print(\"spam, eggs, ham\".split(\", \"))\n",
    "#prints \"['spam', 'eggs', 'ham']\"\n",
    "\n",
    "print(\"    spam   \".strip())\n",
    "#prints \"spam\""
   ]
  },
  {
   "cell_type": "code",
   "execution_count": null,
   "metadata": {},
   "outputs": [],
   "source": [
    "# reverse a string using list methods\n",
    "s=\"ciao mondo\"\n",
    "a=list(s)\n",
    "a.reverse()\n",
    "print(''.join(a))"
   ]
  },
  {
   "cell_type": "code",
   "execution_count": null,
   "metadata": {},
   "outputs": [],
   "source": [
    "# reverse a string using slices\n",
    "s=\"ciao mondo\"\n",
    "print(s[::-1])"
   ]
  },
  {
   "cell_type": "code",
   "execution_count": null,
   "metadata": {},
   "outputs": [],
   "source": []
  }
 ],
 "metadata": {
  "kernelspec": {
   "display_name": "Python 3 (ipykernel)",
   "language": "python",
   "name": "python3"
  },
  "language_info": {
   "codemirror_mode": {
    "name": "ipython",
    "version": 3
   },
   "file_extension": ".py",
   "mimetype": "text/x-python",
   "name": "python",
   "nbconvert_exporter": "python",
   "pygments_lexer": "ipython3",
   "version": "3.8.12"
  }
 },
 "nbformat": 4,
 "nbformat_minor": 4
}
