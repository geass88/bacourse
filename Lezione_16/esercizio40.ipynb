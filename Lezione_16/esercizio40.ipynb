{
 "cells": [
  {
   "cell_type": "markdown",
   "metadata": {},
   "source": [
    "## Esercizio 40\n",
    "\n",
    "Un'industria manifatturiera può fabbricare 5 tipi di prodotti che indichiamo genericamente con P1, P2, P3, P4, P5 usando 2 processi di produzione che avvengono mediante l'uso di due macchine che indichiamo con M1 e M2. Dopo aver dedotto il costo del materiale grezzo, ciascuna unità di prodotto dà i seguenti profitti (in euro):\n",
    "\n",
    "\n",
    "<div style=\"text-align:center; display:block\">\n",
    "<table>\n",
    "    <caption><strong>Profitti</strong></caption>\n",
    "    <thead>\n",
    "        <tr>\n",
    "            <th>P1</th>\n",
    "            <th>P2</th>\n",
    "            <th>P3</th>\n",
    "            <th>P4</th>\n",
    "            <th>P5</th>\n",
    "        </tr>    \n",
    "    </thead>\n",
    "    <tbody>\n",
    "        <tr>\n",
    "            <td>250</td>\n",
    "            <td>300</td>\n",
    "            <td>500</td>\n",
    "            <td>450</td>\n",
    "            <td>180</td>\n",
    "        </tr>\n",
    "    </tbody>\n",
    "</table>\n",
    "</div>\n",
    "\n",
    "\n",
    "Ciascuna unità di prodotto richiede un certo tempo di ciascuno dei 2 processi; la tabella che segue riporta i tempi (in ore) di lavorazione di ciascuna macchina per ottenere una unità di ciascuno dei prodotti finiti.\n",
    "\n",
    "<div style=\"text-align:center; display:block\">\n",
    "<table>\n",
    "    <caption><strong>Tempi di produzione</strong></caption>\n",
    "    <thead>\n",
    "        <tr>\n",
    "            <th><sub>Macchina</sub>\\<sup>Prodotto</sup></th>\n",
    "            <th>P1</th>\n",
    "            <th>P2</th>\n",
    "            <th>P3</th>\n",
    "            <th>P4</th>\n",
    "            <th>P5</th>\n",
    "        </tr>    \n",
    "    </thead>\n",
    "    <tbody>\n",
    "        <tr>\n",
    "            <td>M1</td>\n",
    "            <td>10</td>\n",
    "            <td>15</td>\n",
    "            <td>7</td>\n",
    "            <td>18</td>\n",
    "            <td>-</td>\n",
    "        </tr>    \n",
    "        <tr>\n",
    "            <td>M2</td>\n",
    "            <td>9</td>\n",
    "            <td>13</td>\n",
    "            <td>20</td>\n",
    "            <td>-</td>\n",
    "            <td>20</td>\n",
    "        </tr>  \n",
    "    </tbody>\n",
    "</table>\n",
    "</div>\n",
    "\n",
    "Inoltre, l'assemblaggio finale per ciascuna unità di ciascun prodotto richiede 18 ore di lavoro di un operaio.\n",
    "La fabbrica possiede 4 macchine M1 e 3 macchine M2 che sono in funzione 5 giorni alla settimana per 2 turni di 8 ore al giorno. Gli operai impiegati nell'assemblaggio sono 10 e ciascuno di essi lavora 5 giorni alla settimana per un turno di 8 ore al giorno. Trovare la quantità che conviene produrre di ciascun prodotto per massimizzare il profitto totale."
   ]
  },
  {
   "cell_type": "markdown",
   "metadata": {},
   "source": [
    "\\begin{align}\n",
    "\\max \\quad & 250 x_1 + 300 x_2+ 500 x_3+450 x_4 + 180 x_5& \\\\\n",
    "s.t.\\quad & 10 x_1 + 15 x_2 + 7 x_3 + 18 x_4  \\leq 4 \\cdot 5 \\cdot 2 \\cdot 8&\\\\\n",
    "\\quad & 9 x_1  + 13 x_2 + 20 x_3 + 20 x_5 \\leq 3 \\cdot 5 \\cdot 2 \\cdot 8&\\\\\n",
    "\\quad & 18 \\ (x_1+x_2+x_3+x_4+x_5)  \\leq 10 \\cdot 5 \\cdot 8 & \\\\\n",
    "\\quad & x_i \\geq 0 \\qquad \\qquad i \\in \\{1,2,3,4,5\\}&\n",
    "\\end{align}\n"
   ]
  },
  {
   "cell_type": "code",
   "execution_count": null,
   "metadata": {},
   "outputs": [],
   "source": [
    "# ALERT: execute this cell to install DOcplex! \n",
    "!pip install docplex cplex"
   ]
  },
  {
   "cell_type": "code",
   "execution_count": null,
   "metadata": {},
   "outputs": [],
   "source": []
  }
 ],
 "metadata": {
  "kernelspec": {
   "display_name": "Python 3 (ipykernel)",
   "language": "python",
   "name": "python3"
  },
  "language_info": {
   "codemirror_mode": {
    "name": "ipython",
    "version": 3
   },
   "file_extension": ".py",
   "mimetype": "text/x-python",
   "name": "python",
   "nbconvert_exporter": "python",
   "pygments_lexer": "ipython3",
   "version": "3.8.12"
  }
 },
 "nbformat": 4,
 "nbformat_minor": 4
}
