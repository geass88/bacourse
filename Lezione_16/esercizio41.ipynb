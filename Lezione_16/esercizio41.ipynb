{
 "cells": [
  {
   "cell_type": "markdown",
   "metadata": {},
   "source": [
    "## Esercizio 41\n",
    "\n",
    "Un'industria produce 4 tipi di elettrodomestici E1, E2, E3, E4 ed è divisa in 3 reparti.\n",
    "\n",
    "Ciascun reparto può fabbricare ciascuno tipo di elettrodomestico. Questa industria dispone di 100 operai così ripartiti: 40 nel reparto 1, 35 nel reparto 2 e 25 nel reparto 3. Ciascun operaio lavora 5 giorni la settimana, per 8 ore al giorno. La tabella che segue riporta, per ciascun tipo di elettrodomestico e per ciascun reparto, il tempo di lavorazione (in ore) necessario per ottenere un elettrodomestico pronto per la vendita, insieme al prezzo di vendita unitario in euro.\n",
    "\n",
    "<div style=\"text-align:center; display:block\">\n",
    "<table>\n",
    "    <caption><strong>Tempi di lavorazione</strong></caption>\n",
    "    <thead>\n",
    "        <tr>\n",
    "            <th><sub>Reparto</sub>\\<sup>Elettrodomestico</sup></th>\n",
    "            <th>E1</th>\n",
    "            <th>E2</th>\n",
    "            <th>E3</th>\n",
    "            <th>E4</th>\n",
    "        </tr>    \n",
    "    </thead>\n",
    "    <tbody>\n",
    "        <tr>\n",
    "            <td>Reparto 1</td>\n",
    "            <td>1</td>\n",
    "            <td>1.5</td>\n",
    "            <td>0.5</td>\n",
    "            <td>1.6</td>\n",
    "        </tr>    \n",
    "        <tr>\n",
    "            <td>Reparto 2</td>\n",
    "            <td>1.2</td>\n",
    "            <td>1.3</td>\n",
    "            <td>0.6</td>\n",
    "            <td>1</td>\n",
    "        </tr>  \n",
    "        <tr>\n",
    "            <td>Reparto 3</td>\n",
    "            <td>0.8</td>\n",
    "            <td>1.7</td>\n",
    "            <td>0.7</td>\n",
    "            <td>1.3</td>\n",
    "        </tr>  \n",
    "    </tbody>\n",
    "    <tfoot>\n",
    "        <tr style=\"border-top: 1px solid #ccc;\">\n",
    "            <th>Prezzo di vendita</th>\n",
    "            <th>800</th>\n",
    "            <th>1200</th>\n",
    "            <th>950</th>\n",
    "            <th>1100</th>\n",
    "        </tr>\n",
    "    </tfoot>\n",
    "</table>\n",
    "</div>\n",
    "\n",
    "\n",
    "Questa industria deve pianificare la sua produzione settimanale, deve cioè determinare il numero di ciascuno degli elettrodomestici che deve essere fabbricato da ciascun reparto in modo da soddisfare un ordine di almeno 1000, 600, 300, 200 elettrodomestici rispettivamente del tipo E1, E2, E3, E4 e in modo da massimizzare il profitto complessivo ricavato dalla vendita.\n",
    "\n",
    "\n",
    "_Attenzione_: ciascun reparto è in grado di fornire prodotti finiti pronti per la vendita, cioè non è necessaria la lavorazione su tutti i reparti per ottenere un prodotto finito!!"
   ]
  },
  {
   "cell_type": "markdown",
   "metadata": {},
   "source": [
    "\\begin{align}\n",
    "\\max \\quad & 800 (x_{11}+x_{12}+x_{13}) + 1200 (x_{21}+x_{22}+x_{23}) + 950 (x_{31}+x_{32}+x_{33}) + 1100 (x_{41}+x_{42}+x_{43})& \\\\\n",
    "\\quad & 1 x_{11} + 1.5 x_{21} + 0.5 x_{31} + 1.6 x_{41} \\leq 40 \\cdot 40 &  \\\\\n",
    "\\quad & 1.2 x_{12} + 1.3 x_{22} + 0.6 x_{32} + 1 x_{42} \\leq 40 \\cdot 35 &  \\\\\n",
    "\\quad & 0.8 x_{13} + 1.7 x_{23} + 0.7 x_{33} + 1.3 x_{43}\\leq 40 \\cdot 25 &  \\\\\n",
    "\\quad & x_{11} + x_{12} + x_{13} \\geq 1000 & \\\\\n",
    "\\quad & x_{21} + x_{22} + x_{23} \\geq 600 & \\\\\n",
    "\\quad & x_{31} + x_{32} + x_{33} \\geq 300 & \\\\\n",
    "\\quad & x_{41} + x_{42} + x_{43} \\geq 200 & \\\\\n",
    "\\quad & x_{ij} \\geq 0 \\quad \\mbox{integer} \\qquad i \\in \\{1, 2, 3, 4\\}, j \\in \\{1, 2, 3\\}&\n",
    "\\end{align}"
   ]
  },
  {
   "cell_type": "code",
   "execution_count": null,
   "metadata": {},
   "outputs": [],
   "source": [
    "# ALERT: execute this cell to install DOcplex! \n",
    "!pip install docplex cplex"
   ]
  },
  {
   "cell_type": "code",
   "execution_count": null,
   "metadata": {},
   "outputs": [],
   "source": []
  }
 ],
 "metadata": {
  "kernelspec": {
   "display_name": "Python 3 (ipykernel)",
   "language": "python",
   "name": "python3"
  },
  "language_info": {
   "codemirror_mode": {
    "name": "ipython",
    "version": 3
   },
   "file_extension": ".py",
   "mimetype": "text/x-python",
   "name": "python",
   "nbconvert_exporter": "python",
   "pygments_lexer": "ipython3",
   "version": "3.8.12"
  }
 },
 "nbformat": 4,
 "nbformat_minor": 4
}
