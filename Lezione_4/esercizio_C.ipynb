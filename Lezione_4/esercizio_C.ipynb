{
 "cells": [
  {
   "cell_type": "markdown",
   "id": "compact-privilege",
   "metadata": {},
   "source": [
    "## Esercizio C\n",
    "#### - Date le equazioni di due rette nella forma y = **m**x+**q**, trovare le coordinate del punto di intersezione (NB: segnalare anche il caso di rette parallele e di rette coincidenti)."
   ]
  },
  {
   "cell_type": "code",
   "execution_count": null,
   "id": "solar-dress",
   "metadata": {},
   "outputs": [],
   "source": []
  }
 ],
 "metadata": {
   "kernelspec": {
     "display_name": "bacourse",
     "language": "python",
     "name": "bacourse"
   },
  "language_info": {
   "codemirror_mode": {
    "name": "ipython",
    "version": 3
   },
   "file_extension": ".py",
   "mimetype": "text/x-python",
   "name": "python",
   "nbconvert_exporter": "python",
   "pygments_lexer": "ipython3",
   "version": "3.8.12"
  }
 },
 "nbformat": 4,
 "nbformat_minor": 5
}
