{
 "cells": [
  {
   "cell_type": "markdown",
   "metadata": {},
   "source": [
    "# Network models\n",
    "\n",
    "In this topic, you’ll learn what a network model is, and how its structure can be exploited for more efficient solutions."
   ]
  },
  {
   "cell_type": "markdown",
   "metadata": {},
   "source": [
    "## Networks in real life\n",
    "\n",
    "Several problems encountered in Operations Research (OR) involve networks, such as:\n",
    "Distribution problems (for example, transportation networks)\n",
    "Assignment problems (for example, networks of workers and jobs they could be assigned to)\n",
    "Planning problems (for example, critical path analysis for project planning)\n",
    "\n",
    "Many network models are special LP problems for which specialized solution algorithms exist. \n",
    "\n",
    "It is important to know whether a problem can be formulated as a network model to exploit the special structure.\n",
    "\n",
    "This topic introduces networks in general, as well as some well-known instances of network models.\n",
    "\n",
    "## Network modeling concepts\n",
    "\n",
    "Any network structure can be described using two types of objects:\n",
    "\n",
    "- Nodes: Defined points in the network, for example warehouses.\n",
    "- Arcs: An arc connects two nodes, for example a road connecting two warehouses. \n",
    "\n",
    "An arc can be _directed_, which means than an arc $a_{ij}$ from node $i$ to node $j$ is different from arc $a_ji$ that begins at node $j$ and ends at node $i$.\n",
    "\n",
    "\n",
    "<img src = \"https://www.tommasoadamo.it/images/lez19/1_5.png\" >\n",
    "\n",
    "\n",
    " A sequence of arcs connecting two nodes is called a chain. Each arc in a chain shares exactly one node with the preceding arc.\n",
    "\n",
    " When all the arcs in a chain are directed such that it is possible to traverse the chain in the directions of the arcs from the start node to the end node, it is called a path.\n",
    "\n",
    "<img src = \"https://www.tommasoadamo.it/images/lez19/1_6.png\" >\n",
    " \n",
    "\n",
    "## Different types of network problems\n",
    "\n",
    "The following are some well-known types of network problems:\n",
    "- Transportation problem\n",
    "- Assignment problem\n",
    "- Shortest path problem\n",
    "\n",
    "Next, you'll learn how to recognize each of these, and how their special structure can be exploited."
   ]
  },
  {
   "cell_type": "markdown",
   "metadata": {},
   "source": [
    "## The Transportation Problem\n",
    "\n",
    "One of the most common real-world network problems is the transportation problem.  This type of problem involves a set of supply nodes $S$ and a set of demand nodes $T$.  The objective is to minimize the transportation cost $c_{ij}$ from the supply nodes to the demand nodes, so as to satisfy the demand $d_j$, and without exceeding the suppliers’ capacities $C_i$.  \n",
    "\n",
    "Such a problem can be depicted in a graph, with supply nodes, demand nodes, and connecting arcs $A \\subseteq S \\times T$. The supply capacity is indicated with the supply nodes, while the demand is indicated with the demand nodes, and the transportation costs are indicated on the arcs.  \n",
    "\n",
    "<img src = \"https://www.tommasoadamo.it/images/lez19/1_8.png\" />\n",
    "\n",
    "<br>\n",
    "\n",
    "<table style=\"font-size:15px\">\n",
    "    <tr>\n",
    "        <td>\n",
    "\\begin{align}\n",
    "\\min\\quad& \\sum\\limits_{i \\in S} \\sum\\limits_{j \\in T} c_{ij} x_{ij} & & \\\\\n",
    "s.t.\\quad& \\sum\\limits_{j \\in T} x_{ij} \\leq C_i & i \\in S \\\\\n",
    "\\quad&\\sum\\limits_{i \\in S} x_{ij} \\geq d_j & j \\in T \\\\\n",
    "\\quad&x_{ij}\\geq 0& i \\in S, j \\in T\n",
    "\\end{align}\n",
    "        </td>\n",
    "        <td style=\"width: 100px\"></td>\n",
    "        <td>\n",
    "\\begin{align}\n",
    "\\min\\quad& \\sum\\limits_{(i,j) \\in A} c_{ij} x_{ij} & & \\\\\n",
    "s.t.\\quad& \\sum\\limits_{j \\in T: \\ (i,j) \\in A} x_{ij} \\leq C_i & i \\in S \\\\\n",
    "\\quad&\\sum\\limits_{i \\in S: \\ (i,j) \\in A} x_{ij} \\geq d_j & j \\in T \\\\\n",
    "\\quad&x_{ij}\\geq 0& (i,j)\\in A\n",
    "\\end{align}\n",
    "        </td>\n",
    "    </tr>\n",
    "</table>\n",
    "\n",
    "<br>\n",
    "\n",
    "The LP formulation involves one type of variable, namely $x_{ij}$ representing the quantity transported from supply node $i$ to demand node $j$.  The objective is to minimize the total transportation cost across all arcs. The constraints are flow conservation constraints.  The first set of constraints state that the outflow from each supply node should be less than or equal to the supply capacity. The next set of constraints state that the inflow into each demand node should equal the demand at that node. The domain for the shipments on the allowable arcs is set to be greater than or equal to zero.  \n",
    "\n",
    "Even though arcs (1,4) and (2,3) do not exist in the graph, the variables are included in the formulation to show the special structure of the transportation problem.  If you were to formulate such a model in practice, you’d simply exclude these variables. "
   ]
  },
  {
   "cell_type": "markdown",
   "metadata": {},
   "source": [
    "#### Formulating a simple transportation problem with DOcplex\n",
    "\n",
    "In the next section, we formulate the problem described above using DOcplex."
   ]
  },
  {
   "cell_type": "markdown",
   "metadata": {},
   "source": [
    "#### What data for the transportation problem?\n",
    "\n",
    "Input nodes are integers ranging in {1, 2}; output nodes are integers ranging from 3 to 5.\n",
    "\n",
    "The data consists in three Python dictionaries:\n",
    "\n",
    "- one dictionary gives capacity values for all input nodes\n",
    "- one dictionary contains demands for all target nodes\n",
    "- one last dictionary holds cost values for some (source, target) pair of nodes."
   ]
  },
  {
   "cell_type": "code",
   "execution_count": null,
   "metadata": {},
   "outputs": [],
   "source": [
    "source = (1, 2)\n",
    "target = (3, 4, 5)\n",
    "capacities = {1: 15, 2: 20}\n",
    "demands = {3: 7, 4: 10, 5: 15}\n",
    "costs = {(1,3): 2, (1,5): 4, (2,4): 5, (2,5): 3}"
   ]
  },
  {
   "cell_type": "markdown",
   "metadata": {},
   "source": [
    "#### Create a model instance"
   ]
  },
  {
   "cell_type": "code",
   "execution_count": null,
   "metadata": {},
   "outputs": [],
   "source": [
    "# ALERT: execute this cell to install DOcplex! \n",
    "!pip install docplex cplex"
   ]
  },
  {
   "cell_type": "code",
   "execution_count": null,
   "metadata": {},
   "outputs": [],
   "source": [
    "import docplex.mp.model as cplex\n",
    "\n",
    "with cplex.Model('transportation') as tm:\n",
    "    ..."
   ]
  },
  {
   "cell_type": "markdown",
   "metadata": {},
   "source": [
    "#### Define the decision variables\n",
    "- The continuous variables `x` represent the quantity transferred from supply nodes to demand nodes."
   ]
  },
  {
   "cell_type": "markdown",
   "metadata": {},
   "source": [
    "#### Set up the constraints\n",
    "\n",
    "- For each source node, the total outbound flow must be smaller than available quantity.\n",
    "- For each target node, total inbound flow must be greater than demand."
   ]
  },
  {
   "cell_type": "markdown",
   "metadata": {},
   "source": [
    "#### Express the business objective: minimize total flow cost\n",
    "\n",
    "Each arc has a unit cost and we want to minimize the total cost. If an arc has no entry in the dictionary, we assume a $+\\infty$ cost."
   ]
  },
  {
   "cell_type": "code",
   "execution_count": null,
   "metadata": {},
   "outputs": [],
   "source": [
    "import docplex.mp.model as cplex\n",
    "\n",
    "c = {\n",
    "    (1, 3): 2,\n",
    "    (1, 5): 4,\n",
    "    (2, 4): 5,\n",
    "    (2, 5): 3\n",
    "}\n",
    "\n",
    "C = { 1: 15, 2: 20 }\n",
    "d = { 3: 7, 4: 10, 5: 15 }\n",
    "\n",
    "S = [ 1, 2 ]\n",
    "T = [ 3, 4, 5]\n",
    "\n",
    "with cplex.Model('problema del trasporto') as mdl:\n",
    "    x = mdl.continuous_var_matrix(S, T, name='x')\n",
    "    \n",
    "    mdl.minimize(sum(c[i,j]*x[i,j] for i in S for j in T if (i,j) in c))\n",
    "    \n",
    "    for i in S:\n",
    "        mdl.add_constraint(sum(x[i,j] for j in T if (i,j) in c) <= C[i], 'capacity'+str(i))\n",
    "    \n",
    "    for j in T:\n",
    "        mdl.add_constraint(sum(x[i,j] for i in S if (i,j) in c) >= d[j], 'demand'+ str(j))\n",
    "    \n",
    "    \n",
    "    mdl.print_information()\n",
    "    \n",
    "    s = mdl.solve()\n",
    "    \n",
    "    if s == None:\n",
    "        print('No solution')\n",
    "    else:\n",
    "        print(s)\n",
    "        for i,j in x:\n",
    "            if x[i,j].solution_value > 0:\n",
    "                print(\"Move {} from {} to {}\".format(round(x[i,j].solution_value), i, j))"
   ]
  },
  {
   "cell_type": "markdown",
   "metadata": {},
   "source": [
    "ALTERNATIVE WAY USING LISTS:"
   ]
  },
  {
   "cell_type": "code",
   "execution_count": null,
   "metadata": {},
   "outputs": [],
   "source": [
    "import docplex.mp.model as cplex\n",
    "\n",
    "S = (0, 1)\n",
    "T = (0, 1, 2)\n",
    "C = (15, 20)\n",
    "d = (7, 10, 15)\n",
    "c = [\n",
    "    [2, 10000, 4],\n",
    "    [10000, 5, 3]\n",
    "]\n",
    "\n",
    "with cplex.Model('transportation') as tm:\n",
    "    # create flow variables for each couple of nodes\n",
    "    # x(i,j) is the flow going out of node i to node j\n",
    "    x = tm.continuous_var_matrix(S, T, name=\"x\") \n",
    "    \n",
    "    # for each node, total outgoing flow must be smaller than available quantity\n",
    "    for i in S:\n",
    "        tm.add_constraint(sum(x[i, j] for j in T) <= C[i], 'capacity_' + str(i))\n",
    "\n",
    "    # for each target node, total ingoing flow must be greater thand demand\n",
    "    for j in T:\n",
    "        tm.add_constraint(sum(x[i, j] for i in S) >= d[j], 'demand_' + str(j))\n",
    "    \n",
    "    tm.minimize(sum(x[i,j]*c[i][j] for i in S for j in T))\n",
    "    tm.print_information()\n",
    "    tms = tm.solve()\n",
    "    if tms != None:\n",
    "        print(tms)\n",
    "        for i,j in x:\n",
    "            if x[i,j].solution_value > 0:\n",
    "                print(\"Move {} from {} to {}\".format(round(x[i,j].solution_value), i+1, j+3))\n",
    "    else:\n",
    "        print('No solution.')"
   ]
  },
  {
   "cell_type": "markdown",
   "metadata": {},
   "source": [
    "### Solve with the Decision Optimization solve service\n",
    "\n",
    "If you're using a Community Edition of CPLEX runtimes, depending on the size of the problem, the solve stage may fail and will need a paying subscription or product installation.\n",
    "\n",
    "In any case, `Model.solve()` returns a solution object in Python, containing the optimal values of decision variables, if the solve succeeds, or else it returns `None`."
   ]
  },
  {
   "cell_type": "markdown",
   "metadata": {},
   "source": [
    "### Special structure of  network problem\n",
    "\n",
    "The special structure of the transportation problem, as well as many other types of network problems, allows the use of specialized algorithms that lead to significant reductions in solution time.\n",
    "\n",
    "Another important characteristic of transportation problems (and also some other network problems) is that if all the capacities and demands are integer, then the decision variables will take integer values.\n",
    "\n",
    "This is important to know, because it means that you do not have to use integer variables in such cases. \n",
    "\n",
    "As you'll learn in a later topic, integer variables often lead to problems that require much more computational effort compared to problems with only continuous variables.\n"
   ]
  },
  {
   "cell_type": "markdown",
   "metadata": {},
   "source": [
    "## CPLEX Network Optimizer\n",
    "\n",
    "As you’ve now seen, many network problems are special types of LP problems. In many cases, using the Simplex or Dual-simplex Optimizers is the most efficient way to solve them. In some cases, specialized algorithms can solve such problems more efficiently. \n",
    "\n",
    "CPLEX automatically invokes the Network Optimizer  when it's likely that it would improve solution time compared to the other algorithms. \n",
    "\n",
    "It is also possible to force the use (or not) of the Network Optimizer by setting the `lpopt` parameter of\n",
    "a DOcplex model to 3 (remember 1 was primal simplex, 2 was dual simplex, and 4 is for barrier). "
   ]
  }
 ],
 "metadata": {
  "kernelspec": {
   "display_name": "Python 3 (ipykernel)",
   "language": "python",
   "name": "python3"
  },
  "language_info": {
   "codemirror_mode": {
    "name": "ipython",
    "version": 3
   },
   "file_extension": ".py",
   "mimetype": "text/x-python",
   "name": "python",
   "nbconvert_exporter": "python",
   "pygments_lexer": "ipython3",
   "version": "3.8.12"
  }
 },
 "nbformat": 4,
 "nbformat_minor": 4
}
