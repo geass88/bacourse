{
 "cells": [
  {
   "cell_type": "markdown",
   "metadata": {},
   "source": [
    "## Esercizio 35\n",
    "\n",
    "#### Scrivere una funzione che data una matrice quadrata ne calcoli il determinante.\n",
    "\n",
    "\n",
    "#### Usiamo lo sviluppo di Laplace per matrici quadrate di ordine $n$.\n",
    "\n",
    "Fissata una riga $i$:\n",
    "\n",
    "$\\Large |A| = \\sum\\limits_{j}a_{ij} \\cdot \\text{cof}_{ij}(A)$\n",
    "\n",
    "$\\Large \\text{cof}_{ij}(A) = (-1)^{i+j} \\cdot |A_{ij}|$\n",
    "\n",
    "$A_{ij}$ è il cosiddetto minore complementare ossia la matrice che si ottiene eliminando la riga $i$ e la colonna $j$ da $A$."
   ]
  },
  {
   "cell_type": "markdown",
   "metadata": {},
   "source": [
    "* Esempio 1:\n",
    "\n",
    "> $A = \\begin{bmatrix}\n",
    "1 & 2 & 3\\\\\n",
    "-1 & 0 & 2\\\\\n",
    "2 &1 &2\n",
    "\\end{bmatrix}$\n",
    "\n",
    "> $|A| = 7$\n",
    "\n",
    "* Esempio 2 - La matrice contenuta nel file matrice1.txt: \n",
    "\n",
    "> $|A| = 476$"
   ]
  },
  {
   "cell_type": "code",
   "execution_count": null,
   "metadata": {},
   "outputs": [],
   "source": [
    "# ALERT: execute this cell to prepare input data!\n",
    "import requests\n",
    "def download(link, nomeFile=None):\n",
    "    if nomeFile == None:\n",
    "        nomeFile = link.split('/')[-1]\n",
    "    richiesta = requests.get(link)\n",
    "    if richiesta.status_code == 200:\n",
    "        with open(nomeFile, 'w') as file:\n",
    "            file.write(richiesta.text)\n",
    "            \n",
    "download('https://tommasoadamo.it/data/matrice1.txt')"
   ]
  },
  {
   "cell_type": "code",
   "execution_count": null,
   "metadata": {},
   "outputs": [],
   "source": [
    "def det(A):\n",
    "    if len(A) == 1:\n",
    "        return A[0][0] \n",
    "    i = 0\n",
    "    D = 0\n",
    "    for j in range(len(A[0])):\n",
    "        D += A[i][j] * cof(A, i, j)\n",
    "    return D\n",
    "    \n",
    "def cof(A, i, j):\n",
    "    # costruisci minore metodo 1: duplico A e cancello riga i e colonna j\n",
    "    minore = [ r.copy() for r in A ]\n",
    "    del minore[i]\n",
    "    for r in minore:\n",
    "        del r[j]   \n",
    "    \n",
    "    # costruisci minore metodo 2: copio da A tutto tranne riga i e colonna j\n",
    "    # minore = []\n",
    "    # for r in range(len(A)):\n",
    "    #     if r != i:\n",
    "    #         riga = []\n",
    "    #         for c in range(len(A[0])):\n",
    "    #             if c != j:\n",
    "    #                 riga.append(A[r][c])\n",
    "    #         minore.append(riga)\n",
    "    \n",
    "    # costruisci minore metodo 3: uso le comprensioni di lista e gli slices per copiare tutto tranne riga i e colonna j\n",
    "    # minore = [r[:j]+r[j+1:] for r in A[:i] + A[i+1:]]\n",
    "    \n",
    "    return (-1)**(i+j) * det(minore)\n",
    "\n",
    "A = [[1, 2, 3], [-1,0,2], [2,1,2]]\n",
    "print(det(A))\n",
    "\n",
    "with open('matrice1.txt', 'r') as file:\n",
    "    B = []\n",
    "    for l in file:\n",
    "        B.append([])\n",
    "        parti = l.strip().split(',')\n",
    "        for p in parti:\n",
    "            B[-1].append(int(p))        \n",
    "print(det(B))"
   ]
  },
  {
   "cell_type": "code",
   "execution_count": null,
   "metadata": {},
   "outputs": [],
   "source": [
    "import numpy as np\n",
    "\n",
    "A = [[1, 2, 3], [-1,0,2], [2,1,2]]\n",
    "\n",
    "print(np.linalg.det(A))"
   ]
  },
  {
   "cell_type": "code",
   "execution_count": null,
   "metadata": {},
   "outputs": [],
   "source": []
  }
 ],
 "metadata": {
  "kernelspec": {
   "display_name": "Python 3 (ipykernel)",
   "language": "python",
   "name": "python3"
  },
  "language_info": {
   "codemirror_mode": {
    "name": "ipython",
    "version": 3
   },
   "file_extension": ".py",
   "mimetype": "text/x-python",
   "name": "python",
   "nbconvert_exporter": "python",
   "pygments_lexer": "ipython3",
   "version": "3.8.12"
  }
 },
 "nbformat": 4,
 "nbformat_minor": 4
}
