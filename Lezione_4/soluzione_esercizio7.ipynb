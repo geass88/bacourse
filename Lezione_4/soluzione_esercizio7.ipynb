{
 "cells": [
  {
   "cell_type": "markdown",
   "metadata": {},
   "source": [
    "## Esercizio 7"
   ]
  },
  {
   "cell_type": "markdown",
   "metadata": {},
   "source": [
    "#### - dati in input 3 numeri determinare il massimo"
   ]
  },
  {
   "cell_type": "code",
   "execution_count": null,
   "metadata": {
    "tags": []
   },
   "outputs": [],
   "source": [
    "# soluzione 1\n",
    "\n",
    "print('Inserisci tre numeri: ')\n",
    "n1 = float(input('Primo numero = '))\n",
    "n2 = float(input('Secondo numero = '))\n",
    "n3 = float(input('Terzo numero = '))\n",
    "\n",
    "# attenzione: obbligatorio usare >= al posto di > altrimenti massimo potrebbe non essere assegnato e quindi print genera un errore\n",
    "if n1 >= n2 and n1 >= n3:\n",
    "    massimo = n1\n",
    "if n2 >= n1 and n2 >= n3:\n",
    "    massimo = n2\n",
    "if n3 >= n1 and n3 >= n2:\n",
    "    massimo = n3\n",
    "\n",
    "print('Il massimo è: ' + str(massimo))\n",
    "del n1, n2, n3, massimo"
   ]
  },
  {
   "cell_type": "code",
   "execution_count": null,
   "metadata": {},
   "outputs": [],
   "source": [
    "# soluzione 2\n",
    "\n",
    "print('Inserisci tre numeri: ')\n",
    "n1 = float(input('Primo numero = '))\n",
    "n2 = float(input('Secondo numero = '))\n",
    "n3 = float(input('Terzo numero = '))\n",
    "\n",
    "if n1 > n2:\n",
    "    massimo = n1\n",
    "else:\n",
    "    massimo = n2\n",
    "    \n",
    "if n3 > massimo:\n",
    "    massimo = n3\n",
    "    \n",
    "print('Il massimo è: ' + str(massimo))\n",
    "del n1, n2, n3, massimo"
   ]
  }
 ],
 "metadata": {
  "kernelspec": {
   "display_name": "Python 3 (ipykernel)",
   "language": "python",
   "name": "python3"
  },
  "language_info": {
   "codemirror_mode": {
    "name": "ipython",
    "version": 3
   },
   "file_extension": ".py",
   "mimetype": "text/x-python",
   "name": "python",
   "nbconvert_exporter": "python",
   "pygments_lexer": "ipython3",
   "version": "3.8.12"
  }
 },
 "nbformat": 4,
 "nbformat_minor": 4
}
