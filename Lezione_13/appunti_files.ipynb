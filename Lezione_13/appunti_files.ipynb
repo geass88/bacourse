{
 "cells": [
  {
   "cell_type": "markdown",
   "metadata": {},
   "source": [
    "# Files\n",
    "\n",
    "\n",
    "You can use Python to read and write the contents of files.\n",
    "\n",
    "Text files are the easiest to manipulate. Before a file can be edited, it must be opened, using the <b>open</b> function."
   ]
  },
  {
   "cell_type": "code",
   "execution_count": null,
   "metadata": {},
   "outputs": [],
   "source": [
    "myfile = open(\"filename.txt\")"
   ]
  },
  {
   "cell_type": "markdown",
   "metadata": {},
   "source": [
    "The argument of the open function is the path to the file. If the file is in the current working directory of the program, you can specify only its name.\n",
    "\n",
    "You can specify the mode used to open a file by applying a second argument to the open function.\n",
    "\n",
    "* Sending \"r\" means open in read mode, which is the default.\n",
    "* Sending \"w\" means write mode, for rewriting the contents of a file.\n",
    "* Sending \"a\" means append mode, for adding new content to the end of the file.\n",
    "\n",
    "Adding \"b\" to a mode opens it in binary mode, which is used for non-text files (such as image and sound files).\n",
    "\n",
    "For example:"
   ]
  },
  {
   "cell_type": "code",
   "execution_count": null,
   "metadata": {},
   "outputs": [],
   "source": [
    "# write mode\n",
    "open(\"filename.txt\", \"w\")\n",
    "\n",
    "# append mode\n",
    "open(\"filename.txt\", \"a\")\n",
    "\n",
    "# read mode\n",
    "open(\"filename.txt\", \"r\")\n",
    "open(\"filename.txt\")\n",
    "\n",
    "# binary write mode\n",
    "open(\"filename.txt\", \"wb\")"
   ]
  },
  {
   "cell_type": "markdown",
   "metadata": {},
   "source": [
    "You can use the + sign with each of the modes above to give them extra access to files. For example, r+ opens the file for both reading and writing.\n",
    "\n",
    "Once a file has been opened and used, you should close it.\n",
    "This is done with the <b>close</b> method of the file object."
   ]
  },
  {
   "cell_type": "code",
   "execution_count": null,
   "metadata": {},
   "outputs": [],
   "source": [
    "file = open(\"filename.txt\", \"w\")\n",
    "# do stuff to the file\n",
    "file.close()"
   ]
  },
  {
   "cell_type": "markdown",
   "metadata": {},
   "source": [
    "The contents of a file that has been opened in text mode can be read using the <b>read</b> method."
   ]
  },
  {
   "cell_type": "code",
   "execution_count": null,
   "metadata": {},
   "outputs": [],
   "source": [
    "file = open(\"filename.txt\", \"r\")\n",
    "cont = file.read()\n",
    "print(cont)\n",
    "file.close()"
   ]
  },
  {
   "cell_type": "markdown",
   "metadata": {},
   "source": [
    "This will print all of the contents of the file \"filename.txt\".\n",
    "\n",
    "To read only a certain amount of a file, you can provide a number as an argument to the read function. This determines the number of bytes (characters) that should be read.\n",
    "You can make more calls to read on the same file object to read more of the file byte by byte (character by character). With no argument, read returns the rest of the file."
   ]
  },
  {
   "cell_type": "code",
   "execution_count": null,
   "metadata": {},
   "outputs": [],
   "source": [
    "file = open(\"filename.txt\", \"r\")\n",
    "print(file.read(16))\n",
    "print(file.read(4))\n",
    "print(file.read(4))\n",
    "print(file.read())\n",
    "file.close()"
   ]
  },
  {
   "cell_type": "markdown",
   "metadata": {},
   "source": [
    "Just like passing no arguments, negative values will return the entire contents. \n",
    "\n",
    "After all contents in a file have been read, any attempts to read further from that file will return an empty string, because you are trying to read from the end of the file."
   ]
  },
  {
   "cell_type": "code",
   "execution_count": null,
   "metadata": {},
   "outputs": [],
   "source": [
    "file = open(\"filename.txt\", \"r\")\n",
    "file.read()\n",
    "print(\"Re-reading\")\n",
    "print(file.read())\n",
    "print(\"Finished\")\n",
    "file.close()"
   ]
  },
  {
   "cell_type": "markdown",
   "metadata": {},
   "source": [
    "To retrieve each line in a file, you can use the <b>readline</b> method to return a single line or the <b>readlines</b> method to return a list in which each element is a line in the file.\n",
    "\n",
    "For example:"
   ]
  },
  {
   "cell_type": "code",
   "execution_count": null,
   "metadata": {},
   "outputs": [],
   "source": [
    "file = open(\"filename.txt\", \"r\")\n",
    "print(file.readlines())\n",
    "file.close()"
   ]
  },
  {
   "cell_type": "markdown",
   "metadata": {},
   "source": [
    "You can also use a for loop to iterate through the lines in the file:"
   ]
  },
  {
   "cell_type": "code",
   "execution_count": null,
   "metadata": {},
   "outputs": [],
   "source": [
    "file = open(\"filename.txt\", \"r\")\n",
    "\n",
    "for line in file:\n",
    "    print(line)\n",
    "\n",
    "file.close() "
   ]
  },
  {
   "cell_type": "markdown",
   "metadata": {},
   "source": [
    "In the output, the lines are separated by blank lines, as the print function automatically adds a new line at the end of its output.\n",
    "\n",
    "To write to files you use the <b>write</b> method, which writes a string to the file.\n",
    "\n",
    "For example:"
   ]
  },
  {
   "cell_type": "code",
   "execution_count": null,
   "metadata": {},
   "outputs": [],
   "source": [
    "file = open(\"newfile.txt\", \"w\")\n",
    "file.write(\"This has been written to a file\")\n",
    "file.close()\n",
    "\n",
    "file = open(\"newfile.txt\", \"r\")\n",
    "print(file.read())\n",
    "file.close()"
   ]
  },
  {
   "cell_type": "markdown",
   "metadata": {},
   "source": [
    "The \"w\" mode will create a file, if it does not already exist. Otherwise the file's existing content is deleted."
   ]
  },
  {
   "cell_type": "code",
   "execution_count": null,
   "metadata": {},
   "outputs": [],
   "source": [
    "file = open(\"newfile.txt\", \"r\")\n",
    "print(\"Reading initial contents\")\n",
    "print(file.read())\n",
    "print(\"Finished\")\n",
    "file.close()\n",
    "\n",
    "file = open(\"newfile.txt\", \"w\")\n",
    "file.write(\"Some new text\")\n",
    "file.close()\n",
    "\n",
    "file = open(\"newfile.txt\", \"r\")\n",
    "print(\"Reading new contents\")\n",
    "print(file.read())\n",
    "print(\"Finished\")\n",
    "file.close()"
   ]
  },
  {
   "cell_type": "markdown",
   "metadata": {},
   "source": [
    "As you can see, the content of the file has been overwritten. \n",
    "\n",
    "The <b>write</b> method returns the number of bytes (characters) written to a file, if successful."
   ]
  },
  {
   "cell_type": "code",
   "execution_count": null,
   "metadata": {},
   "outputs": [],
   "source": [
    "msg = \"Hello world!\"\n",
    "file = open(\"newfile.txt\", \"w\")\n",
    "amount_written = file.write(msg)\n",
    "print(amount_written)\n",
    "file.close()"
   ]
  },
  {
   "cell_type": "markdown",
   "metadata": {},
   "source": [
    "To write something other than a string, it needs to be converted to a string first.\n",
    "\n",
    "It is good practice to avoid wasting resources by making sure that files are always closed after they have been used. One way of doing this is to use <b>with</b> statements. This creates a temporary variable (often called f), which is only accessible in the indented block of the with statement."
   ]
  },
  {
   "cell_type": "code",
   "execution_count": null,
   "metadata": {},
   "outputs": [],
   "source": [
    "with open(\"newfile.txt\") as f:\n",
    "    print(f.read())"
   ]
  },
  {
   "cell_type": "markdown",
   "metadata": {},
   "source": [
    "The file is automatically closed at the end of the <b>with</b> statement, even if exceptions occur within it."
   ]
  },
  {
   "cell_type": "markdown",
   "metadata": {},
   "source": [
    "### Example: reading a matrix from a file"
   ]
  },
  {
   "cell_type": "code",
   "execution_count": null,
   "metadata": {},
   "outputs": [],
   "source": [
    "# ALERT: execute this cell to prepare input data!\n",
    "import requests\n",
    "def download(link, nomeFile=None):\n",
    "    if nomeFile == None:\n",
    "        nomeFile = link.split('/')[-1]\n",
    "    richiesta = requests.get(link)\n",
    "    if richiesta.status_code == 200:\n",
    "        with open(nomeFile, 'w') as file:\n",
    "            file.write(richiesta.text)\n",
    "            \n",
    "download('https://tommasoadamo.it/data/matrix1.txt')"
   ]
  },
  {
   "cell_type": "code",
   "execution_count": null,
   "metadata": {},
   "outputs": [],
   "source": [
    "def readMatrix(filename, sep=' '):\n",
    "    with open(filename) as f:\n",
    "        A = []\n",
    "        for line in f:\n",
    "            parts = line.strip().split(sep)\n",
    "            row = []\n",
    "            for p in parts:\n",
    "                row.append(int(p))\n",
    "            A.append(row)\n",
    "        return A\n",
    "M = readMatrix('matrix1.txt')\n",
    "print(M)"
   ]
  },
  {
   "cell_type": "code",
   "execution_count": null,
   "metadata": {},
   "outputs": [],
   "source": [
    "# using list comprehensions:\n",
    "def readMatrix(filename, sep=' '):\n",
    "    with open(filename) as f:\n",
    "        return [[int(p) for p in line.strip().split(sep)] for line in f]\n",
    "    \n",
    "M = readMatrix('matrix1.txt')\n",
    "print(M)"
   ]
  }
 ],
 "metadata": {
  "kernelspec": {
   "display_name": "Python 3 (ipykernel)",
   "language": "python",
   "name": "python3"
  },
  "language_info": {
   "codemirror_mode": {
    "name": "ipython",
    "version": 3
   },
   "file_extension": ".py",
   "mimetype": "text/x-python",
   "name": "python",
   "nbconvert_exporter": "python",
   "pygments_lexer": "ipython3",
   "version": "3.8.12"
  }
 },
 "nbformat": 4,
 "nbformat_minor": 4
}
