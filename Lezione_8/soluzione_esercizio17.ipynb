{
 "cells": [
  {
   "cell_type": "markdown",
   "metadata": {},
   "source": [
    "## Esercizio 17\n",
    "\n",
    "#### Scrivere una funzione che dato in input un numero intero positivo sia in grado di scomporlo in fattori primi.\n",
    "\n",
    "Esempio:\n",
    "\n",
    "> $100 = 2^2 \\cdot 5^2$\n",
    "\n",
    "> $2334948 = 2^2 \\cdot 3^1 \\cdot 7^2 \\cdot 11^1 \\cdot 19^2$ "
   ]
  },
  {
   "cell_type": "code",
   "execution_count": null,
   "metadata": {},
   "outputs": [],
   "source": [
    "def fattorizza(n):\n",
    "    if n == 0 or n == 1:\n",
    "        return n    \n",
    "    d = 2\n",
    "    f = ''\n",
    "    while n > 1:\n",
    "        if n % d == 0:\n",
    "            f += str(d) + ' '\n",
    "            n //= d\n",
    "        else:\n",
    "            d += 1\n",
    "    return f\n",
    "\n",
    "print(fattorizza(100))\n",
    "print(fattorizza(2334948))"
   ]
  },
  {
   "cell_type": "code",
   "execution_count": null,
   "metadata": {},
   "outputs": [],
   "source": [
    "def fattorizza(n):\n",
    "    if n == 0 or n == 1:\n",
    "        return n    \n",
    "    d = 2\n",
    "    f = ''\n",
    "    while n > 1:\n",
    "        while n % d == 0:\n",
    "            f += str(d) + ' '\n",
    "            n //= d\n",
    "        d += 1\n",
    "    return f\n",
    "\n",
    "print(fattorizza(100))\n",
    "print(fattorizza(2334948))"
   ]
  },
  {
   "cell_type": "code",
   "execution_count": null,
   "metadata": {},
   "outputs": [],
   "source": [
    "# versione 2: stampa i fattori aggregandoli \n",
    "\n",
    "def fattorizza(n):\n",
    "    if n == 0 or n == 1:\n",
    "        return n\n",
    "    \n",
    "    f = '1 '\n",
    "    d = 2 # fattore\n",
    "    e = 0 # esponente\n",
    "    while True:\n",
    "        if n % d == 0:\n",
    "            n //= d\n",
    "            e += 1\n",
    "        else:\n",
    "            if e > 0:\n",
    "                if e == 1:\n",
    "                    f += '* ' + str(d) + ' '                    \n",
    "                else:\n",
    "                    f += '* ' + str(d) + '**' + str(e) + ' '\n",
    "                e = 0\n",
    "            d += 1\n",
    "            if n < d:\n",
    "                return f\n",
    "                    \n",
    "numero = int(input('Inserisci un numero: '))\n",
    "print(\"Scomposizione in fattori:\")\n",
    "print(fattorizza(numero))"
   ]
  },
  {
   "cell_type": "code",
   "execution_count": null,
   "metadata": {},
   "outputs": [],
   "source": []
  }
 ],
 "metadata": {
  "kernelspec": {
   "display_name": "Python 3 (ipykernel)",
   "language": "python",
   "name": "python3"
  },
  "language_info": {
   "codemirror_mode": {
    "name": "ipython",
    "version": 3
   },
   "file_extension": ".py",
   "mimetype": "text/x-python",
   "name": "python",
   "nbconvert_exporter": "python",
   "pygments_lexer": "ipython3",
   "version": "3.8.12"
  }
 },
 "nbformat": 4,
 "nbformat_minor": 4
}
