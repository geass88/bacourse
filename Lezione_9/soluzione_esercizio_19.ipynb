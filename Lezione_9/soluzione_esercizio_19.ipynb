{
 "cells": [
  {
   "cell_type": "markdown",
   "id": "minute-habitat",
   "metadata": {
    "tags": []
   },
   "source": [
    "## Esercizio 19\n",
    "\n",
    "#### Scrivere una funzione che preso un numero decimale restituisca una stringa con la sua rappresentazione binaria.\n",
    "\n",
    "Esempio:\n",
    "> $168_{10} = 10101000_2$\n",
    "\n",
    "> $29_{10} = 11101_2$"
   ]
  },
  {
   "cell_type": "code",
   "execution_count": null,
   "id": "buried-occupation",
   "metadata": {},
   "outputs": [],
   "source": [
    "def decToBin(N):\n",
    "    Nconv = ''\n",
    "    while N > 0: \n",
    "        Nconv = str(N%2) + Nconv \n",
    "        N //= 2\n",
    "    return Nconv\n",
    "\n",
    "numero = int(input('Inserisci un numero: '))\n",
    "print('In binario è: ' + decToBin(numero))"
   ]
  }
 ],
 "metadata": {
  "kernelspec": {
   "display_name": "Python 3 (ipykernel)",
   "language": "python",
   "name": "python3"
  },
  "language_info": {
   "codemirror_mode": {
    "name": "ipython",
    "version": 3
   },
   "file_extension": ".py",
   "mimetype": "text/x-python",
   "name": "python",
   "nbconvert_exporter": "python",
   "pygments_lexer": "ipython3",
   "version": "3.8.12"
  }
 },
 "nbformat": 4,
 "nbformat_minor": 5
}
