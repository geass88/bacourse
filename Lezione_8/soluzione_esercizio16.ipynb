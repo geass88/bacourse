{
 "cells": [
  {
   "cell_type": "markdown",
   "metadata": {},
   "source": [
    "## Esercizio 16\n",
    "\n",
    "#### Scrivere una funzione che determini il mcm di due numeri interi positivi\n",
    "\n",
    "> mcm(70, 15) = 210\n",
    "\n",
    "> mcm(20, 30) = 60\n",
    "\n",
    "> mcm(209, 1729) = 19019\n"
   ]
  },
  {
   "cell_type": "code",
   "execution_count": null,
   "metadata": {},
   "outputs": [],
   "source": [
    "def massimo(a, b):\n",
    "    if a > b:\n",
    "        return a\n",
    "    else:\n",
    "        return b\n",
    "def mcm(a, b):\n",
    "    for n in range(massimo(a,b), a*b+1, 1):\n",
    "        if n % a == 0 and n % b == 0:\n",
    "            return n\n",
    "    \n",
    "print(mcm(70,15))\n",
    "print(mcm(20,30))\n",
    "print(mcm(209,1729))\n",
    "\n",
    "x = int(input('Inserisci il primo numero:'))\n",
    "y = int(input('Inserisci il secondo numero:'))\n",
    "print('Il minimo comune multiplo è: ' + str(mcm(x, y)))"
   ]
  },
  {
   "cell_type": "markdown",
   "metadata": {},
   "source": [
    "oppure: \n",
    "\n",
    "$mcm(a,b) = \\dfrac {a \\cdot b}{MCD(a,b)} $"
   ]
  },
  {
   "cell_type": "code",
   "execution_count": null,
   "metadata": {},
   "outputs": [],
   "source": [
    "def minimo(a, b):\n",
    "    if a < b:\n",
    "        return a\n",
    "    else:\n",
    "        return b\n",
    "    \n",
    "def MCD(a, b):\n",
    "    for i in range(minimo(a,b), 0, -1):\n",
    "        if a % i == 0 and b % i == 0:\n",
    "            return i\n",
    "\n",
    "def mcm(a,b):\n",
    "    return a*b // MCD(a,b)\n",
    "\n",
    "print(mcm(70,15))\n",
    "print(mcm(20,30))\n",
    "print(mcm(209,1729))\n",
    "\n",
    "x = int(input('Inserisci il primo numero:'))\n",
    "y = int(input('Inserisci il secondo numero:'))\n",
    "print('Il minimo comune multiplo è: ' + str(mcm(x, y)))"
   ]
  }
 ],
 "metadata": {
  "kernelspec": {
   "display_name": "Python 3 (ipykernel)",
   "language": "python",
   "name": "python3"
  },
  "language_info": {
   "codemirror_mode": {
    "name": "ipython",
    "version": 3
   },
   "file_extension": ".py",
   "mimetype": "text/x-python",
   "name": "python",
   "nbconvert_exporter": "python",
   "pygments_lexer": "ipython3",
   "version": "3.8.12"
  }
 },
 "nbformat": 4,
 "nbformat_minor": 4
}
