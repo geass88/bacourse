{
 "cells": [
  {
   "cell_type": "markdown",
   "id": "broke-advantage",
   "metadata": {},
   "source": [
    "## Esercizio D\n",
    "#### -  Data l'equazione di una retta nella forma y = **m**x+**q** e le coordinate di un punto, dire se il punto appartiene alla retta."
   ]
  },
  {
   "cell_type": "code",
   "execution_count": null,
   "id": "weekly-living",
   "metadata": {},
   "outputs": [],
   "source": []
  }
 ],
 "metadata": {
   "kernelspec": {
     "display_name": "bacourse",
     "language": "python",
     "name": "bacourse"
   },
  "language_info": {
   "codemirror_mode": {
    "name": "ipython",
    "version": 3
   },
   "file_extension": ".py",
   "mimetype": "text/x-python",
   "name": "python",
   "nbconvert_exporter": "python",
   "pygments_lexer": "ipython3",
   "version": "3.8.12"
  }
 },
 "nbformat": 4,
 "nbformat_minor": 5
}
