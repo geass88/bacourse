{
 "cells": [
  {
   "cell_type": "markdown",
   "id": "major-basics",
   "metadata": {},
   "source": [
    "## Esercizio B\n",
    "\n",
    "#### - Date le coordinate di due punti nel piano scrivere l'equazione della retta passante per essi nella forma y = **m**x+**q** (NB: controllare che la retta non sia verticale)."
   ]
  },
  {
   "cell_type": "code",
   "execution_count": null,
   "id": "boring-escape",
   "metadata": {},
   "outputs": [],
   "source": []
  }
 ],
 "metadata": {
   "kernelspec": {
     "display_name": "bacourse",
     "language": "python",
     "name": "bacourse"
   },
  "language_info": {
   "codemirror_mode": {
    "name": "ipython",
    "version": 3
   },
   "file_extension": ".py",
   "mimetype": "text/x-python",
   "name": "python",
   "nbconvert_exporter": "python",
   "pygments_lexer": "ipython3",
   "version": "3.8.12"
  }
 },
 "nbformat": 4,
 "nbformat_minor": 5
}
