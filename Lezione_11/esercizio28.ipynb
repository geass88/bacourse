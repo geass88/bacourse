{
 "cells": [
  {
   "cell_type": "markdown",
   "metadata": {},
   "source": [
    "## Esercizio 28\n",
    "\n",
    "#### Scrivere una funzione che data una lista di elementi ed un singolo elemento, controlli se l'elemento è presente nella lista ed in caso affermativo ne restituisca la posizione.\n",
    "\n",
    "Esempio:\n",
    "\n",
    "> lista = [ '1', 2, 3, 4, \"cinque\", 6, 7, 8, 9, \"dieci\" ]\n",
    "* ricerca(lista, 10) ritorna None\n",
    "* ricerca(lista, 7)  ritorna 6\n",
    "* ricerca(lista, 'cinque') ritorna 4"
   ]
  },
  {
   "cell_type": "code",
   "execution_count": null,
   "metadata": {},
   "outputs": [],
   "source": [
    "def ricerca(lista, valore):\n",
    "    for i in range(len(lista)):\n",
    "        if lista[i] == valore:\n",
    "            return i\n",
    "    return None\n",
    "\n",
    "lista = [ '1', 2, 3, 4, \"cinque\", 6, 7, 8, 9, \"dieci\" ]\n",
    "print(ricerca(lista, 10))\n",
    "print(ricerca(lista, 7))\n",
    "print(ricerca(lista, 'cinque'))"
   ]
  },
  {
   "cell_type": "code",
   "execution_count": null,
   "metadata": {},
   "outputs": [],
   "source": [
    "# using index method\n",
    "\n",
    "def ricerca(lista, valore):\n",
    "    if valore in lista:\n",
    "        p = lista.index(valore)\n",
    "        return p\n",
    "    else:\n",
    "        return None\n",
    "\n",
    "lista = [ '1', 2, 3, 4, \"cinque\", 6, 7, 8, 9, \"dieci\" ]\n",
    "print(ricerca(lista, 10))\n",
    "print(ricerca(lista, 7))\n",
    "print(ricerca(lista, 'cinque'))"
   ]
  }
 ],
 "metadata": {
  "kernelspec": {
   "display_name": "Python 3 (ipykernel)",
   "language": "python",
   "name": "python3"
  },
  "language_info": {
   "codemirror_mode": {
    "name": "ipython",
    "version": 3
   },
   "file_extension": ".py",
   "mimetype": "text/x-python",
   "name": "python",
   "nbconvert_exporter": "python",
   "pygments_lexer": "ipython3",
   "version": "3.8.12"
  }
 },
 "nbformat": 4,
 "nbformat_minor": 4
}
