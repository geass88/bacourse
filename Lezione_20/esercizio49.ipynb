{
 "cells": [
  {
   "cell_type": "markdown",
   "metadata": {},
   "source": [
    "## Esercizio 49 - Oil blending\n",
    "\n",
    "I problemi di miscelazione sono una tipica applicazione industriale della Linear Programming (LP).\n",
    "\n",
    "Una compagnia petrolifera produce $n$ tipi di combustibile $F = \\{1, \\dots, n\\}$. Ogni tipologia di carburante viene prodotta miscelando $m$ tipi di oli grezzi $O=\\{1, \\dots, m\\}$ che devono essere acquistati. La società deve decidere la quantità di petrolio greggio da acquistare al fine di massimizzare i suoi profitti nel rispetto delle capacità di lavorazione e dei livelli di qualità, nonché di soddisfare la domanda dei clienti.\n",
    "\n",
    "Il problema della miscelazione dell'olio consiste nel calcolare diverse miscele di combustibile secondo specifici criteri di qualità.\n",
    "\n",
    "Ogni combustibile $f \\in F$ viene venduto al prezzo $p^F_f$ dollari e deve soddisfare alcuni criteri di qualità per quanto riguarda il contenuto di piombo (livello massimo $L^{lead}_f$) e il numero di ottani (livello minimo $L^{oct}_f$), limitando così le possibili miscele. Ogni olio grezzo $o \\in O$ ha un costo $p^O_o$, un livello di piombo $l^{lead}_o$ e di ottani $l^{oct}_o$.\n",
    "\n",
    "L'azienda deve anche soddisfare la domanda $d_f$ dei suoi clienti in termini di numero di barili al giorno per ciascun combustibile $f \\in F$.\n",
    "\n",
    "La società può acquistare $C_o$ barili di ogni tipo di petrolio greggio $o \\in O$ al giorno e può processare al massimo $M$ barili al giorno.\n",
    "\n",
    "Inoltre, la società ha la possibilità di pubblicizzare un combustibile, nel qual caso la domanda per questo tipo di carburante aumenta di $R$ barili per ogni dollaro speso.\n",
    "\n",
    "Infine, costa $P$ dollari per trasformare un barile di petrolio in un barile di combustibile.\n",
    "\n",
    "Vogliamo decidere la quantità $b_{of}$ di olio $o \\in O$ da utilizzare per produrre il carburante $f \\in F$. Inoltre vogliamo decidere quanto spendere, $a_f$, in pubblicità per ciascun combustibile $f \\in F$.\n",
    "\n",
    "\n",
    "\\begin{align}\n",
    "\\max \\quad & \\sum\\limits_{o \\in O\\\\f \\in F} p^F_f b_{of} - \\sum\\limits_{o \\in O\\\\f \\in F} p^O_o b_{of} - P \\sum\\limits_{o \\in O\\\\f \\in F} b_{of} - \\sum\\limits_{f \\in F} a_f &  \\\\\n",
    "s.t.\\quad & \\sum\\limits_{o \\in O} b_{of} = d_f + R \\ a_f& f \\in F\\\\ \n",
    "\\quad & \\sum\\limits_{f \\in F} b_{of} \\leq C_o & o \\in O\\\\\n",
    "\\quad & \\sum\\limits_{o \\in O} (l^{oct}_o - L^{oct}_f) \\ b_{of} \\geq 0 & f \\in F \\\\\n",
    "\\quad & \\sum\\limits_{o \\in O} (l^{lead}_o - L^{lead}_f) \\ b_{of} \\leq 0 & f \\in F \\\\\n",
    "\\quad & \\sum\\limits_{o \\in O\\\\f \\in F} b_{of} \\leq M & \\\\\n",
    "\\quad & b_{of} \\geq 0 & o \\in O, f \\in F\\\\\n",
    "\\quad & a_f \\geq 0 & f \\in F\n",
    "\\end{align}\n",
    "\n",
    "* TEST: oils.json\n",
    "> Objective: 287750<br>\n",
    "> Ricavo totale: 830000<br>\n",
    "> Totale costo petroli: 487500<br>\n",
    "> Totale costo produzione: 54000<br>\n",
    "> Totale costo pubblicità: 750<br>\n",
    "> composizione super: 2088.89 di crude1, 777.78 di crude2, 133.33 di crude3<br>\n",
    "> composizione regular: 2111.11 di crude1, 4222.22 di crude2, 3166.67 di crude3<br>\n",
    "> composizione diesel: 800.0 di crude1, 0 di crude2, 200.0 di crude3<br>\n",
    "> costo pubblicità su super: 0<br>\n",
    "> costo pubblicità su regular: 750<br>\n",
    "> costo pubblicità su diesel: 0<br>"
   ]
  },
  {
   "cell_type": "code",
   "execution_count": null,
   "metadata": {},
   "outputs": [],
   "source": [
    "# ALERT: execute this cell to prepare input data!\n",
    "import requests\n",
    "def download(link, nomeFile=None):\n",
    "    if nomeFile == None:\n",
    "        nomeFile = link.split('/')[-1]\n",
    "    richiesta = requests.get(link)\n",
    "    if richiesta.status_code == 200:\n",
    "        with open(nomeFile, 'w') as file:\n",
    "            file.write(richiesta.text)\n",
    "            \n",
    "download('https://tommasoadamo.it/data/oils.json')"
   ]
  },
  {
   "cell_type": "code",
   "execution_count": null,
   "metadata": {},
   "outputs": [],
   "source": [
    "# ALERT: execute this cell to install DOcplex! \n",
    "!pip install docplex cplex"
   ]
  },
  {
   "cell_type": "code",
   "execution_count": null,
   "metadata": {},
   "outputs": [],
   "source": []
  }
 ],
 "metadata": {
  "kernelspec": {
   "display_name": "Python 3 (ipykernel)",
   "language": "python",
   "name": "python3"
  },
  "language_info": {
   "codemirror_mode": {
    "name": "ipython",
    "version": 3
   },
   "file_extension": ".py",
   "mimetype": "text/x-python",
   "name": "python",
   "nbconvert_exporter": "python",
   "pygments_lexer": "ipython3",
   "version": "3.8.12"
  }
 },
 "nbformat": 4,
 "nbformat_minor": 4
}
