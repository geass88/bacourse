{
 "cells": [
  {
   "cell_type": "markdown",
   "metadata": {},
   "source": [
    "## Esercizio 15\n",
    "\n",
    "#### Scrivere una funzione che determini il MCD di due numeri interi positivi\n",
    "\n",
    "> MCD(20, 30) = 10\n",
    "\n",
    "> MCD(70, 15) = 5\n",
    "\n",
    "> MCD(21, 59) = 1\n",
    "\n",
    "> MCD(209, 1729) = 19"
   ]
  },
  {
   "cell_type": "code",
   "execution_count": null,
   "metadata": {},
   "outputs": [],
   "source": []
  }
 ],
 "metadata": {
  "kernelspec": {
   "display_name": "bacourse",
   "language": "python",
   "name": "bacourse"
  },
  "language_info": {
   "codemirror_mode": {
    "name": "ipython",
    "version": 3
   },
   "file_extension": ".py",
   "mimetype": "text/x-python",
   "name": "python",
   "nbconvert_exporter": "python",
   "pygments_lexer": "ipython3",
   "version": "3.8.12"
  }
 },
 "nbformat": 4,
 "nbformat_minor": 4
}
