{
 "cells": [
  {
   "cell_type": "markdown",
   "metadata": {},
   "source": [
    "## Esercizio 9\n",
    "\n",
    "#### Dato in input un numero intero positivo N, calcolare la somma dei primi N numeri interi positivi.\n",
    "\n",
    "$\\large \\sum\\limits_{k=1}^{N} k = N \\dfrac{N+1}{2} $"
   ]
  },
  {
   "cell_type": "code",
   "execution_count": null,
   "metadata": {},
   "outputs": [],
   "source": [
    "N = int(input('Inserisci un numero intero positivo:'))\n",
    "somma = 0\n",
    "for k in range(N+1):\n",
    "    somma += k\n",
    "print(somma)\n",
    "print('verifica: ' +str(N*(N+1)//2))"
   ]
  },
  {
   "cell_type": "code",
   "execution_count": null,
   "metadata": {},
   "outputs": [],
   "source": [
    "N = int(input('Inserisci un numero intero positivo:'))\n",
    "somma = 0\n",
    "for k in range(N):\n",
    "    somma += k+1\n",
    "print(somma)\n",
    "print('verifica: ' +str(N*(N+1)//2))"
   ]
  },
  {
   "cell_type": "code",
   "execution_count": null,
   "metadata": {},
   "outputs": [],
   "source": [
    "N = int(input('Inserisci un numero intero positivo:'))\n",
    "somma = 0\n",
    "k = 1\n",
    "while k <= N:\n",
    "    somma += k\n",
    "    k += 1\n",
    "print(somma)\n",
    "print('verifica: ' +str(N*(N+1)//2))"
   ]
  }
 ],
 "metadata": {
  "kernelspec": {
   "display_name": "Python 3 (ipykernel)",
   "language": "python",
   "name": "python3"
  },
  "language_info": {
   "codemirror_mode": {
    "name": "ipython",
    "version": 3
   },
   "file_extension": ".py",
   "mimetype": "text/x-python",
   "name": "python",
   "nbconvert_exporter": "python",
   "pygments_lexer": "ipython3",
   "version": "3.8.12"
  }
 },
 "nbformat": 4,
 "nbformat_minor": 4
}
