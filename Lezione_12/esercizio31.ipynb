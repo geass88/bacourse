{
 "cells": [
  {
   "cell_type": "markdown",
   "metadata": {},
   "source": [
    "## Esercizio 31\n",
    "\n",
    "#### Scrivere una funzione che data una matrice ne determini la trasposta.\n",
    "\n",
    "Esempio:\n",
    "\n",
    "> $A = \\begin{bmatrix}\n",
    "1 & 2 & 3\\\\\n",
    "\\text{'a'} & \\text{'b'}  & \\text{'c'} \n",
    "\\end{bmatrix}$\n",
    "\n",
    "* trasposta(A) ritorna: $ \\quad A^T= \\begin{bmatrix}\n",
    "1 & \\text{'a'}  \\\\\n",
    "2 & \\text{'b'}  \\\\\n",
    "3 & \\text{'c'} \n",
    "\\end{bmatrix}$"
   ]
  },
  {
   "cell_type": "code",
   "execution_count": null,
   "metadata": {},
   "outputs": [],
   "source": []
  }
 ],
 "metadata": {
  "kernelspec": {
   "display_name": "bacourse",
   "language": "python",
   "name": "bacourse"
  },
  "language_info": {
   "codemirror_mode": {
    "name": "ipython",
    "version": 3
   },
   "file_extension": ".py",
   "mimetype": "text/x-python",
   "name": "python",
   "nbconvert_exporter": "python",
   "pygments_lexer": "ipython3",
   "version": "3.8.12"
  }
 },
 "nbformat": 4,
 "nbformat_minor": 4
}
