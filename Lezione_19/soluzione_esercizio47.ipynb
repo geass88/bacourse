{
 "cells": [
  {
   "cell_type": "markdown",
   "metadata": {},
   "source": [
    "# Esercizio 47 - Shortest path\n",
    "\n",
    "<img style=\"width: 800px; margin:auto;\" src=\"https://www.tommasoadamo.it/images/lez19/sp.svg\"/>\n",
    "Shortest path (v0, v2, v4, v3, v5) between vertices v0 and v5 in the weighted directed graph with cost 20.\n",
    "\n",
    "\n",
    "## Linear programming formulation\n",
    "\n",
    "Let us consider a directed graph $G = (V, A)$ with the set of nodes $V$ and the set of arcs $A$. \n",
    "\n",
    "Let $n$ and $m$ be the cardinality of $V$ and $A$, respectively. A path is a sequence of nodes $v_1, \\dots, v_n$, and is said to be elementary if no node appears in the path more than once. \n",
    "\n",
    "We denote by $\\delta^+(i)$ and $\\delta^-(i)$ the set of out-neighbor and in-neighbor of node $i$, respectively.\n",
    "\n",
    "A standard linear programming formulation to determine a shortest path from node $s$ to node $t$ is the following:\n",
    "\n",
    "\n",
    "\\begin{align}\n",
    "\\min \\quad& \\sum\\limits_{(i,j) \\in A} c_{ij} x_{ij} & &\\qquad (1)\\\\\n",
    "s.t. \\quad& \\sum\\limits_{j \\ \\in \\ \\delta^+(i)} x_{ij} - \\sum\\limits_{j \\ \\in \\ \\delta^-(i)} x_{ji} = \\begin{cases} 1 &\\mbox{if }i = s \\\\-1 & \\mbox{if } i = t\\\\0  & \\mbox{otherwise}\\end{cases} & i \\in V, &\\qquad (2)\\\\\n",
    " \\quad& x_{ij} \\geq 0& (i, j) \\in A. &\\qquad(3)\n",
    "\\end{align}\n",
    "\n",
    "\n",
    "where $c_{ij} \\in \\mathbb{R}^+$ are the arc costs, and $x_{ij}$ are continuous arc variables. This LP has the special property that it is integral; more specifically, every basic optimal solution (when one exists) has all variables equal to $0$ or $1$.\n",
    "Constraints (2) are flow conservation constraints.\n"
   ]
  },
  {
   "cell_type": "markdown",
   "metadata": {},
   "source": [
    "**Esempi**:\n",
    "\n",
    "* file \"grafo5.csv\" con 6 nodi, s = 0 e t = 5\n",
    "> distanza = 20<br>\n",
    "> percorso = 0, 2, 4, 3, 5\n"
   ]
  },
  {
   "cell_type": "code",
   "execution_count": null,
   "metadata": {},
   "outputs": [],
   "source": [
    "# ALERT: execute this cell to prepare input data!\n",
    "import requests\n",
    "def download(link, nomeFile=None):\n",
    "    if nomeFile == None:\n",
    "        nomeFile = link.split('/')[-1]\n",
    "    richiesta = requests.get(link)\n",
    "    if richiesta.status_code == 200:\n",
    "        with open(nomeFile, 'w') as file:\n",
    "            file.write(richiesta.text)\n",
    "            \n",
    "download('https://tommasoadamo.it/data/grafo5.csv')"
   ]
  },
  {
   "cell_type": "code",
   "execution_count": null,
   "metadata": {},
   "outputs": [],
   "source": [
    "# ALERT: execute this cell to install DOcplex! \n",
    "!pip install docplex cplex"
   ]
  },
  {
   "cell_type": "code",
   "execution_count": null,
   "metadata": {},
   "outputs": [],
   "source": [
    "import csv\n",
    "import docplex.mp.model as cplex\n",
    "\n",
    "def leggi_grafo(nome):\n",
    "    with open(nome, 'r') as file:\n",
    "        reader = csv.reader(file, quoting=2)\n",
    "        return list(reader)\n",
    "\n",
    "def shortest_path(c, s, t):\n",
    "    V = list(range(len(c)))\n",
    "\n",
    "    with cplex.Model('shortest_path') as mdl:\n",
    "        x = mdl.continuous_var_matrix(V, V, name=\"x\")\n",
    "\n",
    "        mdl.minimize(sum(c[i][j] * x[i,j] for i in V for j in V if c[i][j] != 0))\n",
    "\n",
    "        for i in V:\n",
    "            if i == s:\n",
    "                valore = 1\n",
    "            elif i == t:\n",
    "                valore = -1\n",
    "            else:\n",
    "                valore = 0\n",
    "\n",
    "            mdl.add_constraint(sum(x[i,j] for j in V if c[i][j] != 0) - sum(x[j,i] for j in V if c[j][i] != 0) == valore)\n",
    "\n",
    "        mdl.print_information()\n",
    "\n",
    "        sol = mdl.solve()\n",
    "        if sol == None:\n",
    "            print('No solution')\n",
    "        else:\n",
    "            print(sol)\n",
    "\n",
    "            i = s\n",
    "            path = [s]\n",
    "            while i != t:\n",
    "                for j in V:\n",
    "                    if x[i, j].solution_value > 0:\n",
    "                        path.append(j)\n",
    "                        i = j\n",
    "                        break\n",
    "            #print(path)\n",
    "            return path\n",
    "    return None\n",
    "    \n",
    "c = leggi_grafo('grafo5.csv')\n",
    "p = shortest_path(c, 0, 5)\n",
    "print('Il percorso più breve è: ')\n",
    "print(p)       "
   ]
  },
  {
   "cell_type": "code",
   "execution_count": null,
   "metadata": {},
   "outputs": [],
   "source": []
  }
 ],
 "metadata": {
  "kernelspec": {
   "display_name": "Python 3 (ipykernel)",
   "language": "python",
   "name": "python3"
  },
  "language_info": {
   "codemirror_mode": {
    "name": "ipython",
    "version": 3
   },
   "file_extension": ".py",
   "mimetype": "text/x-python",
   "name": "python",
   "nbconvert_exporter": "python",
   "pygments_lexer": "ipython3",
   "version": "3.8.12"
  }
 },
 "nbformat": 4,
 "nbformat_minor": 4
}
