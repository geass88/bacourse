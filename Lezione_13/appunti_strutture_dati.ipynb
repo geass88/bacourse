{
 "cells": [
  {
   "cell_type": "markdown",
   "metadata": {},
   "source": [
    "# Tuples\n",
    "\n",
    "Tuples are very similar to lists, except that they are immutable (they cannot be changed).\n",
    "Also, they are created using parentheses, rather than square brackets.\n",
    "\n",
    "Example:"
   ]
  },
  {
   "cell_type": "code",
   "execution_count": null,
   "metadata": {},
   "outputs": [],
   "source": [
    "words = (\"spam\", \"eggs\", \"sausages\")"
   ]
  },
  {
   "cell_type": "markdown",
   "metadata": {},
   "source": [
    "You can access the values in the tuple with their index, just as you did with lists:"
   ]
  },
  {
   "cell_type": "code",
   "execution_count": null,
   "metadata": {},
   "outputs": [],
   "source": [
    "print(words[0])"
   ]
  },
  {
   "cell_type": "markdown",
   "metadata": {},
   "source": [
    "Trying to reassign a value in a tuple causes a TypeError."
   ]
  },
  {
   "cell_type": "code",
   "execution_count": null,
   "metadata": {},
   "outputs": [],
   "source": [
    "words[1] = \"cheese\""
   ]
  },
  {
   "cell_type": "markdown",
   "metadata": {},
   "source": [
    "Like lists and dictionaries, tuples can be nested within each other. Tuples can be created without the parentheses, by just separating the values with commas.\n",
    "\n",
    "Example:"
   ]
  },
  {
   "cell_type": "code",
   "execution_count": null,
   "metadata": {},
   "outputs": [],
   "source": [
    "my_tuple = \"one\", \"two\", \"three\"\n",
    "print(my_tuple[0])"
   ]
  },
  {
   "cell_type": "markdown",
   "metadata": {},
   "source": [
    "An empty tuple is created using an empty parenthesis pair or the tuple() function."
   ]
  },
  {
   "cell_type": "code",
   "execution_count": null,
   "metadata": {},
   "outputs": [],
   "source": [
    "tpl = ()"
   ]
  },
  {
   "cell_type": "markdown",
   "metadata": {},
   "source": [
    "Tuples are faster than lists, but they cannot be changed. To create a tuple containing a single element use the following syntax (with or without parenthesis):"
   ]
  },
  {
   "cell_type": "code",
   "execution_count": null,
   "metadata": {},
   "outputs": [],
   "source": [
    "tpl = (10,)\n",
    "# tpl = 10,\n",
    "print(tpl)"
   ]
  },
  {
   "cell_type": "markdown",
   "metadata": {},
   "source": [
    "The comma is what lets Python know this is a tuple value. "
   ]
  },
  {
   "cell_type": "markdown",
   "metadata": {},
   "source": [
    "# Dictionaries\n",
    "\n",
    "Dictionaries are data structures used to map arbitrary keys to values.\n",
    "\n",
    "Lists can be thought of as dictionaries with integer keys within a certain range.\n",
    "\n",
    "Dictionaries can be indexed in the same way as lists, using square brackets containing keys. Unlike lists, items in dictionaries are unordered.\n",
    "\n",
    "Example:"
   ]
  },
  {
   "cell_type": "code",
   "execution_count": null,
   "metadata": {},
   "outputs": [],
   "source": [
    "ages = {\"Dave\": 24, \"Mary\": 42, \"John\": 58}\n",
    "print(ages[\"Dave\"])\n",
    "print(ages[\"Mary\"])"
   ]
  },
  {
   "cell_type": "markdown",
   "metadata": {},
   "source": [
    "Each element in a dictionary is represented by a key:value pair. Trying to index a key that isn't part of the dictionary returns a KeyError.\n",
    "\n",
    "Example:"
   ]
  },
  {
   "cell_type": "code",
   "execution_count": null,
   "metadata": {},
   "outputs": [],
   "source": [
    "primary = {\n",
    "  \"red\": [255, 0, 0], \n",
    "  \"green\": [0, 255, 0], \n",
    "  \"blue\": [0, 0, 255] \n",
    "}\n",
    "\n",
    "print(primary[\"red\"])\n",
    "print(primary[\"yellow\"])"
   ]
  },
  {
   "cell_type": "markdown",
   "metadata": {},
   "source": [
    "As you can see, a dictionary can store any types of data as values. An empty dictionary is defined as { } or using dict().\n",
    "\n",
    "Only immutable objects can be used as keys to dictionaries. Immutable objects are those that can't be changed. So far, the only mutable objects you've come across are lists and dictionaries. Trying to use a mutable object as a dictionary key causes a TypeError."
   ]
  },
  {
   "cell_type": "code",
   "execution_count": null,
   "metadata": {},
   "outputs": [],
   "source": [
    "bad_dict = {\n",
    "  [1, 2, 3]: \"one two three\"\n",
    "}"
   ]
  },
  {
   "cell_type": "markdown",
   "metadata": {},
   "source": [
    "Just like lists, dictionary keys can be assigned to different values.\n",
    "However, unlike lists, a new dictionary key can also be assigned a value, not just ones that already exist."
   ]
  },
  {
   "cell_type": "code",
   "execution_count": null,
   "metadata": {},
   "outputs": [],
   "source": [
    "squares = {1: 1, 2: 4, 3: \"error\", 4: 16}\n",
    "squares[8] = 64\n",
    "squares[3] = 9\n",
    "print(squares)"
   ]
  },
  {
   "cell_type": "markdown",
   "metadata": {},
   "source": [
    "To determine whether a key is in a dictionary, you can use <b>in</b> and <b>not in</b>, just as you can for a list. The <b>len</b> function returns the number of entry in a dictionary.\n",
    "\n",
    "Example:"
   ]
  },
  {
   "cell_type": "code",
   "execution_count": null,
   "metadata": {},
   "outputs": [],
   "source": [
    "nums = {\n",
    "  1: \"one\",\n",
    "  2: \"two\",\n",
    "  3: \"three\"\n",
    "}\n",
    "print(1 in nums)\n",
    "print(\"three\" in nums)\n",
    "print(4 not in nums)"
   ]
  },
  {
   "cell_type": "markdown",
   "metadata": {},
   "source": [
    "A useful dictionary method is <b>get</b>. It does the same thing as indexing, but if the key is not found in the dictionary it returns another specified value instead ('None', by default).\n",
    "\n",
    "Example:"
   ]
  },
  {
   "cell_type": "code",
   "execution_count": null,
   "metadata": {},
   "outputs": [],
   "source": [
    "pairs = {\n",
    "  1: \"apple\",\n",
    "  \"orange\": [2, 3, 4], \n",
    "  True: False, \n",
    "  None: \"True\"\n",
    "}\n",
    "\n",
    "print(pairs.get(\"orange\"))\n",
    "print(pairs.get(7))\n",
    "print(pairs.get(12345, \"not in dictionary\"))"
   ]
  },
  {
   "cell_type": "markdown",
   "metadata": {},
   "source": [
    "There are three dictionary methods that will return list-like values of the dictionary’s keys, values, or both keys and values: keys(), values(), and items(). The values returned by these methods are not true lists: they cannot be modified and do not have an append() method. But these data types (dict_keys, dict_values, and dict_items, respectively) can be used in for loops. "
   ]
  },
  {
   "cell_type": "code",
   "execution_count": null,
   "metadata": {},
   "outputs": [],
   "source": [
    "spam = {'color': 'red', 'age': 42}\n",
    "for v in spam: # iterates over keys\n",
    "    print(v)\n",
    "    \n",
    "for v in spam.keys(): # iterates over keys\n",
    "    print(v)\n",
    "\n",
    "for v in spam.values(): # iterates over values\n",
    "    print(v)\n",
    "\n",
    "for i, v in spam.items(): # iterates over items\n",
    "    print(str(i) + ': ' + str(v))"
   ]
  },
  {
   "cell_type": "markdown",
   "metadata": {},
   "source": [
    "# Sets\n",
    "\n",
    "Sets are data structures, similar to lists or dictionaries. They are created using curly braces, or the set function. They share some functionality with lists, such as the use of in to check whether they contain a particular item."
   ]
  },
  {
   "cell_type": "code",
   "execution_count": null,
   "metadata": {},
   "outputs": [],
   "source": [
    "num_set = {1, 2, 3, 4, 5}\n",
    "word_set = set([\"spam\", \"eggs\", \"sausage\"])\n",
    "\n",
    "print(3 in num_set)\n",
    "print(\"spam\" not in word_set)"
   ]
  },
  {
   "cell_type": "markdown",
   "metadata": {},
   "source": [
    "To create an empty set, you must use set(), as { } creates an empty dictionary.\n",
    "\n",
    "Sets differ from lists in several ways, but share several list operations such as <b>len</b>.\n",
    "\n",
    "They are unordered, which means that they can't be indexed.\n",
    "\n",
    "They cannot contain duplicate elements.\n",
    "\n",
    "Due to the way they're stored, it's faster to check whether an item is part of a set, rather than part of a list.\n",
    "\n",
    "Instead of using append to add to a set, use <b>add</b>.\n",
    "\n",
    "The method <b>remove</b> removes a specific element from a set; <b>pop</b> removes and return an arbitrary element."
   ]
  },
  {
   "cell_type": "code",
   "execution_count": null,
   "metadata": {},
   "outputs": [],
   "source": [
    "nums = {1, 2, 1, 3, 1, 4, 5, 6}\n",
    "print(nums)\n",
    "nums.add(-7)\n",
    "nums.remove(3)\n",
    "print(nums)\n",
    "p = nums.pop()\n",
    "print(nums)\n",
    "print(p)"
   ]
  },
  {
   "cell_type": "markdown",
   "metadata": {},
   "source": [
    "Basic uses of sets include membership testing and the elimination of duplicate entries.\n",
    "\n",
    "Sets can be combined using mathematical operations.\n",
    "* The union operator | combines two sets to form a new one containing items in either.\n",
    "* The intersection operator & gets items only in both.\n",
    "* The difference operator - gets items in the first set but not in the second.\n",
    "* The symmetric difference operator ^ gets items in either set, but not both."
   ]
  },
  {
   "cell_type": "code",
   "execution_count": null,
   "metadata": {},
   "outputs": [],
   "source": [
    "first = {1, 2, 3, 4, 5, 6}\n",
    "second = {4, 5, 6, 7, 8, 9}\n",
    "\n",
    "print(first | second)\n",
    "print(first & second)\n",
    "print(first - second)\n",
    "print(second - first)\n",
    "print(first ^ second)\n",
    "\n",
    "# first ^ second == (first | second) - (first & second)"
   ]
  },
  {
   "cell_type": "markdown",
   "metadata": {},
   "source": [
    "# Data Structures\n",
    "\n",
    "As we have seen, Python supports the following data structures: lists, dictionaries, sets, tuples.\n",
    "\n",
    "When to use a dictionary:\n",
    "- When you need a logical association between a key:value pair.\n",
    "- When you need fast lookup for your data, based on a custom key.\n",
    "- When your data is being constantly modified. Remember, dictionaries are mutable.\n",
    "\n",
    "When to use the other types:\n",
    "- Use lists if you have a collection of data that does not need random access. Try to choose lists when you need a simple, iterable collection that is modified frequently.\n",
    "- Use a set if you need uniqueness for the elements.\n",
    "- Use tuples when your data cannot change.\n",
    "Many times, a tuple is used in combination with a dictionary, for example, a tuple might represent a key, because it's immutable."
   ]
  },
  {
   "cell_type": "code",
   "execution_count": null,
   "metadata": {},
   "outputs": [],
   "source": []
  }
 ],
 "metadata": {
  "kernelspec": {
   "display_name": "Python 3 (ipykernel)",
   "language": "python",
   "name": "python3"
  },
  "language_info": {
   "codemirror_mode": {
    "name": "ipython",
    "version": 3
   },
   "file_extension": ".py",
   "mimetype": "text/x-python",
   "name": "python",
   "nbconvert_exporter": "python",
   "pygments_lexer": "ipython3",
   "version": "3.8.12"
  }
 },
 "nbformat": 4,
 "nbformat_minor": 4
}
