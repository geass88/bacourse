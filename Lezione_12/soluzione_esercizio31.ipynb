{
 "cells": [
  {
   "cell_type": "markdown",
   "metadata": {},
   "source": [
    "## Esercizio 31\n",
    "\n",
    "#### Scrivere una funzione che data una matrice ne determini la trasposta.\n",
    "\n",
    "Esempio:\n",
    "\n",
    "> $A = \\begin{bmatrix}\n",
    "1 & 2 & 3\\\\\n",
    "\\text{'a'} & \\text{'b'}  & \\text{'c'} \n",
    "\\end{bmatrix}$\n",
    "\n",
    "* trasposta(A) ritorna: $ \\quad A^T= \\begin{bmatrix}\n",
    "1 & \\text{'a'}  \\\\\n",
    "2 & \\text{'b'}  \\\\\n",
    "3 & \\text{'c'} \n",
    "\\end{bmatrix}$"
   ]
  },
  {
   "cell_type": "code",
   "execution_count": null,
   "metadata": {},
   "outputs": [],
   "source": [
    "def trasposta(A):\n",
    "    M = []\n",
    "    NR = len(A[0])\n",
    "    NC = len(A)\n",
    "    \n",
    "    for i in range(NR):\n",
    "        M.append([])\n",
    "        for j in range(NC):\n",
    "            M[i].append(A[j][i])\n",
    "    \n",
    "    return M\n",
    "\n",
    "\n",
    "A = [ [1, 2, 3], ['a', 'b', 'c'] ]\n",
    "T = trasposta(A)\n",
    "print(T)"
   ]
  },
  {
   "cell_type": "code",
   "execution_count": null,
   "metadata": {},
   "outputs": [],
   "source": [
    "# using list comprehensions\n",
    "def trasposta(A):\n",
    "    return [[A[j][i] for j in range(len(A))] for i in range(len(A[0]))]\n",
    "\n",
    "\n",
    "A = [ [1, 2, 3], ['a', 'b', 'c'] ]\n",
    "T = trasposta(A)\n",
    "print(T)"
   ]
  }
 ],
 "metadata": {
  "kernelspec": {
   "display_name": "Python 3 (ipykernel)",
   "language": "python",
   "name": "python3"
  },
  "language_info": {
   "codemirror_mode": {
    "name": "ipython",
    "version": 3
   },
   "file_extension": ".py",
   "mimetype": "text/x-python",
   "name": "python",
   "nbconvert_exporter": "python",
   "pygments_lexer": "ipython3",
   "version": "3.8.12"
  }
 },
 "nbformat": 4,
 "nbformat_minor": 4
}
