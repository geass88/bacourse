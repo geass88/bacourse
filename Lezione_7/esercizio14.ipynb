{
 "cells": [
  {
   "cell_type": "markdown",
   "metadata": {},
   "source": [
    "## Esercizio 14\n",
    "\n",
    "#### Scrivere una funzione che dato in input un numero intero positivo ritorni <b>True</b> se il numero è primo, <b>False</b> altrimenti.\n",
    "\n",
    "Esempi:\n",
    "* 121 non è primo\n",
    "* 41 è primo\n",
    "* 9999937 è primo\n",
    "* 2173 non è primo"
   ]
  },
  {
   "cell_type": "code",
   "execution_count": null,
   "metadata": {},
   "outputs": [],
   "source": []
  }
 ],
 "metadata": {
  "kernelspec": {
   "display_name": "bacourse",
   "language": "python",
   "name": "bacourse"
  },
  "language_info": {
   "codemirror_mode": {
    "name": "ipython",
    "version": 3
   },
   "file_extension": ".py",
   "mimetype": "text/x-python",
   "name": "python",
   "nbconvert_exporter": "python",
   "pygments_lexer": "ipython3",
   "version": "3.8.12"
  }
 },
 "nbformat": 4,
 "nbformat_minor": 4
}
