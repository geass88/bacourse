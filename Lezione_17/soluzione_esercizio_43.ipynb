{
 "cells": [
  {
   "cell_type": "markdown",
   "metadata": {},
   "source": [
    "## Esercizio 43\n",
    "\n",
    "Un'industria manifatturiera può fabbricare $n$ tipi di prodotti che indichiamo genericamente con $N=\\{1,\\dots,n\\}$ usando $m$ processi di produzione che avvengono mediante l'uso di $m$ macchine che indichiamo con $M=\\{1,\\dots,m\\}$. Dopo aver dedotto il costo del materiale grezzo, ciascuna unità di prodotto dà un profitto $p_i \\ \\ i \\in N$ (in euro).\n",
    "\n",
    "Ciascuna unità di prodotto richiede un certo tempo di ciascuno degli $m$ processi; indichiamo con $t_{ji} \\ \\ i \\in N, j \\in M$ il tempo (in ore) di lavorazione di ciascuna macchina $j$ per ottenere una unità di ciascun prodotto finito $i$.\n",
    "\n",
    "Inoltre, l'assemblaggio finale per ciascuna unità di ciascun prodotto richiede $u_i \\ \\ i \\in N$ ore di lavoro di un operaio.\n",
    "La fabbrica possiede una quantità prefissata di macchine di ciascun tipo con un limite sulle ore operative settimanali (capacità produttiva). Anche gli operai impiegati nell'assemblaggio sono in numero finito e ciascuno di essi ha un monteore prestabilito. Trovare la quantità che conviene produrre di ciascun prodotto per massimizzare il profitto totale.\n",
    "\n",
    "I dati dell'istanza sono stati raccolti nel \"file ex43.json\"."
   ]
  },
  {
   "cell_type": "markdown",
   "metadata": {},
   "source": [
    "\\begin{align}\n",
    "\\max \\quad & \\sum\\limits_{i \\in N} p_i x_i& \\\\\n",
    "s.t.\\quad &  \\sum\\limits_{i \\in N} t_{ji} x_i \\leq T_j &j \\in M\\\\\n",
    "\\quad & \\sum\\limits_{i \\in N} u_i x_i \\leq U &\\\\\n",
    "\\quad & x_i \\geq 0 &i \\in N\n",
    "\\end{align}\n"
   ]
  },
  {
   "cell_type": "code",
   "execution_count": null,
   "metadata": {},
   "outputs": [],
   "source": [
    "# ALERT: execute this cell to prepare input data!\n",
    "import requests\n",
    "def download(link, nomeFile=None):\n",
    "    if nomeFile == None:\n",
    "        nomeFile = link.split('/')[-1]\n",
    "    richiesta = requests.get(link)\n",
    "    if richiesta.status_code == 200:\n",
    "        with open(nomeFile, 'w') as file:\n",
    "            file.write(richiesta.text)\n",
    "            \n",
    "download('https://tommasoadamo.it/data/ex43.json')"
   ]
  },
  {
   "cell_type": "code",
   "execution_count": null,
   "metadata": {},
   "outputs": [],
   "source": [
    "# ALERT: execute this cell to install DOcplex! \n",
    "!pip install docplex cplex"
   ]
  },
  {
   "cell_type": "code",
   "execution_count": null,
   "metadata": {},
   "outputs": [],
   "source": [
    "import json\n",
    "import docplex.mp.model as cplex\n",
    "\n",
    "with open('ex43.json', 'r') as f:\n",
    "    dati = json.load(f)\n",
    "\n",
    "\n",
    "n = len(dati['prodotti'])\n",
    "m = len(dati['macchine'])\n",
    "\n",
    "p = []     # lista dei profitti\n",
    "t = dati['tempi_di_produzione']  #tempi di produzione\n",
    "T = []     # capacità delle macchine \n",
    "u = []     # tempi assemblaggio prodotti\n",
    "U = dati['operai']['quantita'] * dati['operai']['monteore']   # capacità assemblaggio\n",
    "\n",
    "for prodotto in dati['prodotti']:\n",
    "    p.append(prodotto['profitto'])\n",
    "    u.append(prodotto['tempo_assemblaggio'])\n",
    "    \n",
    "for macchina in dati['macchine']:\n",
    "    T.append(macchina['quantita']*macchina['capacita'])\n",
    "\n",
    "\n",
    "N = list(range(n))\n",
    "M = list(range(m))\n",
    "\n",
    "with cplex.Model('ex43') as mdl:\n",
    "    x = mdl.continuous_var_list(N, name='x')\n",
    "    \n",
    "    mdl.maximize(sum( p[i]*x[i]  for i in N))\n",
    "    \n",
    "    for j in M:\n",
    "        mdl.add_constraint(sum( t[j][i]* x[i]  for i in N) <= T[j], 'cap_macchina_'+str(j))\n",
    "    \n",
    "    mdl.add_constraint(sum( u[i]*x[i] for i in N) <= U, 'cap_operai')\n",
    "    \n",
    "    mdl.print_information()\n",
    "    \n",
    "    s = mdl.solve()\n",
    "    \n",
    "    if s == None:\n",
    "        print('No solution')\n",
    "    else:\n",
    "        print(s)"
   ]
  }
 ],
 "metadata": {
  "kernelspec": {
   "display_name": "Python 3 (ipykernel)",
   "language": "python",
   "name": "python3"
  },
  "language_info": {
   "codemirror_mode": {
    "name": "ipython",
    "version": 3
   },
   "file_extension": ".py",
   "mimetype": "text/x-python",
   "name": "python",
   "nbconvert_exporter": "python",
   "pygments_lexer": "ipython3",
   "version": "3.8.12"
  }
 },
 "nbformat": 4,
 "nbformat_minor": 4
}
