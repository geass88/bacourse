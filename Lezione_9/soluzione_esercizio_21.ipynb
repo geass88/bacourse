{
 "cells": [
  {
   "cell_type": "markdown",
   "id": "immediate-parts",
   "metadata": {},
   "source": [
    "## Esercizio 21\n",
    "\n",
    "#### Scrivere una funzione che preso un numero decimale restituisca una stringa con la sua rappresentazione ottale.\n",
    "\n",
    "Esempio:\n",
    "> $168_{10} = 250_8$\n",
    "\n",
    "> $3765_{10} = 7265_8$"
   ]
  },
  {
   "cell_type": "code",
   "execution_count": null,
   "id": "elder-athens",
   "metadata": {},
   "outputs": [],
   "source": [
    "def decToOct(N):\n",
    "    Nconv = ''\n",
    "    while N > 0: \n",
    "        Nconv = str(N%8) + Nconv \n",
    "        N //= 8\n",
    "    return Nconv\n",
    "\n",
    "numero = int(input('Inserisci un numero: '))\n",
    "print('In ottale è: ' + decToOct(numero))"
   ]
  }
 ],
 "metadata": {
  "kernelspec": {
   "display_name": "Python 3 (ipykernel)",
   "language": "python",
   "name": "python3"
  },
  "language_info": {
   "codemirror_mode": {
    "name": "ipython",
    "version": 3
   },
   "file_extension": ".py",
   "mimetype": "text/x-python",
   "name": "python",
   "nbconvert_exporter": "python",
   "pygments_lexer": "ipython3",
   "version": "3.8.12"
  }
 },
 "nbformat": 4,
 "nbformat_minor": 5
}
