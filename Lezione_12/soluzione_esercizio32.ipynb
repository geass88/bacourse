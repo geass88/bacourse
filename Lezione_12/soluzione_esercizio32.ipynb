{
 "cells": [
  {
   "cell_type": "markdown",
   "metadata": {},
   "source": [
    "## Esercizio 32\n",
    "\n",
    "#### Scrivere una funzione che date due matrici calcoli la loro somma\n",
    "\n",
    "Esempio:\n",
    "\n",
    "> $A = \\begin{bmatrix}\n",
    "1 & 2 & 3\\\\\n",
    "4 & 5 & 6\n",
    "\\end{bmatrix}$\n",
    "\n",
    "> $B = \\begin{bmatrix}\n",
    "3 & 2 & 1\\\\\n",
    "0 & -5 & 4\n",
    "\\end{bmatrix}$\n",
    "\n",
    "* somma(A, B) ritorna: $ \\quad A+B = \\begin{bmatrix}\n",
    "4 & 4 & 4\\\\\n",
    "4 & 0 & 10\n",
    "\\end{bmatrix}$\n",
    "\n"
   ]
  },
  {
   "cell_type": "code",
   "execution_count": null,
   "metadata": {},
   "outputs": [],
   "source": [
    "def somma(A, B):\n",
    "    if len(A) == len(B) and len(A[0]) == len(B[0]):\n",
    "        C = []\n",
    "        for r in range(len(A)):\n",
    "            C.append([])\n",
    "            for c in range(len(A[0])):\n",
    "                C[r].append(A[r][c]+B[r][c])\n",
    "        return C\n",
    "    \n",
    "A = [ [1,2,3], [4,5,6]]\n",
    "B = [ [3,2,1], [0,-5,4]]\n",
    "C = somma(A, B)\n",
    "print(C)"
   ]
  },
  {
   "cell_type": "code",
   "execution_count": null,
   "metadata": {},
   "outputs": [],
   "source": [
    "# using list comprehensions\n",
    "\n",
    "def somma(A, B):\n",
    "    if len(A) == len(B) and len(A[0]) == len(B[0]):\n",
    "        return [[A[r][c]+B[r][c] for c in range(len(A[0]))] for r in range(len(A))]\n",
    "    \n",
    "\n",
    "\n",
    "A = [ [1,2,3], [4,5,6]]\n",
    "B = [ [3,2,1], [0,-5,4]]\n",
    "C = somma(A, B)\n",
    "print(C)"
   ]
  }
 ],
 "metadata": {
  "kernelspec": {
   "display_name": "Python 3 (ipykernel)",
   "language": "python",
   "name": "python3"
  },
  "language_info": {
   "codemirror_mode": {
    "name": "ipython",
    "version": 3
   },
   "file_extension": ".py",
   "mimetype": "text/x-python",
   "name": "python",
   "nbconvert_exporter": "python",
   "pygments_lexer": "ipython3",
   "version": "3.8.12"
  }
 },
 "nbformat": 4,
 "nbformat_minor": 4
}
