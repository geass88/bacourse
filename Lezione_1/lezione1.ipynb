{
 "cells": [
  {
   "cell_type": "markdown",
   "metadata": {},
   "source": [
    "# What is Python?\n",
    "\n",
    "Python is a high-level programming language, with applications in numerous areas, including web programming, scripting, scientific computing, and artificial intelligence.\n",
    "\n",
    "It is very popular and used by organizations such as Google, NASA, the CIA, and Disney.\n",
    "\n",
    "Python is processed at runtime by the <b>interpreter</b>. There is no need to <b>compile</b> your program before executing it.\n",
    "An interpreter is a program that runs scripts written in an interpreted language such as Python.\n",
    "\n",
    "The three major versions of Python are 1.x, 2.x and 3.x. These are subdivided into minor versions, such as 2.7 and 3.7.\n",
    "\n",
    "Code written for Python 3.x is guaranteed to work in all future versions.\n",
    "\n",
    "Only Python 3.x is used currently.\n",
    "\n",
    "This course covers Python 3.x, but it isn't hard to change from one version to another.\n",
    "\n"
   ]
  },
  {
   "cell_type": "markdown",
   "metadata": {},
   "source": [
    "# Your first program\n",
    "\n",
    "Let's start off by creating a short program that displays \"Hello world!\".\n",
    "In Python, we use the print statement to output text:\n"
   ]
  },
  {
   "cell_type": "code",
   "execution_count": null,
   "metadata": {},
   "outputs": [],
   "source": [
    "print('Hello world!')"
   ]
  },
  {
   "cell_type": "markdown",
   "metadata": {},
   "source": [
    "When using a computer, you will need to download and install Python from www.python.org.\n",
    "\n",
    "Python is an interpreted language, which means that each line is executed as it is entered. "
   ]
  },
  {
   "cell_type": "markdown",
   "metadata": {},
   "source": [
    "# Simple Operations\n",
    "Python has the capability of carrying out calculations.\n",
    "Enter a calculation directly into the Python console, and it will output the answer.\n"
   ]
  },
  {
   "cell_type": "code",
   "execution_count": null,
   "metadata": {},
   "outputs": [],
   "source": [
    "2 + 2"
   ]
  },
  {
   "cell_type": "code",
   "execution_count": null,
   "metadata": {},
   "outputs": [],
   "source": [
    "5 + 4 - 3"
   ]
  },
  {
   "cell_type": "markdown",
   "metadata": {},
   "source": [
    "The spaces around the plus and minus signs here are optional (the code would work without them), but they make it easier to read."
   ]
  },
  {
   "cell_type": "markdown",
   "metadata": {},
   "source": [
    "Python also carries out multiplication and division, using an asterisk to indicate multiplication and a forward slash to indicate division.\n",
    "\n",
    "Use parentheses to determine which operations are performed first."
   ]
  },
  {
   "cell_type": "code",
   "execution_count": null,
   "metadata": {},
   "outputs": [],
   "source": [
    "2 * (3 + 4)"
   ]
  },
  {
   "cell_type": "code",
   "execution_count": null,
   "metadata": {},
   "outputs": [],
   "source": [
    "10 / 2"
   ]
  },
  {
   "cell_type": "markdown",
   "metadata": {},
   "source": [
    "Using a single slash to divide numbers produces a decimal (or float – floating point number – as it is called in programming). \n",
    "\n",
    "The minus sign indicates a negative number.\n",
    "Operations are performed on negative numbers, just as they are on positive ones."
   ]
  },
  {
   "cell_type": "code",
   "execution_count": null,
   "metadata": {},
   "outputs": [],
   "source": [
    "(-7 + 2) * (-4)"
   ]
  },
  {
   "cell_type": "markdown",
   "metadata": {},
   "source": [
    "The plus signs can also be put in front of numbers, but this has no effect, and is mostly used to emphasize that a number is positive to increase readability of code.\n",
    "\n",
    "Dividing by zero in Python produces an error, as no answer can be calculated."
   ]
  },
  {
   "cell_type": "code",
   "execution_count": null,
   "metadata": {},
   "outputs": [],
   "source": [
    "11 / 0"
   ]
  },
  {
   "cell_type": "markdown",
   "metadata": {},
   "source": [
    "In Python, the last line of an error message indicates the error's type.\n",
    "Read error messages carefully, as they often tell you how to fix a program!\n",
    "\n",
    "# Operators table\n",
    "<img src=\"https://www.tommasoadamo.it/images/lez1/operators.png\" style=\"margin:auto\"/>"
   ]
  },
  {
   "cell_type": "markdown",
   "metadata": {},
   "source": [
    "# Floats\n",
    "\n",
    "Floats are used in Python to represent numbers that aren't integers.\n",
    "Some examples of numbers that are represented as floats are 0.5 and -7.8237591.\n",
    "They can be created directly by entering a number with a decimal point, or by using operations such as division on integers. Extra zeros at the number's end are ignored."
   ]
  },
  {
   "cell_type": "code",
   "execution_count": null,
   "metadata": {},
   "outputs": [],
   "source": [
    "3/4"
   ]
  },
  {
   "cell_type": "markdown",
   "metadata": {},
   "source": [
    "Computers can't store floats perfectly accurately, in the same way that we can't write down the complete decimal expansion of 1/3 (0.3333333333333333...). Keep this in mind, because it often leads to infuriating bugs!"
   ]
  },
  {
   "cell_type": "markdown",
   "metadata": {},
   "source": [
    "As you saw previously, dividing any two integers produces a float.\n",
    "A float is also produced by running an operation on two floats, or on a float and an integer."
   ]
  },
  {
   "cell_type": "code",
   "execution_count": null,
   "metadata": {},
   "outputs": [],
   "source": [
    "8 / 2"
   ]
  },
  {
   "cell_type": "code",
   "execution_count": null,
   "metadata": {},
   "outputs": [],
   "source": [
    "6 * 7.0"
   ]
  },
  {
   "cell_type": "code",
   "execution_count": null,
   "metadata": {},
   "outputs": [],
   "source": [
    "4 + 1.65"
   ]
  },
  {
   "cell_type": "markdown",
   "metadata": {},
   "source": [
    "A float can be added to an integer, because Python silently converts the integer to a float. However, this implicit conversion is the exception rather the rule in Python - usually you have to convert values manually if you want to operate on them.\n",
    "\n",
    "Besides addition, subtraction, multiplication, and division, Python also supports exponentiation, which is the raising of one number to the power of another. This operation is performed using two asterisks."
   ]
  },
  {
   "cell_type": "code",
   "execution_count": null,
   "metadata": {},
   "outputs": [],
   "source": [
    "2 ** 5"
   ]
  },
  {
   "cell_type": "code",
   "execution_count": null,
   "metadata": {},
   "outputs": [],
   "source": [
    "9 ** (1/2)"
   ]
  },
  {
   "cell_type": "markdown",
   "metadata": {},
   "source": [
    "To determine the quotient and remainder of a division, use the floor division and modulo operators, respectively.\n",
    "Floor division is done using two forward slashes.\n",
    "The modulo operator is carried out with a percent symbol (%).\n",
    "These operators can be used with both floats and integers.\n",
    "\n",
    "\n",
    "This code shows that 6 goes into 20 three times, and the remainder when 20 is divided by 6 is 2."
   ]
  },
  {
   "cell_type": "code",
   "execution_count": null,
   "metadata": {},
   "outputs": [],
   "source": [
    "20 // 6"
   ]
  },
  {
   "cell_type": "code",
   "execution_count": null,
   "metadata": {},
   "outputs": [],
   "source": [
    "20 % 6"
   ]
  },
  {
   "cell_type": "markdown",
   "metadata": {},
   "source": [
    "In the example above, 20 % 6 will return 2, because 3*6+2 is equal to 20."
   ]
  },
  {
   "cell_type": "markdown",
   "metadata": {},
   "source": [
    "# Strings\n",
    "If you want to use text in Python, you have to use a string.\n",
    "A string is created by entering text between two single or double quotation marks.\n",
    "\n",
    "When the Python console displays a string, it generally uses single quotes. The delimiter used for a string doesn't affect how it behaves in any way."
   ]
  },
  {
   "cell_type": "code",
   "execution_count": null,
   "metadata": {},
   "outputs": [],
   "source": [
    "\"Python is fun!\""
   ]
  },
  {
   "cell_type": "code",
   "execution_count": null,
   "metadata": {},
   "outputs": [],
   "source": [
    "'Always look on the bright side of life'"
   ]
  },
  {
   "cell_type": "markdown",
   "metadata": {},
   "source": [
    "Some characters can't be directly included in a string. For instance, double quotes can't be directly included in a double quote string; this would cause it to end prematurely.\n",
    "\n",
    "Characters like these must be escaped by placing a backslash before them.\n",
    "Other common characters that must be escaped are newlines and backslashes.\n",
    "\n",
    "Double quotes only need to be escaped in double quote strings, and the same is true for single quote strings.\n",
    "\n"
   ]
  },
  {
   "cell_type": "code",
   "execution_count": null,
   "metadata": {},
   "outputs": [],
   "source": [
    "'Brian\\'s mother: He\\'s not the Messiah. He\\'s a very naughty boy!'"
   ]
  },
  {
   "cell_type": "markdown",
   "metadata": {},
   "source": [
    "\\n represents a new line.\n",
    "Backslashes can also be used to escape tabs, arbitrary Unicode characters, and various other things that can't be reliably printed. These characters are known as escape characters.\n",
    "\n",
    "Python provides an easy way to avoid manually writing \"\\n\" to escape newlines in a string. Create a string with three sets of quotes, and newlines that are created by pressing Enter are automatically escaped for you."
   ]
  },
  {
   "cell_type": "code",
   "execution_count": null,
   "metadata": {},
   "outputs": [],
   "source": [
    "\"\"\"Customer: Good morning.\n",
    "Owner: Good morning, Sir. Welcome to the National Cheese Emporium.\"\"\""
   ]
  },
  {
   "cell_type": "markdown",
   "metadata": {},
   "source": [
    "As you can see, the \\n was automatically put in the output, where we pressed Enter.\n",
    "\n",
    "# Input & Output\n",
    "Usually, programs take input and process it to produce output.\n",
    "In Python, you can use the print function to produce output. This displays a textual representation of something to the screen."
   ]
  },
  {
   "cell_type": "code",
   "execution_count": null,
   "metadata": {},
   "outputs": [],
   "source": [
    "print(\"Hello\\nWorld!\")"
   ]
  },
  {
   "cell_type": "code",
   "execution_count": null,
   "metadata": {},
   "outputs": [],
   "source": [
    "print(1 + 1)"
   ]
  },
  {
   "cell_type": "markdown",
   "metadata": {},
   "source": [
    "When a string is printed, the quotes around it are not displayed.\n",
    "\n",
    "To get input from the user in Python, you can use the intuitively named <b>input</b> function.\n",
    "The function prompts the user for input, and returns what they enter as a string (with the contents automatically escaped)."
   ]
  },
  {
   "cell_type": "code",
   "execution_count": null,
   "metadata": {},
   "outputs": [],
   "source": [
    "input(\"Enter something please: \")"
   ]
  },
  {
   "cell_type": "markdown",
   "metadata": {},
   "source": [
    "The print and input functions aren't very useful at the Python console, which automatically does input and output. However, they are very useful in actual programs.\n",
    "\n",
    "# Concatenation\n",
    "\n",
    "As with integers and floats, strings in Python can be added, using a process called concatenation, which can be done on any two strings.\n",
    "When concatenating strings, it doesn't matter whether they've been created with single or double quotes."
   ]
  },
  {
   "cell_type": "code",
   "execution_count": null,
   "metadata": {},
   "outputs": [],
   "source": [
    "\"First string\" + \", \" + \"second string\""
   ]
  },
  {
   "cell_type": "code",
   "execution_count": null,
   "metadata": {},
   "outputs": [],
   "source": [
    "print(\"First string\" + \", \" + \"second string\")"
   ]
  },
  {
   "cell_type": "markdown",
   "metadata": {},
   "source": [
    "You can't concatenate strings with numbers (integers). Why? Try!"
   ]
  },
  {
   "cell_type": "markdown",
   "metadata": {},
   "source": [
    "Even if your strings contain numbers, they are still added as strings rather than integers. Adding a string to a number produces an error, as even though they might look similar, they are two different entities."
   ]
  },
  {
   "cell_type": "code",
   "execution_count": null,
   "metadata": {},
   "outputs": [],
   "source": [
    "\"2\"+\"3\""
   ]
  },
  {
   "cell_type": "code",
   "execution_count": null,
   "metadata": {},
   "outputs": [],
   "source": [
    "\"2\"+3"
   ]
  },
  {
   "cell_type": "markdown",
   "metadata": {},
   "source": [
    "# String operations\n",
    "\n",
    "Strings can also be multiplied by integers. This produces a repeated version of the original string. The order of the string and the integer doesn't matter, but the string usually comes first.\n",
    "\n",
    "Strings can't be multiplied by other strings. Strings also can't be multiplied by floats, even if the floats are whole numbers."
   ]
  },
  {
   "cell_type": "code",
   "execution_count": null,
   "metadata": {},
   "outputs": [],
   "source": [
    "print(\"test \" * 3)"
   ]
  },
  {
   "cell_type": "code",
   "execution_count": null,
   "metadata": {},
   "outputs": [],
   "source": [
    "\"1\" * 3"
   ]
  },
  {
   "cell_type": "markdown",
   "metadata": {},
   "source": [
    " The **len** function takes a string and evaluates to an int of the number of characters in the string. "
   ]
  },
  {
   "cell_type": "code",
   "execution_count": null,
   "metadata": {},
   "outputs": [],
   "source": [
    "print(len(\"Hello world\"))"
   ]
  },
  {
   "cell_type": "markdown",
   "metadata": {},
   "source": [
    "# Type Conversion\n",
    "\n",
    "In Python, it's impossible to complete certain operations due to the types involved. For instance, you can't add two strings containing the numbers 2 and 3 together to produce the integer 5, as the operation will be performed on strings, making the result '23'.\n",
    "\n",
    "The solution to this is type conversion.\n",
    "\n",
    "In that example, you would use the <b>int</b> function."
   ]
  },
  {
   "cell_type": "code",
   "execution_count": null,
   "metadata": {},
   "outputs": [],
   "source": [
    "\"2\" + \"3\""
   ]
  },
  {
   "cell_type": "code",
   "execution_count": null,
   "metadata": {},
   "outputs": [],
   "source": [
    "int(\"2\") + int(\"3\")"
   ]
  },
  {
   "cell_type": "markdown",
   "metadata": {},
   "source": [
    "In Python, the types we have used so far have been integers, floats, and strings. The functions used to convert to these are <b>int</b>, <b>float</b> and <b>str</b>, respectively.\n",
    "\n",
    "Another example of type conversion is turning user input (which is a string) to numbers (integers or floats), to allow for the performance of calculations."
   ]
  },
  {
   "cell_type": "code",
   "execution_count": null,
   "metadata": {},
   "outputs": [],
   "source": [
    "float(input(\"Enter a number: \")) + float(input(\"Enter another number: \"))"
   ]
  },
  {
   "cell_type": "markdown",
   "metadata": {},
   "source": [
    "Passing non-integer or float values will cause an error.\n",
    "\n",
    "# Variables\n",
    "\n",
    "Variables play a very important role in most programming languages, and Python is no exception. \n",
    "\n",
    "A variable allows you to store a value by assigning it to a name, which can be used to refer to the value later in the program.\n",
    "\n",
    "<img src=\"https://www.tommasoadamo.it/images/lez1/var.jpg\" style=\"margin:auto; width: 250px\"/> \n",
    "\n",
    "To assign a variable, use <b>one equals sign</b>. Unlike most lines of code we've looked at so far, it doesn't produce any output at the Python console."
   ]
  },
  {
   "cell_type": "code",
   "execution_count": null,
   "metadata": {},
   "outputs": [],
   "source": [
    "x = 42"
   ]
  },
  {
   "cell_type": "code",
   "execution_count": null,
   "metadata": {},
   "outputs": [],
   "source": [
    "print(x + 3)"
   ]
  },
  {
   "cell_type": "code",
   "execution_count": null,
   "metadata": {},
   "outputs": [],
   "source": [
    "print(x)"
   ]
  },
  {
   "cell_type": "markdown",
   "metadata": {},
   "source": [
    "You can use variables to perform corresponding operations, just as you did with numbers and strings. As you can see, the variable stores its value throughout the program.\n",
    "\n",
    "Variables can be reassigned as many times as you want, in order to change their value. **When a new value is assigned to a variable, the old one is forgotten**.\n",
    "\n",
    "<img src=\"https://www.tommasoadamo.it/images/lez1/var_assign.jpg\" style=\"margin:auto; width: 320px;\" /> \n",
    "\n",
    "In Python, variables don't have specific types, so you can assign a string to a variable, and later assign an integer to the same variable."
   ]
  },
  {
   "cell_type": "code",
   "execution_count": null,
   "metadata": {},
   "outputs": [],
   "source": [
    "x = 123.456"
   ]
  },
  {
   "cell_type": "code",
   "execution_count": null,
   "metadata": {},
   "outputs": [],
   "source": [
    "print(x)"
   ]
  },
  {
   "cell_type": "code",
   "execution_count": null,
   "metadata": {},
   "outputs": [],
   "source": [
    "x = \"This is a string\""
   ]
  },
  {
   "cell_type": "code",
   "execution_count": null,
   "metadata": {},
   "outputs": [],
   "source": [
    "print(x + \"!\")"
   ]
  },
  {
   "cell_type": "markdown",
   "metadata": {},
   "source": [
    "However, it is not good practice. To avoid mistakes, try to avoid overwriting the same variable with different data types.\n",
    "\n",
    "The **type** function retrieves the type for the value currently stored by a variable.\n"
   ]
  },
  {
   "cell_type": "code",
   "execution_count": null,
   "metadata": {},
   "outputs": [],
   "source": [
    "x = 10\n",
    "print(type(x))\n",
    "x = 45.3\n",
    "print(type(x))\n",
    "x = 'Hello'\n",
    "print(type(x))"
   ]
  },
  {
   "cell_type": "markdown",
   "metadata": {},
   "source": [
    "Certain restrictions apply in regard to the characters that may be used in Python variable names. The only characters that are allowed are letters, numbers, and underscores. Also, they can't start with numbers.\n",
    "\n",
    "Not following these rules results in errors."
   ]
  },
  {
   "cell_type": "markdown",
   "metadata": {},
   "source": [
    "<table class=\"topbot-d\">\n",
    "<colgroup class=\"calibre13\">\n",
    "<col class=\"calibre18\">\n",
    "<col class=\"calibre18\">\n",
    "</colgroup>\n",
    "<thead class=\"calibre15\">\n",
    "<tr class=\"calibre16\">\n",
    "<td class=\"table-h\"><p class=\"tab_th\"><strong class=\"calibre4\">Valid variable names</strong></p></td>\n",
    "<td class=\"table-h\"><p class=\"tab_th\"><strong class=\"calibre4\">Invalid variable names</strong></p></td>\n",
    "</tr>\n",
    "</thead>\n",
    "<tbody class=\"calibre17\">\n",
    "<tr class=\"calibre16\">\n",
    "<td class=\"table-b\"><p class=\"taba\"><span class=\"literal\">current_balance</span></p></td>\n",
    "<td class=\"table-b\"><p class=\"taba\"><span class=\"literal\">current-balance</span> (hyphens are not allowed)</p></td>\n",
    "</tr>\n",
    "<tr class=\"calibre16\">\n",
    "<td class=\"table-v\"><p class=\"taba\"><span class=\"literal\">currentBalance</span></p></td>\n",
    "<td class=\"table-v\"><p class=\"taba\"><span class=\"literal\">current balance</span> (spaces are not allowed)</p></td>\n",
    "</tr>\n",
    "<tr class=\"calibre16\">\n",
    "<td class=\"table-b\"><p class=\"taba\"><span class=\"literal\">account4</span></p></td>\n",
    "<td class=\"table-b\"><p class=\"taba\"><span class=\"literal\">4account</span> (can’t begin with a number)</p></td>\n",
    "</tr>\n",
    "<tr class=\"calibre16\">\n",
    "<td class=\"table-v\"><p class=\"taba\"><span class=\"literal\">_42</span></p></td>\n",
    "<td class=\"table-v\"><p class=\"taba\"><span class=\"literal\">42</span> (can’t begin with a number)</p></td>\n",
    "</tr>\n",
    "<tr class=\"calibre16\">\n",
    "<td class=\"table-b\"><p class=\"taba\"><span class=\"literal\">TOTAL_SUM</span></p></td>\n",
    "<td class=\"table-b\"><p class=\"taba\"><span class=\"literal\">TOTAL_\\$UM</span> (special characters like <span class=\"literal\">$</span> are not allowed)</p></td>\n",
    "</tr>\n",
    "<tr class=\"calibre16\">\n",
    "<td class=\"table-va\"><p class=\"taba\"><span class=\"literal\">hello</span></p></td>\n",
    "<td class=\"table-va\"><p class=\"taba\"><span class=\"literal\">'hello'</span> (special characters like <span class=\"literal\">'</span> are not allowed)</p></td>\n",
    "</tr>\n",
    "</tbody>\n",
    "</table>"
   ]
  },
  {
   "cell_type": "code",
   "execution_count": null,
   "metadata": {},
   "outputs": [],
   "source": [
    "this_is_a_normal_name = 7"
   ]
  },
  {
   "cell_type": "code",
   "execution_count": null,
   "metadata": {},
   "outputs": [],
   "source": [
    "123abc = 7"
   ]
  },
  {
   "cell_type": "code",
   "execution_count": null,
   "metadata": {},
   "outputs": [],
   "source": [
    "no space"
   ]
  },
  {
   "cell_type": "markdown",
   "metadata": {},
   "source": [
    "Python is a case sensitive programming language. Thus, Lastname and lastname are two different variable names in Python.\n",
    "\n",
    "Trying to reference a variable you haven't assigned to causes an error.\n",
    "\n",
    "You can use the **del** statement to remove a variable, which means the reference from the name to the value is deleted, and trying to use the variable causes an error. \n",
    "Deleted variables can be reassigned to later as normal."
   ]
  },
  {
   "cell_type": "code",
   "execution_count": null,
   "metadata": {},
   "outputs": [],
   "source": [
    "foo = \"a string\""
   ]
  },
  {
   "cell_type": "code",
   "execution_count": null,
   "metadata": {},
   "outputs": [],
   "source": [
    "foo"
   ]
  },
  {
   "cell_type": "code",
   "execution_count": null,
   "metadata": {},
   "outputs": [],
   "source": [
    "bar"
   ]
  },
  {
   "cell_type": "code",
   "execution_count": null,
   "metadata": {},
   "outputs": [],
   "source": [
    "del foo"
   ]
  },
  {
   "cell_type": "code",
   "execution_count": null,
   "metadata": {},
   "outputs": [],
   "source": [
    "foo"
   ]
  },
  {
   "cell_type": "markdown",
   "metadata": {},
   "source": [
    "You can also take the value of the variable from the user input."
   ]
  },
  {
   "cell_type": "code",
   "execution_count": null,
   "metadata": {},
   "outputs": [],
   "source": [
    "foo = input(\"Enter a number: \")"
   ]
  },
  {
   "cell_type": "code",
   "execution_count": null,
   "metadata": {},
   "outputs": [],
   "source": [
    "print(foo)"
   ]
  },
  {
   "cell_type": "markdown",
   "metadata": {},
   "source": [
    "# In-place operators\n",
    "\n",
    "In-place operators allow you to write code like 'x = x + 3' more concisely, as 'x += 3'.\n",
    "The same thing is possible with other operators such as -, *, /, //, ** and % as well."
   ]
  },
  {
   "cell_type": "code",
   "execution_count": null,
   "metadata": {},
   "outputs": [],
   "source": [
    "x = 2"
   ]
  },
  {
   "cell_type": "code",
   "execution_count": null,
   "metadata": {},
   "outputs": [],
   "source": [
    "print(x)"
   ]
  },
  {
   "cell_type": "code",
   "execution_count": null,
   "metadata": {},
   "outputs": [],
   "source": [
    "x += 3"
   ]
  },
  {
   "cell_type": "code",
   "execution_count": null,
   "metadata": {},
   "outputs": [],
   "source": [
    "print(x)"
   ]
  },
  {
   "cell_type": "markdown",
   "metadata": {},
   "source": [
    "These operators can be used on types other than numbers, as well, such as strings."
   ]
  },
  {
   "cell_type": "code",
   "execution_count": null,
   "metadata": {},
   "outputs": [],
   "source": [
    "x = \"test \""
   ]
  },
  {
   "cell_type": "code",
   "execution_count": null,
   "metadata": {},
   "outputs": [],
   "source": [
    "print(x)"
   ]
  },
  {
   "cell_type": "code",
   "execution_count": null,
   "metadata": {},
   "outputs": [],
   "source": [
    "x += \"me\""
   ]
  },
  {
   "cell_type": "code",
   "execution_count": null,
   "metadata": {},
   "outputs": [],
   "source": [
    "print(x)"
   ]
  },
  {
   "cell_type": "markdown",
   "metadata": {},
   "source": [
    "# Booleans\n",
    "Another type in Python is the Boolean type. There are two Boolean values: True and False.\n",
    "\n",
    "They can be created by comparing values, for instance by using the equal operator ==."
   ]
  },
  {
   "cell_type": "code",
   "execution_count": null,
   "metadata": {},
   "outputs": [],
   "source": [
    "my_boolean = True"
   ]
  },
  {
   "cell_type": "code",
   "execution_count": null,
   "metadata": {},
   "outputs": [],
   "source": [
    "my_boolean"
   ]
  },
  {
   "cell_type": "code",
   "execution_count": null,
   "metadata": {},
   "outputs": [],
   "source": [
    "2 == 3"
   ]
  },
  {
   "cell_type": "code",
   "execution_count": null,
   "metadata": {},
   "outputs": [],
   "source": [
    "\"hello\" == \"hello\""
   ]
  },
  {
   "cell_type": "markdown",
   "metadata": {},
   "source": [
    "Be careful not to confuse assignment (one equals sign) with comparison (two equals signs).\n",
    "\n",
    "# Comparisons\n",
    "Another comparison operator, the not equal operator (!=), evaluates to True if the items being compared aren't equal, and False if they are.\n"
   ]
  },
  {
   "cell_type": "code",
   "execution_count": null,
   "metadata": {},
   "outputs": [],
   "source": [
    "1 != 1"
   ]
  },
  {
   "cell_type": "code",
   "execution_count": null,
   "metadata": {},
   "outputs": [],
   "source": [
    "\"eleven\" != \"seven\""
   ]
  },
  {
   "cell_type": "code",
   "execution_count": null,
   "metadata": {},
   "outputs": [],
   "source": [
    "2 != 10"
   ]
  },
  {
   "cell_type": "markdown",
   "metadata": {},
   "source": [
    "Python also has operators that determine whether one number (float or integer) is greater than or smaller than another. These operators are > and < respectively."
   ]
  },
  {
   "cell_type": "code",
   "execution_count": null,
   "metadata": {},
   "outputs": [],
   "source": [
    "7 > 5"
   ]
  },
  {
   "cell_type": "code",
   "execution_count": null,
   "metadata": {},
   "outputs": [],
   "source": [
    "10 < 10"
   ]
  },
  {
   "cell_type": "markdown",
   "metadata": {},
   "source": [
    "The greater than or equal to, and smaller than or equal to operators are >= and <=.\n",
    "They are the same as the strict greater than and smaller than operators, except that they return True when comparing equal numbers."
   ]
  },
  {
   "cell_type": "code",
   "execution_count": null,
   "metadata": {},
   "outputs": [],
   "source": [
    "7 <= 8"
   ]
  },
  {
   "cell_type": "code",
   "execution_count": null,
   "metadata": {},
   "outputs": [],
   "source": [
    "9 >= 9.0"
   ]
  },
  {
   "cell_type": "markdown",
   "metadata": {},
   "source": [
    "Greater than and smaller than operators can also be used to compare strings lexicographically (the alphabetical order of words is based on the alphabetical order of their component letters).\n"
   ]
  },
  {
   "cell_type": "code",
   "execution_count": null,
   "metadata": {},
   "outputs": [],
   "source": [
    "\"apple\" < \"banana\""
   ]
  },
  {
   "cell_type": "markdown",
   "metadata": {},
   "source": [
    "# Boolean Logic\n",
    "\n",
    "Boolean logic is used to make more complicated conditions for those statements that rely on more than one condition.\n",
    "\n",
    "Python's Boolean operators are <b>and</b>, <b>or</b>, and <b>not</b>.\n",
    "\n",
    "The <b>and</b> operator takes two arguments, and evaluates as True if, and only if, both of its arguments are True. Otherwise, it evaluates to False.\n",
    "\n",
    "<table class=\"topbot-d\">\n",
    "<colgroup class=\"calibre13\">\n",
    "<col class=\"calibre18\">\n",
    "<col class=\"calibre18\">\n",
    "</colgroup>\n",
    "<thead class=\"calibre15\">\n",
    "<tr class=\"calibre16\">\n",
    "<td class=\"table-h\"><p class=\"tab_th\"><strong class=\"calibre4\">Expression</strong></p></td>\n",
    "<td class=\"table-h\"><p class=\"tab_th\"><strong class=\"calibre4\">Evaluates to . . .</strong></p></td>\n",
    "</tr>\n",
    "</thead>\n",
    "<tbody class=\"calibre17\">\n",
    "<tr class=\"calibre16\">\n",
    "<td class=\"table-b\"><p class=\"taba\"><span class=\"literal\">True and True</span></p></td>\n",
    "<td class=\"table-b\"><p class=\"taba\"><span class=\"literal\">True</span></p></td>\n",
    "</tr>\n",
    "<tr class=\"calibre16\">\n",
    "<td class=\"table-b\"><p class=\"taba\"><span class=\"literal\">True and False</span></p></td>\n",
    "<td class=\"table-b\"><p class=\"taba\"><span class=\"literal\">False</span></p></td>\n",
    "</tr>\n",
    "<tr class=\"calibre16\">\n",
    "<td class=\"table-b\"><p class=\"taba\"><span class=\"literal\">False and True</span></p></td>\n",
    "<td class=\"table-b\"><p class=\"taba\"><span class=\"literal\">False</span></p></td>\n",
    "</tr>\n",
    "<tr class=\"calibre16\">\n",
    "<td class=\"table-ba\"><p class=\"taba\"><span class=\"literal\">False and False</span></p></td>\n",
    "<td class=\"table-ba\"><p class=\"taba\"><span class=\"literal\">False</span></p></td>\n",
    "</tr>\n",
    "</tbody>\n",
    "</table>"
   ]
  },
  {
   "cell_type": "code",
   "execution_count": null,
   "metadata": {},
   "outputs": [],
   "source": [
    "1 == 1 and 2 == 2"
   ]
  },
  {
   "cell_type": "code",
   "execution_count": null,
   "metadata": {},
   "outputs": [],
   "source": [
    "1 == 1 and 2 == 3"
   ]
  },
  {
   "cell_type": "code",
   "execution_count": null,
   "metadata": {},
   "outputs": [],
   "source": [
    "1 != 1 and 2 == 2"
   ]
  },
  {
   "cell_type": "code",
   "execution_count": null,
   "metadata": {},
   "outputs": [],
   "source": [
    "2 < 1 and 3 >  6"
   ]
  },
  {
   "cell_type": "markdown",
   "metadata": {},
   "source": [
    "The <b>or</b> operator also takes two arguments. It evaluates to True if either (or both) of its arguments are True, and False if both arguments are False.\n",
    "\n",
    "<table class=\"topbot-d\">\n",
    "<colgroup class=\"calibre13\">\n",
    "<col class=\"calibre18\">\n",
    "<col class=\"calibre18\">\n",
    "</colgroup>\n",
    "<thead class=\"calibre15\">\n",
    "<tr class=\"calibre16\">\n",
    "<td class=\"table-h\"><p class=\"tab_th\"><strong class=\"calibre4\">Expression</strong></p></td>\n",
    "<td class=\"table-h\"><p class=\"tab_th\"><strong class=\"calibre4\">Evaluates to . . .</strong></p></td>\n",
    "</tr>\n",
    "</thead>\n",
    "<tbody class=\"calibre17\">\n",
    "<tr class=\"calibre16\">\n",
    "<td class=\"table-b\"><p class=\"taba\"><span class=\"literal\">True or True</span></p></td>\n",
    "<td class=\"table-b\"><p class=\"taba\"><span class=\"literal\">True</span></p></td>\n",
    "</tr>\n",
    "<tr class=\"calibre16\">\n",
    "<td class=\"table-b\"><p class=\"taba\"><span class=\"literal\">True or False</span></p></td>\n",
    "<td class=\"table-b\"><p class=\"taba\"><span class=\"literal\">True</span></p></td>\n",
    "</tr>\n",
    "<tr class=\"calibre16\">\n",
    "<td class=\"table-b\"><p class=\"taba\"><span class=\"literal\">False or True</span></p></td>\n",
    "<td class=\"table-b\"><p class=\"taba\"><span class=\"literal\">True</span></p></td>\n",
    "</tr>\n",
    "<tr class=\"calibre16\">\n",
    "<td class=\"table-ba\"><p class=\"taba\"><span class=\"literal\">False or False</span></p></td>\n",
    "<td class=\"table-ba\"><p class=\"taba\"><span class=\"literal\">False</span></p></td>\n",
    "</tr>\n",
    "</tbody>\n",
    "</table>"
   ]
  },
  {
   "cell_type": "code",
   "execution_count": null,
   "metadata": {},
   "outputs": [],
   "source": [
    "1 == 1 or 2 == 2"
   ]
  },
  {
   "cell_type": "code",
   "execution_count": null,
   "metadata": {},
   "outputs": [],
   "source": [
    "1 == 1 or 2 == 3"
   ]
  },
  {
   "cell_type": "code",
   "execution_count": null,
   "metadata": {},
   "outputs": [],
   "source": [
    "1 != 1 or 2 == 2"
   ]
  },
  {
   "cell_type": "code",
   "execution_count": null,
   "metadata": {},
   "outputs": [],
   "source": [
    "2 < 1 or 3 >  6"
   ]
  },
  {
   "cell_type": "markdown",
   "metadata": {},
   "source": [
    "Unlike other operators we've seen so far, <b>not</b> only takes one argument, and inverts it.\n",
    "\n",
    "The result of not True is False, and not False goes to True.\n",
    "\n",
    "<table class=\"topbot-d\">\n",
    "<colgroup class=\"calibre13\">\n",
    "<col class=\"calibre18\">\n",
    "<col class=\"calibre18\">\n",
    "</colgroup>\n",
    "<thead class=\"calibre15\">\n",
    "<tr class=\"calibre16\">\n",
    "<td class=\"table-h\"><p class=\"tab_th\"><strong class=\"calibre4\">Expression</strong></p></td>\n",
    "<td class=\"table-h\"><p class=\"tab_th\"><strong class=\"calibre4\">Evaluates to . . .</strong></p></td>\n",
    "</tr>\n",
    "</thead>\n",
    "<tbody class=\"calibre17\">\n",
    "<tr class=\"calibre16\">\n",
    "<td class=\"table-b\"><p class=\"taba\"><span class=\"literal\">not True</span></p></td>\n",
    "<td class=\"table-b\"><p class=\"taba\"><span class=\"literal\">False</span></p></td>\n",
    "</tr>\n",
    "<tr class=\"calibre16\">\n",
    "<td class=\"table-ba\"><p class=\"taba\"><span class=\"literal\">not False</span></p></td>\n",
    "<td class=\"table-ba\"><p class=\"taba\"><span class=\"literal\">True</span></p></td>\n",
    "</tr>\n",
    "</tbody>\n",
    "</table>"
   ]
  },
  {
   "cell_type": "code",
   "execution_count": null,
   "metadata": {},
   "outputs": [],
   "source": [
    "not 1 == 1"
   ]
  },
  {
   "cell_type": "code",
   "execution_count": null,
   "metadata": {},
   "outputs": [],
   "source": [
    "not 1 > 7"
   ]
  },
  {
   "cell_type": "markdown",
   "metadata": {},
   "source": [
    "# Operator Precedence\n",
    "\n",
    "Operator precedence is a very important concept in programming. It is an extension of the mathematical idea of order of operations (multiplication being performed before addition, etc.) to include other operators, such as those in Boolean logic.\n",
    "\n",
    "The below code shows that == has a higher precedence than or:"
   ]
  },
  {
   "cell_type": "code",
   "execution_count": null,
   "metadata": {},
   "outputs": [],
   "source": [
    "False == False or True"
   ]
  },
  {
   "cell_type": "code",
   "execution_count": null,
   "metadata": {},
   "outputs": [],
   "source": [
    "False == (False or True)"
   ]
  },
  {
   "cell_type": "code",
   "execution_count": null,
   "metadata": {},
   "outputs": [],
   "source": [
    "(False == False) or True"
   ]
  },
  {
   "cell_type": "markdown",
   "metadata": {},
   "source": [
    "Python's order of operations is the same as that of normal mathematics: parentheses first, then exponentiation, then multiplication/division, and then addition/subtraction.\n",
    "\n",
    "\n",
    "<img src=\"https://www.tommasoadamo.it/images/lez1/precedence.jpeg\" style=\"margin:auto\" />\n",
    "\n",
    "Operators in the same box have the same precedence.\n",
    "\n",
    "**Associativity** is the order in which an expression with multiple operators of the same precedence is evaluated. Almost all the operators have left-to-right associativity."
   ]
  },
  {
   "cell_type": "code",
   "execution_count": null,
   "metadata": {},
   "outputs": [],
   "source": [
    "print(5 * 2 // 3)"
   ]
  },
  {
   "cell_type": "code",
   "execution_count": null,
   "metadata": {},
   "outputs": [],
   "source": [
    "print(5 * (2 // 3))"
   ]
  },
  {
   "cell_type": "markdown",
   "metadata": {},
   "source": [
    "Exponent operator ** and assignment operator = have right-to-left associativity in Python."
   ]
  },
  {
   "cell_type": "code",
   "execution_count": null,
   "metadata": {},
   "outputs": [],
   "source": [
    "print(2 ** 3 ** 2)"
   ]
  },
  {
   "cell_type": "raw",
   "metadata": {},
   "source": [
    "Output: 512, Since 2**(3**2) = 2**9\n",
    "If 2 needs to be exponentiated first, we need to use () obtaining 64 as output."
   ]
  },
  {
   "cell_type": "code",
   "execution_count": null,
   "metadata": {},
   "outputs": [],
   "source": [
    "print((2 ** 3) ** 2)"
   ]
  },
  {
   "cell_type": "markdown",
   "metadata": {},
   "source": [
    "Some operators like in-place operators do not have associativity in Python; comparison operators have separate rules for sequences of this kind of operator and cannot be expressed as associativity."
   ]
  },
  {
   "cell_type": "markdown",
   "metadata": {},
   "source": [
    "# Comments\n",
    "\n",
    "Comments are annotations to code used to make it easier to understand. They don't affect how code is run.\n",
    "In Python, a comment is created by inserting an octothorpe (otherwise known as a number sign or hash symbol: #). All text after it on that line is ignored.\n",
    "\n",
    "For example:"
   ]
  },
  {
   "cell_type": "code",
   "execution_count": null,
   "metadata": {},
   "outputs": [],
   "source": [
    "x = 365\n",
    "y = 7\n",
    "# this is a comment\n",
    "\n",
    "print(x % y) # find the remainder\n",
    "# print (x // y)\n",
    "# another comment"
   ]
  },
  {
   "cell_type": "code",
   "execution_count": null,
   "metadata": {},
   "outputs": [],
   "source": []
  }
 ],
 "metadata": {
  "kernelspec": {
   "display_name": "Python 3 (ipykernel)",
   "language": "python",
   "name": "python3"
  },
  "language_info": {
   "codemirror_mode": {
    "name": "ipython",
    "version": 3
   },
   "file_extension": ".py",
   "mimetype": "text/x-python",
   "name": "python",
   "nbconvert_exporter": "python",
   "pygments_lexer": "ipython3",
   "version": "3.8.12"
  }
 },
 "nbformat": 4,
 "nbformat_minor": 4
}
