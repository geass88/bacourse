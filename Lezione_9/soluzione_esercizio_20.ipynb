{
 "cells": [
  {
   "cell_type": "markdown",
   "id": "blessed-retention",
   "metadata": {},
   "source": [
    "## Esercizio 20\n",
    "\n",
    "#### Scrivere una funzione che presa una stringa ottale restituisca il corrispondente numero decimale.\n",
    "\n",
    "Esempio:\n",
    "> $250_8 = 168_{10}$\n",
    "\n",
    "> $7265_8 = 3765_{10}$"
   ]
  },
  {
   "cell_type": "code",
   "execution_count": null,
   "id": "turkish-quarterly",
   "metadata": {},
   "outputs": [],
   "source": [
    "def octToDec(Nconv):\n",
    "    N = 0\n",
    "    e = len(Nconv)-1\n",
    "    for c in Nconv:\n",
    "        N += int(c) * 8**e\n",
    "        e -= 1\n",
    "    return N\n",
    "\n",
    "ottale = input('Inserisci una stringa ottale: ')\n",
    "print('In decimale è: ' + str(octToDec(ottale)))"
   ]
  }
 ],
 "metadata": {
  "kernelspec": {
   "display_name": "Python 3 (ipykernel)",
   "language": "python",
   "name": "python3"
  },
  "language_info": {
   "codemirror_mode": {
    "name": "ipython",
    "version": 3
   },
   "file_extension": ".py",
   "mimetype": "text/x-python",
   "name": "python",
   "nbconvert_exporter": "python",
   "pygments_lexer": "ipython3",
   "version": "3.8.12"
  }
 },
 "nbformat": 4,
 "nbformat_minor": 5
}
