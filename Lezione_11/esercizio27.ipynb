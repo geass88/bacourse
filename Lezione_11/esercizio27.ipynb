{
 "cells": [
  {
   "cell_type": "markdown",
   "metadata": {},
   "source": [
    "## Esercizio 27\n",
    "\n",
    "#### Scrivere una funzione che calcoli il prodotto scalare di due vettori.\n",
    "\n",
    "Dati due vettori $u = [u_1, u_2, \\dots, u_K] $ e $v = [v_1, v_2, \\dots, v_K] $, definiti sullo stesso spazio vettoriale, il loro prodotto scalare è:\n",
    "\n",
    "$\\Large u \\cdot v = \\sum\\limits_{k = 1}^{K} u_k v_k$ \n",
    "\n",
    "Esempio:\n",
    "\n",
    "$u = [1,2,3, 20,8], \\ v = [30, 4, 20, 5,6] \\qquad \\qquad u \\cdot v = 246$\n",
    " "
   ]
  },
  {
   "cell_type": "code",
   "execution_count": null,
   "metadata": {},
   "outputs": [],
   "source": [
    "def prodotto_scalare(V1, V2):\n",
    "    if len(V1) == len(V2):\n",
    "        prodotto = 0\n",
    "        for i in range(len(V1)):\n",
    "            prodotto += V1[i] * V2[i]\n",
    "        return prodotto\n",
    "    else:\n",
    "        return None\n",
    "    \n",
    "u = [1, 2, 3, 20, 8]\n",
    "v = [30, 4, 20, 5, 6]\n",
    "r = prodotto_scalare(u, v)\n",
    "if r == None:\n",
    "    print('errore: i due vettori non hanno la stessa lunghezza')\n",
    "else:\n",
    "    print(r)"
   ]
  }
 ],
 "metadata": {
  "kernelspec": {
   "display_name": "Python 3 (ipykernel)",
   "language": "python",
   "name": "python3"
  },
  "language_info": {
   "codemirror_mode": {
    "name": "ipython",
    "version": 3
   },
   "file_extension": ".py",
   "mimetype": "text/x-python",
   "name": "python",
   "nbconvert_exporter": "python",
   "pygments_lexer": "ipython3",
   "version": "3.8.12"
  }
 },
 "nbformat": 4,
 "nbformat_minor": 4
}
