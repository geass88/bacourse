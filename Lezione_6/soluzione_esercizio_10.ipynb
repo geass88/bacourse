{
 "cells": [
  {
   "cell_type": "markdown",
   "metadata": {},
   "source": [
    "## Esercizio 10\n",
    "\n",
    "#### Determinare la lunghezza di una stringa senza usare la funzione <b>len</b>"
   ]
  },
  {
   "cell_type": "code",
   "execution_count": null,
   "metadata": {},
   "outputs": [],
   "source": [
    "stringa = input('Inserisci un testo: ')\n",
    "lunghezza = 0\n",
    "for c in stringa:\n",
    "    lunghezza += 1\n",
    "print('Lunghezza: '+str(lunghezza))\n",
    "print('verifica: ' + str(len(stringa)))"
   ]
  }
 ],
 "metadata": {
  "kernelspec": {
   "display_name": "Python 3 (ipykernel)",
   "language": "python",
   "name": "python3"
  },
  "language_info": {
   "codemirror_mode": {
    "name": "ipython",
    "version": 3
   },
   "file_extension": ".py",
   "mimetype": "text/x-python",
   "name": "python",
   "nbconvert_exporter": "python",
   "pygments_lexer": "ipython3",
   "version": "3.8.12"
  }
 },
 "nbformat": 4,
 "nbformat_minor": 4
}
