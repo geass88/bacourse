{
 "cells": [
  {
   "cell_type": "markdown",
   "metadata": {},
   "source": [
    "## Esercizio 52 - Diet problem\n",
    "\n",
    "The goal of the diet problem is to select a set of foods that will satisfy a set of daily nutritional requirement at minimum cost. The problem is formulated as a linear program where the objective is to minimize cost and the constraints are to satisfy the specified nutritional requirements. The diet problem constraints typically regulate the number of calories and the amount of vitamins, minerals, fats, sodium, and cholesterol in the diet. While the mathematical formulation is simple, the solution may not be palatable! The nutritional requirements can be met without regard for taste or variety, so consider the output before digging into a meal from an \"optimal\" menu!\n",
    "\n",
    "Given a set of foods $F$ and a set of nutrients $N$, along with the nutrient information for each food $\\gamma_{ij}$ and the cost per serving of each food $u_i$, the objective of the diet problem is to select the number of servings of each food $x_i$ to purchase (and consume) so as to minimize the cost of the food while meeting the specified nutritional requirements. Typically, the nutritional requirements are expressed as a minimum $q^N_j$ and a maximum $Q^N_j$ allowable level for each nutritional component. Other constraints such a minimum $q^F_j$ and/or maximum number $Q^F_j$ of servings may be included to improve the quality of the menu.\n",
    "\n",
    "\\begin{align}\n",
    "\\min \\quad & \\sum\\limits_{i \\in F} u_i x_i &\\\\\n",
    "s.t.\\quad & q^N_j \\leq \\sum\\limits_{i \\in F} \\gamma_{ij} x_i \\leq Q^N_j  & j \\in N \\\\\n",
    "\\quad & q^F_i \\leq x_i \\leq Q^F_i & i \\in F\\\\\n",
    "\\quad & x_i \\quad \\mbox{integer} & i \\in F\n",
    "\\end{align}"
   ]
  },
  {
   "cell_type": "markdown",
   "metadata": {},
   "source": [
    "* TEST: diet.json\n",
    "\n",
    "> Total cost = 2.87<br>\n",
    "> Buy 2 of Spaghetti W/ Sauce<br>\n",
    "> Buy 1 of Apple,Raw,W/Skin<br>\n",
    "> Buy 10 of Chocolate Chip Cookies<br>\n",
    "> Buy 2 of Lowfat Milk<br>\n",
    "> Buy 1 of Hotdog<br>\n",
    "> Total Calories = 2063.3<br>\n",
    "> Total Calcium = 849.0<br>\n",
    "> Total Iron = 11.3<br>\n",
    "> Total Vit_A = 8201.9<br>\n",
    "> Total Dietary_Fiber = 26.9<br>\n",
    "> Total Carbohydrates = 272.0<br>\n",
    "> Total Protein = 52.3"
   ]
  },
  {
   "cell_type": "code",
   "execution_count": null,
   "metadata": {},
   "outputs": [],
   "source": [
    "# ALERT: execute this cell to prepare input data!\n",
    "import requests\n",
    "def download(link, nomeFile=None):\n",
    "    if nomeFile == None:\n",
    "        nomeFile = link.split('/')[-1]\n",
    "    richiesta = requests.get(link)\n",
    "    if richiesta.status_code == 200:\n",
    "        with open(nomeFile, 'w') as file:\n",
    "            file.write(richiesta.text)\n",
    "            \n",
    "download('https://tommasoadamo.it/data/diet.json')"
   ]
  },
  {
   "cell_type": "code",
   "execution_count": null,
   "metadata": {},
   "outputs": [],
   "source": [
    "# ALERT: execute this cell to install DOcplex! \n",
    "!pip install docplex cplex"
   ]
  },
  {
   "cell_type": "code",
   "execution_count": null,
   "metadata": {},
   "outputs": [],
   "source": []
  }
 ],
 "metadata": {
  "kernelspec": {
   "display_name": "Python 3 (ipykernel)",
   "language": "python",
   "name": "python3"
  },
  "language_info": {
   "codemirror_mode": {
    "name": "ipython",
    "version": 3
   },
   "file_extension": ".py",
   "mimetype": "text/x-python",
   "name": "python",
   "nbconvert_exporter": "python",
   "pygments_lexer": "ipython3",
   "version": "3.8.12"
  }
 },
 "nbformat": 4,
 "nbformat_minor": 4
}
