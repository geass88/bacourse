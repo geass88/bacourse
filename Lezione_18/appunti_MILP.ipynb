{
 "cells": [
  {
   "cell_type": "markdown",
   "metadata": {},
   "source": [
    "# Tutorial: Beyond Linear Programming, (CPLEX Part2)\n",
    "\n",
    "This notebook describes some non-LP techniques and also under which conditions they should be used. \n",
    "\n",
    "Before continuing, you should ensure you followed the CPLEX Tutorial Part 1.\n",
    "\n",
    "After completing this unit, you should be able to describe the differences between Linear Programming (LP), Integer Programming (IP), and Mixed-Integer Programming (MIP). You should also be able to construct a simple MIP model. \n",
    "\n",
    ">This notebook is part of **[Prescriptive Analytics for Python](http://ibmdecisionoptimization.github.io/docplex-doc/)**\n",
    ">\n",
    ">It requires either an [installation of CPLEX Optimizers](http://ibmdecisionoptimization.github.io/docplex-doc/getting_started.html) or it can be run on [IBM Watson Studio Cloud](https://www.ibm.com/cloud/watson-studio/) (Sign up for a [free IBM Cloud account](https://dataplatform.cloud.ibm.com/registration/stepone?context=wdp&apps=all>)\n",
    "and you can start using Watson Studio Cloud right away).\n",
    "\n",
    "\n",
    "Table of contents:\n",
    "\n",
    "* [CPLEX Modeling for Python](#Use-IBM-Decision-Optimization-CPLEX-Modeling-for-Python)\n",
    "* [Integer Optimization](#Integer-Optimization)\n",
    "\n",
    "We will use DOcplex to write small samples to illustrate the topics."
   ]
  },
  {
   "cell_type": "markdown",
   "metadata": {},
   "source": [
    "## Use IBM Decision Optimization CPLEX Modeling for Python\n",
    "\n",
    "Let's use the [DOcplex](http://ibmdecisionoptimization.github.io/docplex-doc/) Python library to write sample models in Python."
   ]
  },
  {
   "cell_type": "code",
   "execution_count": null,
   "metadata": {},
   "outputs": [],
   "source": [
    "# ALERT: execute this cell to install DOcplex! \n",
    "!pip install docplex cplex"
   ]
  },
  {
   "cell_type": "markdown",
   "metadata": {},
   "source": [
    "### Step 1: Import the library\n",
    "\n",
    "First import *docplex*."
   ]
  },
  {
   "cell_type": "code",
   "execution_count": null,
   "metadata": {},
   "outputs": [],
   "source": [
    "import docplex.mp.model as cplex"
   ]
  },
  {
   "cell_type": "markdown",
   "metadata": {},
   "source": [
    "# Integer Optimization\n",
    "\n",
    "In this topic, you’ll learn how to deal with integer decision variables by using Integer Programming and Mixed-Integer Programming, and how these techniques differ from LP.\n",
    "\n",
    "## Problems requiring integers\n",
    "\n",
    "For some optimization problems the decision variables should take integer values. \n",
    "\n",
    "- One example is problems involving the production of large indivisible items, such as airplanes or cars.  It usually does not make sense to use a continuous variable to represent the number of airplanes to produce, because there is no point in manufacturing a partial airplane, and each finished airplane involves a large cost.  \n",
    "\n",
    "- Another example of where one would use integer variables is to model a particular state, such as on or off. For example, a unit commitment problem where integer variables are used to represent the state of a particular unit being either on or off.  \n",
    "\n",
    "- Planning of investments also requires integer variables, for example a variable that takes a value of 1 to invest in a warehouse, and 0 to ignore it.  \n",
    "\n",
    "Finally, integer variables are often used to model logic between different decision, for example that a given tax break is only applicable if a certain investment is made.\n",
    "\n",
    "## Different types of integer decisions\n",
    "\n",
    "Many types of decisions can be modeled by using integer variables. \n",
    "\n",
    "One example is yes/no decisions, with a value of 1 for yes, and 0 for no. For example, if x equals 1, new manufacturing equipment should be installed, and if x equals 0, it should not. \n",
    "\n",
    "Integer variables are also used to model state or mode decisions. For example, if z1 equals 1 the machine operates in mode 1, if z2 equals 1, the machine operates in mode 2, and if z3 equals 1 the machine operates in mode 3.  The same integer is often used to express both yes/no decisions and logic. For example, y1 equals 1 could in this case also be used to indicate that machine 1 is installed, and 0 otherwise. \n",
    "\n",
    "Finally, integer variables are used tomodel cases where a value can take only integer values: for example: how many flights should a company operate between two airports.\n",
    "\n",
    "## Types of integer variables\n",
    "\n",
    "In general, integer variables can take any integer value, such as 0, 1, 2, 3, and so forth.  Integers that should only take the values of 1 or 0 are known as binary (or Boolean) variables. Binary variables are also often referred to as Boolean variables because the Boolean values of true and false are analogous to 1 and 0. \n",
    "\n",
    "To ensure that an integer variable can only take the values 0 and 1, one can give it an upper bound of 1 or declare it to be of type binary. In a DOcplex  model, decision variables are assumed to be nonnegative unless otherwise specified and the lower bound of 0 does not need to be declared explicitly. "
   ]
  },
  {
   "cell_type": "markdown",
   "metadata": {},
   "source": [
    "### Declaring integer decision variables in DOcplex\n",
    "\n",
    "DOcplex has specific methods to create integer and binary variables."
   ]
  },
  {
   "cell_type": "code",
   "execution_count": null,
   "metadata": {},
   "outputs": [],
   "source": [
    "import docplex.mp.model as cplex\n",
    "with cplex.Model('integer_programming') as mdl:\n",
    "    b = mdl.binary_var(name='b')  # b is a binary variable\n",
    "    z = mdl.integer_var(name='z') # z is a integer variable\n",
    "    mdl.print_information()"
   ]
  },
  {
   "cell_type": "markdown",
   "metadata": {},
   "source": [
    "## Modeling techniques with integer and binary variables\n",
    "\n",
    "Integer and binary variables are very useful to express logical constraints. Here are a few examples of\n",
    "such constraints.\n",
    "\n",
    "### Indicator variables\n",
    "\n",
    "Indicator variables are binary variables used to indicate whether a certain set of conditions is valid (with the variable equal to 1) or not (with the variable equal to 0). For example, consider a production problem where you want to distinguish between two states, namely production above a minimum threshold, and no production. \n",
    "\n",
    "To model this, define a binary variable $y$ to take a value of 1 if the production is above the minimum threshold (called minProd), and 0 if there is no production. Assume $production$ is a continuous variable containing the produced quantity. \n",
    "This leads to these two constraints.\n",
    "\n",
    "$$\n",
    "production \\ge minProd \\cdot y\\\\\n",
    "production \\le maxProd \\cdot y\n",
    "$$\n",
    "\n",
    "Here, maxProd is an upper bound on the production quantity. Thus, if y = 1, the minimum and maximum production bounds hold, and if y = 0, the production is set to zero. \n",
    "\n",
    "\n",
    "### Logical constraints - an example\n",
    "\n",
    "For example, consider an investment decision involving a production plant and two warehouses. \n",
    "\n",
    "- If the production plant is invested in, then either warehouse 1 or warehouse 2 may be invested in (not both).\n",
    "\n",
    "- If the production plant is not invested in, then neither of the two warehouses may be invested in.\n",
    "\n",
    "Let $yPlant$ be 1 if you decide to invest in the production plant, and 0 otherwise. \n",
    "Similar for $yWarehouse1$ and $yWarehouse2$.\n",
    "Then this example can be modeled as follows:\n",
    "\n",
    "$$\n",
    "yWarehouse1 + yWarehouse2 \\leq yPlant\n",
    "$$\n",
    "\n",
    "If $yPlant$ is 0 then both $yWarehouse1$ and $yWarehouse2$ are set to zero. \n",
    "\n",
    "On the opposite, if one warehouse variable is set to 1, then $yPlant$ is also set to 1. Finally, this constraint also states that warehouse variables cannot be both equal to 1.\n"
   ]
  },
  {
   "cell_type": "markdown",
   "metadata": {},
   "source": [
    "## IP versus MIP\n",
    "\n",
    "When all the decision variables in a linear model should take integer values, the model is an Integer Program (or **IP**). \n",
    "\n",
    "When some of the decision variables may also take continuous values, the model is a Mixed Integer Program (or **MIP**). \n",
    "\n",
    "MIPs are very common in, for example, some supply chain applications where investment decisions may be represented by integers and production quantities are represented by continuous variables.\n",
    "\n",
    "IPs and MIPs are generally much more difficult to solve than LPs.\n",
    "\n",
    "The solution complexity increases with the number of possible combinations of the integer variables, and such problems are often referred to as being “combinatorial”.\n",
    "\n",
    "In the worst case, the solution complexity increases exponentially with the number of integer decision variables.\n",
    "\n",
    "Many advanced algorithms can solve complex IPs and MIPs in reasonable time\n"
   ]
  },
  {
   "cell_type": "markdown",
   "metadata": {},
   "source": [
    "### An integer programming example\n",
    "\n",
    "In the telephone production problem where the optimal solution found in chapter 2 'Linear programming' had integer values, it is possible that the solution becomes non-integer under certain circumstances, for example:\n",
    "\n",
    "- Change the availability of the assembly machine to 401 hours\n",
    "- Change the painting machine availability to 492 hours\n",
    "- Change the profit for a desk phone to 12.4\n",
    "- Change the profit for a cell phone to 20.2\n",
    "\n",
    "The fractional values for profit are quite realistic. Even though the fractional times for availability are not entirely realistic, these are used here to illustrate how fractional solutions may occur. \n",
    "\n",
    "Let's solve again the telephone production problem with these new data. A detailed explanation of the model is found in notebook 2: 'Linear Programming'"
   ]
  },
  {
   "cell_type": "code",
   "execution_count": null,
   "metadata": {},
   "outputs": [],
   "source": [
    "import docplex.mp.model as cplex\n",
    "\n",
    "with cplex.Model('lp_telephone_production') as lm:\n",
    "    desk = lm.continuous_var(name='desk')\n",
    "    cell = lm.continuous_var(name='cell')\n",
    "    # write constraints\n",
    "    # constraint #1: desk production is greater than 100\n",
    "    lm.add_constraint(desk >= 100, 'desk_lb')\n",
    "\n",
    "    # constraint #2: cell production is greater than 100\n",
    "    lm.add_constraint(cell >= 100, 'cell_lb')\n",
    "\n",
    "    # constraint #3: assembly time limit\n",
    "    lm.add_constraint( 0.2 * desk + 0.4 * cell <= 401, 'assembly_limit')\n",
    "\n",
    "    # constraint #4: painting time limit\n",
    "    lm.add_constraint( 0.5 * desk + 0.4 * cell <= 492, 'painting_limit')\n",
    "    lm.maximize(12.4 * desk + 20.2 * cell)\n",
    "    lm.print_information()\n",
    "    ls = lm.solve(log_output=True)\n",
    "    if ls == None:\n",
    "        print('No solution.')\n",
    "    else:\n",
    "        print(ls)    "
   ]
  },
  {
   "cell_type": "markdown",
   "metadata": {},
   "source": [
    "As we can see the optimal solution contains fractional values for number of telephones, which are not realistic.\n",
    "To ensure we get integer values in the solution, we can use integer decision variables.\n",
    "\n",
    "Let's solve a new model, identical except that its two decision variables are declared as _integer_ variables."
   ]
  },
  {
   "cell_type": "code",
   "execution_count": null,
   "metadata": {},
   "outputs": [],
   "source": [
    "import docplex.mp.model as cplex\n",
    "\n",
    "with cplex.Model('ip_telephone_production') as im:\n",
    "    desk = im.integer_var(name='desk')\n",
    "    cell = im.integer_var(name='cell')\n",
    "    # write constraints\n",
    "    # constraint #1: desk production is greater than 100\n",
    "    im.add_constraint(desk >= 100, 'desk_lb')\n",
    "\n",
    "    # constraint #2: cell production is greater than 100\n",
    "    im.add_constraint(cell >= 100, 'cell_lb')\n",
    "\n",
    "    # constraint #3: assembly time limit\n",
    "    im.add_constraint( 0.2 * desk + 0.4 * cell <= 401, 'assembly_limit')\n",
    "\n",
    "    # constraint #4: painting time limit\n",
    "    im.add_constraint( 0.5 * desk + 0.4 * cell <= 492, 'painting_limit')\n",
    "    im.maximize(12.4 * desk + 20.2 * cell)\n",
    "\n",
    "    im.print_information()\n",
    "    si = im.solve(log_output=True)\n",
    "    if si == None:\n",
    "        print('No solution.')\n",
    "    else:\n",
    "        print(si)"
   ]
  },
  {
   "cell_type": "markdown",
   "metadata": {},
   "source": [
    "As expected, the IP model returns integer values as optimal solution.\n",
    "\n",
    "<img src = \"https://www.tommasoadamo.it/images/lez18/1_39.png\" >\n",
    "\n",
    "This graphic shows the new feasible region where the dots indicate the feasible solutions.  That is, solutions where the variables take only integer values.  This graphic is not according to scale, because it’s not possible to indicate all the integer points graphically for this example. What you should take away from this graphic, is that the feasible region is now a collection of points, as opposed to a solid area.  Because, in this example, the integer solution does not lie on an extreme point of the continuous feasible region, LP techniques would not find the integer optimum.  To find the integer optimum, you should use an integer programming technique. \n"
   ]
  },
  {
   "cell_type": "markdown",
   "metadata": {},
   "source": [
    "### Rouding a fractional solution\n",
    "\n",
    "An idea that often comes up to deal with fractional solutions is to solve an LP and then round the fractional numbers in order to find an integer solution. However, because the optimal solution is always on the edge of the feasible region, rounding can lead to an infeasible solution, that is, a solution that lies outside the feasible region. In the case of the telephone problem, rounding would produce infeasible results for both types of phones. \n",
    "\n",
    "When large quantities of items are produced, for example thousands of phones, rounding may be still be a good approach to avoid integer variables.\n",
    "In general, you should use an integer programming algorithm to solve IPs.  The most well-known of these is the branch-and-bound algorithm. \n"
   ]
  },
  {
   "cell_type": "markdown",
   "metadata": {},
   "source": [
    "## The branch and bound method\n",
    "\n",
    "The _branch and bound_ method, implemented in CPLEX Mixed-Integer Optimizer, provides an efficient way to solve IP and MIP problems. This method begins by relaxing the integer requirement and treating the problem as an LP. If all the variables take integer values, the solution is complete. If not, the algorithm begins a tree search.  You’ll now see an example of this tree search. \n",
    "\n",
    "Consider this integer programming problem, involving an objective to maximize, three constraints, and three non-negative integer variables (this is the default for DOcplex variables).\n",
    "\n",
    "$\n",
    "maximize\\ \\ \\ x + y + 2 z\\\\\n",
    "subject\\ to: 7x + 2y + 3z \\leq 36\\\\\n",
    "\\ \\ \\ \\ \\ \\ \\ \\ \\ \\ \\ \\ \\ \\ \\ \\ \\ \\ \\ \\ 5x + 4y + 7z \\leq 42\\\\\n",
    "\\ \\ \\ \\ \\ \\ \\ \\ \\ \\ \\ \\ \\ \\ \\ \\ \\ \\ \\ \\ 2x + 3y + 5z \\leq 28\\\\\n",
    "\\ \\ \\ \\ \\ \\ \\ \\ \\ \\ \\ \\ \\ \\ \\ \\ \\ \\ \\ \\ x,y,z \\geq 0 \\quad \\mbox{integer}\n",
    "$\n",
    "\n",
    "### Branch and Bound: the root node\n",
    "\n",
    "The first node of the branch and bound tree is the LP relaxation of the original IP model.  \n",
    "LP relaxation means that the integer variables have been relaxed to be continuous variables.  \n",
    "The solution to the LP relaxation of a maximization IP, such as this, provides an upper bound to the original problem, in this case that bound is eleven and five elevenths.  \n",
    "The current lower bound is minus infinity. \n",
    "\n",
    "<img src = \"https://www.tommasoadamo.it/images/lez18/1_43.png\" >\n",
    "\n",
    "In this case, the solution is fractional and the tree search continues in order to try and find an integer solution.\n",
    "\n",
    "### Branch and Bound: branching on a variable\n",
    "\n",
    "The algorithm next chooses one of the variables to branch on, in this case $x$, and adds two constraints to create two subproblems.  \n",
    "These two constraints are based on the relaxed value of x, namely one and three elevenths.  In the one subproblem, $x$ is required to be less than or equal to one, and in the other problem, $x$ is required to be greater than or equal to two, in order to eliminate the fractional solution found.  \n",
    "IP2 gives another fractional solution, but IP3 gives an integer solution.  This integer solution of 10 is the new lower bound to the original maximization problem, because it is the best current solution to the maximization problem.  \n",
    "\n",
    "<img src = \"https://www.tommasoadamo.it/images/lez18/1_44.png\" >\n",
    "\n",
    "The algorithm will terminate when the gap between the upper and lower bounds is sufficiently small, but at this point there is still more of the tree to explore.\n",
    "\n",
    "### Branch and Bound: iteration\n",
    "\n",
    "<img src = \"https://www.tommasoadamo.it/images/lez18/1_45.png\" >\n",
    "\n",
    "Two new subproblems are now generated from IP2, and these constraints are determined by the fractional value of z in IP2.  In IP4, z must be less than or equal to 5, and in IP3 z must be greater than or equal to 6. IP4 gives another fractional solution, while IP3 is infeasible and can be pruned.  When a node is pruned, the node is not explored further in the tree.\n",
    "\n",
    "<img src = \"https://www.tommasoadamo.it/images/lez18/1_46.png\" >\n",
    "\n",
    "Next, two more subproblems are created from IP4, namely one with y less than or equal to zero in IP6, and one with y greater than or equal to 1 in IP5.  IP6 yields an integer solution of 11, which is an improvement of the previously found lower bound of 10. IP5 gives a fractional solution and can be explored further.\n",
    "\n",
    "<img src = \"https://www.tommasoadamo.it/images/lez18/1_47.png\" >\n",
    "\n",
    "So another two subproblems are created from IP5, namely IP8 with z less than or equal to 4, and IP7 with z greater than or equal to 5.  However, the constraint added for IP4 specifies that z must be less than or equal to 5, so node IP7 immediately yields an integer solution with an objective value of 11, which is the same objective as for IP6.  IP8 yields an integer solution with objective value of 9, which is a worse solution than those previously found and IP8 can therefore be discarded.  \n",
    "\n",
    "The optimal solution reported is the integer solution with the best objective value that was found first, namely the solution to IP6."
   ]
  },
  {
   "cell_type": "markdown",
   "metadata": {},
   "source": [
    "The progess of the Branch & Bound algorithm can be monitored by looking at the CPLEX the _log_. Adding the keyword argument `log_output=True` to the `Model.solve()` method will print the log on the standard output.\n",
    "You can see the best bound going down until the gap closes and the final solution of 11 is returned.\n",
    "By default the CPLEX log is not printed."
   ]
  },
  {
   "cell_type": "code",
   "execution_count": null,
   "metadata": {},
   "outputs": [],
   "source": [
    "import docplex.mp.model as cplex\n",
    "\n",
    "with cplex.Model('b&b') as bbm:\n",
    "    x = bbm.integer_var(name='x')\n",
    "    y = bbm.integer_var(name='y')\n",
    "    z = bbm.integer_var(name='z')\n",
    "    bbm.maximize(x + y + 2*z)\n",
    "    bbm.add_constraint(7*x + 2*y + 3*z <= 36)\n",
    "    bbm.add_constraint(5*x + 4*y + 7*z <= 42)\n",
    "    bbm.add_constraint(2*x + 3*y + 5*z <= 28)\n",
    "    bbm.print_information()\n",
    "    s = bbm.solve(log_output=True)\n",
    "    if s == None:\n",
    "        print('No solution.')\n",
    "    else:\n",
    "        print(s)"
   ]
  },
  {
   "cell_type": "markdown",
   "metadata": {},
   "source": [
    "## Modeling yes/no decisions with binary variables: an example\n",
    "\n",
    "Binary variables are often used to model yes/no decisions.  \n",
    "Consider again the telephone production problem. The company is considering replacing the assembly machine with a newer machine that requires less time for cell phones, namely 18 minutes per phone, but more time for desk phones, namely 15 minutes per phone. This machine is available for 430 hours, as opposed to the 400 hours of the existing assembly machine, because it requires less downtime. \n",
    "\n",
    "We will design and write a model that uses binary variables to help the company choose between the two machines. \n",
    "\n",
    "The steps to formulate the mixed-integer model are:\n",
    "- Add four new variables (desk1, desk2, cell1, and cell2, to indicate the production on assembly machines 1 and 2, respectively.\n",
    "- Add two constraints to define the total production of desk and cell to equal the sum of production from the two assembly machines.\n",
    "- Rewrite the constraint for assembly machine 1 to use the new variables for that machine (desk1 and cell1).\n",
    "- Add a similar constraint for the production on assembly machine 2.\n",
    "- Define a Boolean variable, y, to take a value of 1 if assembly machine 1 is chosen, and 0 if assembly machine 2 is chosen.\n",
    "- Use the y variable to set the production to zero for the machine that is not chosen.\n"
   ]
  },
  {
   "cell_type": "markdown",
   "metadata": {},
   "source": [
    "### Implementing the yes/no decision model with DOcplex\n",
    "\n",
    "First, create a model instance."
   ]
  },
  {
   "cell_type": "code",
   "execution_count": null,
   "metadata": {},
   "outputs": [],
   "source": [
    "import docplex.mp.model as cplex\n",
    "\n",
    "with cplex.Model('decision_phone') as tm2:\n",
    "    ..."
   ]
  },
  {
   "cell_type": "markdown",
   "metadata": {},
   "source": [
    "#### Setup decision variables\n",
    "\n",
    "we create two sets of (desk, cell) integer variables, one per machine type, plus the total production variables.\n",
    "Note that the total production variables do not need to be declared if the four typed productions are integers.\n",
    "As the sum of two integers, they will always be integers; the less we have of integer variables, the easier CPLEX will solve the problem.\n",
    "\n",
    "In addition, we define an extra binary variable $z$ to model the choice we are facing: use machine #1 or machine #2."
   ]
  },
  {
   "cell_type": "markdown",
   "metadata": {},
   "source": [
    "#### Setup constraints\n",
    "\n",
    "- The lower bounds of 100 items on production\n",
    "- The constraint for painting machine limit is identical to the basic telephone model\n",
    "- Two extra constraints express the total production as the sum of productions on the two assembly machines.\n",
    "- Each assembly machine type has its own constraint, in which variable $z$ expresses the exclusive choice between the two."
   ]
  },
  {
   "cell_type": "markdown",
   "metadata": {},
   "source": [
    "#### Expressing the objective\n",
    "\n",
    "The objective is identical: maximize total profit, using total productions."
   ]
  },
  {
   "cell_type": "markdown",
   "metadata": {},
   "source": [
    "$\n",
    "maximize:\\\\\n",
    "\\ \\ 12\\ desk + 20\\ cell\\\\\n",
    "subject\\ to: \\\\\n",
    "\\ \\   desk \\geq 100 \\\\\n",
    "\\ \\   cell \\geq 100 \\\\\n",
    "\\ \\   desk_1 + desk_2 = desk\\\\\n",
    "\\ \\   cell_1 + cell_2 = cell\\\\\n",
    "\\ \\   0.2\\ desk_1 + 0.4\\ cell_1 \\leq 400 \\ z \\\\\n",
    "\\ \\   0.25\\ desk_2 + 0.3\\ cell_2 \\leq 430 \\ (1-z) \\\\\n",
    "\\ \\   0.5\\ desk + 0.4\\ cell \\leq 490 \\\\\n",
    "\\ \\   desk_1, desk_2, cell_1, cell_2 \\geq 0 \\quad \\mbox{integer}\\\\\n",
    "\\ \\   z \\in \\{0, 1\\}\n",
    "$"
   ]
  },
  {
   "cell_type": "markdown",
   "metadata": {},
   "source": [
    "#### Solve with the Decision Optimization solve service"
   ]
  },
  {
   "cell_type": "code",
   "execution_count": null,
   "metadata": {},
   "outputs": [],
   "source": [
    "import docplex.mp.model as cplex\n",
    "\n",
    "with cplex.Model('decision_phone') as tm2:\n",
    "    # variables for total production\n",
    "    desk = tm2.continuous_var(name='desk')\n",
    "    cell = tm2.continuous_var(name='cell')\n",
    "\n",
    "    # two variables per machine type:\n",
    "    desk1 = tm2.integer_var(name='desk1')\n",
    "    cell1 = tm2.integer_var(name='cell1')\n",
    "\n",
    "    desk2 = tm2.integer_var(name='desk2')\n",
    "    cell2 = tm2.integer_var(name='cell2')\n",
    "\n",
    "    # yes no variable\n",
    "    z = tm2.binary_var(name='z')\n",
    "    \n",
    "    # total production is sum of type1 + type 2\n",
    "    tm2.add_constraint(desk == desk1 + desk2, 'total_desk')\n",
    "    tm2.add_constraint(cell == cell1 + cell2, 'total_cell')\n",
    "\n",
    "    # constraint #1: desk production is greater than 100\n",
    "    tm2.add_constraint(desk >= 100, 'desk_lb')\n",
    "    # constraint #2: cell production is greater than 100\n",
    "    tm2.add_constraint(cell >= 100, 'cell_lb')\n",
    "    \n",
    "    # production on assembly machine of type 1 must be less than 400 if y is 1, else 0\n",
    "    tm2.add_constraint(0.2 * desk1 + 0.4 * cell1 <= 400 * z, 'assembly_limit_1')\n",
    "    # production on assembly machine of type 2 must be less than 430 if y is 0, else 0\n",
    "    tm2.add_constraint(0.25 * desk2 + 0.3 * cell2 <= 430 * (1-z), 'assembly_limit_2')\n",
    "\n",
    "    # painting machine limit is identical\n",
    "    # constraint #4: painting time limit\n",
    "    tm2.add_constraint( 0.5 * desk + 0.4 * cell <= 490, 'painting_limit')\n",
    "\n",
    "    tm2.maximize(12 * desk + 20 * cell)\n",
    "    \n",
    "    tm2.print_information()\n",
    "    \n",
    "    tm2s= tm2.solve(log_output=True)\n",
    "    if tm2s != None:\n",
    "        print(tm2s)\n",
    "    else:\n",
    "        print('No solution.')"
   ]
  },
  {
   "cell_type": "markdown",
   "metadata": {},
   "source": [
    "#### Conclusion\n",
    "\n",
    "This model demonstrates that the optimal solution is to use machine #2 , producing 100 desk phones and 1100 cell phones."
   ]
  },
  {
   "cell_type": "markdown",
   "metadata": {},
   "source": [
    "### Using binary variables for logical decisions\n",
    "\n",
    "What if the company had to choose between 3 possible candidates for the assembly machine, as opposed to two?\n",
    "\n",
    "The above model can be generalized with three binary variables $z_1$, $z_2$, $z_3$ each of which is equal to 1 only if machine type 1,2, or 3 is used. But then we need to express that _exactly_ one of those variables must be equal to 1. How can we achive this?\n",
    "\n",
    "The answer is to add  the following constraint to the model:\n",
    "\n",
    "$$\n",
    "z_{1} + z_{2} + z_{3} = 1\n",
    "$$\n",
    "\n",
    "Thus, if one of zs variables is equal to 0, the two other are equal to zero (remember binary variables can take value 0 or 1)."
   ]
  },
  {
   "cell_type": "markdown",
   "metadata": {},
   "source": [
    "\n",
    "# Summary\n",
    "\n",
    "Having completed this notebook, you should be able to:\n",
    "\n",
    "- Describe the differences between:\n",
    "  - Linear Programming (LP)\n",
    "  - Integer Programming (IP)\n",
    "  - Mixed-Integer Programming (MIP)\n",
    "\n",
    "- Construct a simple MIP model"
   ]
  },
  {
   "cell_type": "markdown",
   "metadata": {},
   "source": [
    "## References\n",
    "* [CPLEX Modeling for Python documentation](http://ibmdecisionoptimization.github.io/docplex-doc/)\n",
    "* [Decision Optimization on Cloud](https://developer.ibm.com/docloud/)\n",
    "* Need help with DOcplex or to report a bug? Please go [here](https://stackoverflow.com/questions/tagged/docplex).\n",
    "* Contact us at dofeedback@wwpdl.vnet.ibm.com."
   ]
  }
 ],
 "metadata": {
  "anaconda-cloud": {},
  "kernelspec": {
   "display_name": "Python 3 (ipykernel)",
   "language": "python",
   "name": "python3"
  },
  "language_info": {
   "codemirror_mode": {
    "name": "ipython",
    "version": 3
   },
   "file_extension": ".py",
   "mimetype": "text/x-python",
   "name": "python",
   "nbconvert_exporter": "python",
   "pygments_lexer": "ipython3",
   "version": "3.8.12"
  }
 },
 "nbformat": 4,
 "nbformat_minor": 4
}
