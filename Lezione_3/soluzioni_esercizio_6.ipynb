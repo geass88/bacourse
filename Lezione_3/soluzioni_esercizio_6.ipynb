{
 "cells": [
  {
   "cell_type": "markdown",
   "metadata": {},
   "source": [
    "## Esercizio 6"
   ]
  },
  {
   "cell_type": "markdown",
   "metadata": {},
   "source": [
    "#### - dati in input 3 numeri interi verificare se il loro prodotto è pari"
   ]
  },
  {
   "cell_type": "code",
   "execution_count": null,
   "metadata": {},
   "outputs": [],
   "source": [
    "print('Inserisci tre numeri interi: ')\n",
    "n1 = int(input('Primo numero = '))\n",
    "n2 = int(input('Secondo numero = '))\n",
    "n3 = int(input('Terzo numero = '))\n",
    "prodotto_numeri = n1*n2*n3\n",
    "if prodotto_numeri%2 == 0:\n",
    "    print('Il prodotto dei 3 numeri è ' + str(prodotto_numeri)+ ', un numero pari')\n",
    "else:\n",
    "    print('Il prodotto dei 3 numeri è ' + str(prodotto_numeri)+ ', un numero dispari')\n",
    "del n1, n2, n3, prodotto_numeri"
   ]
  },
  {
   "cell_type": "code",
   "execution_count": null,
   "metadata": {},
   "outputs": [],
   "source": [
    "# metodo alternativo analizzando la cifra finale del prodotto\n",
    "print('Inserisci tre numeri interi: ')\n",
    "n1 = int(input('Primo numero = '))\n",
    "n2 = int(input('Secondo numero = '))\n",
    "n3 = int(input('Terzo numero = '))\n",
    "prodotto_numeri = n1*n2*n3\n",
    "if str(prodotto_numeri)[-1] in '02468':\n",
    "    print('Il prodotto dei 3 numeri è ' + str(prodotto_numeri)+ ', un numero pari')\n",
    "else:\n",
    "    print('Il prodotto dei 3 numeri è ' + str(prodotto_numeri)+ ', un numero dispari')\n",
    "del n1, n2, n3, prodotto_numeri"
   ]
  }
 ],
 "metadata": {
  "kernelspec": {
   "display_name": "Python 3 (ipykernel)",
   "language": "python",
   "name": "python3"
  },
  "language_info": {
   "codemirror_mode": {
    "name": "ipython",
    "version": 3
   },
   "file_extension": ".py",
   "mimetype": "text/x-python",
   "name": "python",
   "nbconvert_exporter": "python",
   "pygments_lexer": "ipython3",
   "version": "3.8.12"
  }
 },
 "nbformat": 4,
 "nbformat_minor": 4
}
