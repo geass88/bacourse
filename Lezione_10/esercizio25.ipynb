{
 "cells": [
  {
   "cell_type": "markdown",
   "metadata": {},
   "source": [
    "## Esercizio 25\n",
    "\n",
    "#### Determinare il prodotto di due numeri naturali utilizzando la seguente definizione ricorsiva:\n",
    "\n",
    "$\\large A \\cdot B = \\begin{cases} 0, & \\mbox{se } B\\mbox{ = 0} \\\\ A \\cdot (B-1) + A & \\mbox{se } B\\mbox{ >0} \\end{cases}$"
   ]
  },
  {
   "cell_type": "code",
   "execution_count": null,
   "metadata": {},
   "outputs": [],
   "source": []
  }
 ],
 "metadata": {
  "kernelspec": {
   "display_name": "bacourse",
   "language": "python",
   "name": "bacourse"
  },
  "language_info": {
   "codemirror_mode": {
    "name": "ipython",
    "version": 3
   },
   "file_extension": ".py",
   "mimetype": "text/x-python",
   "name": "python",
   "nbconvert_exporter": "python",
   "pygments_lexer": "ipython3",
   "version": "3.8.12"
  }
 },
 "nbformat": 4,
 "nbformat_minor": 4
}
