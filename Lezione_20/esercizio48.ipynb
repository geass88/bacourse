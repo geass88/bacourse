{
 "cells": [
  {
   "cell_type": "markdown",
   "metadata": {},
   "source": [
    "## Esercizio 48 - Problema del commesso viaggiatore\n",
    "\n",
    "Il problema del commesso viaggiatore è il più semplice fra i problemi di routing e di scheduling. Viene spesso indicato con il suo nome inglese, Travelling Salesman Problem (TSP). Dato un insieme di città, e note le distanze tra ciascuna coppia di esse, trovare il tragitto di minima percorrenza che un commesso viaggiatore deve seguire per visitare tutte le città una ed una sola volta e ritornare alla città di partenza (cammino hamiltoniano).\n",
    "\n",
    "<img src=\"https://www.tommasoadamo.it/images/lez20/tsp.png\" style=\"width: 400px; margin:auto\" title=\"Solution of a travelling salesman problem: the black line shows the shortest possible loop that connects every red dot.\"/>\n",
    "<br><br>\n",
    "\n",
    "Il TSP è un problema definito su un grafo orientato completo $G=(V,A)$, in cui $V= \\{ 0, \\ldots, n-1\\}$ è l'insieme degli $n$ nodi (o città) da visitare e $A = \\{ (i, j) : i, j \\in V; i \\neq j\\}$ è l'insieme degli archi (o strade). Si indica con $c_{ij}$ il costo dell'arco per andare dal nodo $i$ al nodo $j$ (cammino minimo). Il TSP è simmetrico se $c_{ij}=c_{ji} \\ \\forall \\ (i,j) \\in A$, altrimenti si dice asimmetrico. Detta $x_{ij}$ la generica variabile binaria tale che $x_{ij}=1$ se l'arco $(i,j)$ appartiene al circuito e $x_{ij}=0$ altrimenti, nel caso più generale di problema asimmetrico, una possibile formulazione matematica del problema è:\n",
    "\n",
    "\n",
    "\n",
    "\\begin{eqnarray}\n",
    "&\\min & \\sum_{i, j \\in V} c_{ij}x_{ij}  \\label{MTZ_1}\\\\\n",
    "&\\mathrm{s.t.}& \\sum_{j \\in V} x_{ij}=1 \\qquad i \\in V, \\label{MTZ_2} \\\\\n",
    "&& \\sum_{i \\in V} x_{ij}=1 \\qquad j \\in V,  \\\\\n",
    "&& u_{i}-u_{j}+1\\leq n (1-x_{ij}) \\qquad i, j \\in V \\setminus \\{0\\}, i \\neq j,\\label{MTZ_3} \\\\\n",
    "&& u_{0}=1,  \\\\\n",
    "&& 2\\leq u_{i} \\leq n \\qquad i \\in V \\setminus \\{0\\},  \\\\\n",
    "&& x_{ij} \\in \\{0,1\\} \\qquad  i, j \\in V. \\label{MTZ_4}\n",
    "\\end{eqnarray}\n",
    "\n",
    "Le variabili ausiliarie $u_i$, $i \\in V$, sono utilizzate per l'eliminazione dei sub-tours.\n",
    "\n",
    "* TEST: br17.csv (asimmetrica)\n",
    "> costo: 39 <br>\n",
    "> Tour: 0, 11, 16, 8, 7, 4, 3, 15, 14, 6, 5, 12, 10, 9, 1, 13, 2, 0 &nbsp;&nbsp;&nbsp; oppure <br>\n",
    "> Tour: 0, 16, 8, 7, 4, 3, 15, 14, 6, 5, 12, 10, 9, 1, 13, 2, 11, 0"
   ]
  },
  {
   "cell_type": "code",
   "execution_count": null,
   "metadata": {},
   "outputs": [],
   "source": [
    "# ALERT: execute this cell to prepare input data!\n",
    "import requests\n",
    "def download(link, nomeFile=None):\n",
    "    if nomeFile == None:\n",
    "        nomeFile = link.split('/')[-1]\n",
    "    richiesta = requests.get(link)\n",
    "    if richiesta.status_code == 200:\n",
    "        with open(nomeFile, 'w') as file:\n",
    "            file.write(richiesta.text)\n",
    "            \n",
    "download('https://tommasoadamo.it/data/br17.csv')"
   ]
  },
  {
   "cell_type": "code",
   "execution_count": null,
   "metadata": {},
   "outputs": [],
   "source": [
    "# ALERT: execute this cell to install DOcplex! \n",
    "!pip install docplex cplex"
   ]
  },
  {
   "cell_type": "code",
   "execution_count": null,
   "metadata": {},
   "outputs": [],
   "source": []
  }
 ],
 "metadata": {
  "kernelspec": {
   "display_name": "Python 3 (ipykernel)",
   "language": "python",
   "name": "python3"
  },
  "language_info": {
   "codemirror_mode": {
    "name": "ipython",
    "version": 3
   },
   "file_extension": ".py",
   "mimetype": "text/x-python",
   "name": "python",
   "nbconvert_exporter": "python",
   "pygments_lexer": "ipython3",
   "version": "3.8.12"
  }
 },
 "nbformat": 4,
 "nbformat_minor": 4
}
