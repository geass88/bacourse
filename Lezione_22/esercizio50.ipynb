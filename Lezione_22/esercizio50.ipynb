{
 "cells": [
  {
   "cell_type": "markdown",
   "metadata": {},
   "source": [
    "## Esercizio 50: Multi-Plant, Multi-Item, Multi-Period Capacitated Lot-Sizing Problem without Inter-Plant Transfers\n",
    "\n",
    "We discuss about a practical problem observed in a large steel corporation in United States of America with $m$ manufacturing units/plants located in different parts of the country.  Each plant has different production technology/equipment and can produce all the products.  Due to the differences in technology, the production cost/time, setup cost/time were different at different plants.  Now the production planning problem for multiple plants is required to address these issues:\n",
    "- Products to be produced in each plant and their quantities,\n",
    "- Inventory of products to be carried at the end of each period at each plant and their quantities,\n",
    "- <font color=\"red\"><S>Products to be transferred from one plant to another and their quantities.</S></font>\n",
    "\n",
    "The problem consists of determining the production and inventory levels of a set $N = \\{1, \\dots, n\\}$ of items, to be produced in a set $P= \\{1, \\dots, m\\}$ of plants over a set $T= \\{1, \\dots, \\ell\\}$ of time periods. Moreover, items cannot be transferred between plants in each period. A mathematical model is:\n",
    "\n",
    "\\begin{align}\n",
    "\\min     \\quad          &\\sum_{i\\in N} \\sum_{j \\in P} \\sum_{t \\in T} \\left( c_{ijt}x_{ijt} + s_{ijt}y_{ijt} + h_{ijt}I_{ijt} \\right)  & &\\\\\n",
    " \\mathrm{s.t.} \\quad& I_{ij(t-1)} + x_{ijt} - I_{ijt} = d_{ijt} & i \\in N, j \\in P, t \\in T  &\\qquad (1)\\\\\n",
    "                       &x_{ijt} \\leq \\left( \\sum_{k \\in T: \\ k \\geq t} d_{ijk}\\right) y_{ijt} & i \\in N, j \\in P, t \\in T &\\qquad (2) \\\\\n",
    "                       & \\sum_{i \\in N}\\left(b_{ijt}x_{ijt} + g_{ijt}y_{ijt}\\right) \\leq C_{jt} & j \\in P, t \\in T &\\qquad (3) \\\\\n",
    "                       & I_{ij0} = 0 & i \\in N, j \\in P &\\qquad (4)\\\\\n",
    "                       & x_{ijt}, I_{ijt} \\geq 0 & i \\in N, j \\in P, t \\in T &\\qquad (5) \\\\\n",
    "                       & y_{ijt} \\in \\lbrace 0,1\\rbrace & i \\in N, j \\in P, t \\in T. &\\qquad (6)\n",
    "\\end{align}\n",
    "\n",
    "In this formulation, each triplet $(i,j,t)$, $i \\in N$, $j \\in P$, $t \\in T$ is characterized by a demand $d_{ijt}$, a production time $b_{ijt}$, a setup time $g_{ijt}$, a unit production cost $c_{ijt}$, a setup cost $s_{ijt}$, and a unit inventory cost $h_{ijt}$. Moreover, a parameter $C_{jt}$ represents the production capacity of plant $j$ in period $t$. The decision variables are $x_{ijt}$, the quantity of item $i$ produced at plant $j$ in period $t$; $I_{ijt}$, the inventory level of item $i$ at plant $j$ at the end of the period $t$; $y_{ijt}$, a binary variable that equals $1$ if and only if item $i$ is produced at plant $j$ in period $t$. \n",
    "\n",
    "Constraints:\n",
    "1. Inventory balance constraint\n",
    "2. Setup forcing constraint\n",
    "3. Production capacity constraint\n",
    "4. Initial inventory conditions\n",
    "5. Non-negativity constraints\n",
    "6. Binary constraints\n",
    "\n",
    "* Test: ls1.json\n",
    "> Total cost: 44277.1<br>\n",
    "> Total production cost: 38019.6<br>\n",
    "> Total setup cost: 4770.3<br>\n",
    "> Total inventory cost: 1487.2"
   ]
  },
  {
   "cell_type": "code",
   "execution_count": null,
   "metadata": {},
   "outputs": [],
   "source": [
    "# ALERT: execute this cell to prepare input data!\n",
    "import requests\n",
    "def download(link, nomeFile=None):\n",
    "    if nomeFile == None:\n",
    "        nomeFile = link.split('/')[-1]\n",
    "    richiesta = requests.get(link)\n",
    "    if richiesta.status_code == 200:\n",
    "        with open(nomeFile, 'w') as file:\n",
    "            file.write(richiesta.text)\n",
    "            \n",
    "download('https://tommasoadamo.it/data/ls1.json')"
   ]
  },
  {
   "cell_type": "code",
   "execution_count": null,
   "metadata": {},
   "outputs": [],
   "source": [
    "# ALERT: execute this cell to install DOcplex! \n",
    "!pip install docplex cplex"
   ]
  },
  {
   "cell_type": "code",
   "execution_count": null,
   "metadata": {},
   "outputs": [],
   "source": []
  }
 ],
 "metadata": {
  "kernelspec": {
   "display_name": "Python 3 (ipykernel)",
   "language": "python",
   "name": "python3"
  },
  "language_info": {
   "codemirror_mode": {
    "name": "ipython",
    "version": 3
   },
   "file_extension": ".py",
   "mimetype": "text/x-python",
   "name": "python",
   "nbconvert_exporter": "python",
   "pygments_lexer": "ipython3",
   "version": "3.8.12"
  }
 },
 "nbformat": 4,
 "nbformat_minor": 4
}
