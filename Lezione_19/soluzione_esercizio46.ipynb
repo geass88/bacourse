{
 "cells": [
  {
   "cell_type": "markdown",
   "metadata": {},
   "source": [
    "# Esercizio 46 - Assignment problem\n",
    "\n",
    "The problem instance has a number of agents and a number of tasks. Any agent can be assigned to perform any task, incurring some cost that may vary depending on the agent-task assignment. It is required to perform all tasks by assigning exactly one agent to each task and at most one task to each agent, in such a way that the total cost of the assignment is minimized.\n",
    "\n",
    "<img src=\"https://www.tommasoadamo.it/images/lez19/1.svg\" style=\"width: 500px; margin:auto;\"/>\n",
    "\n",
    "## Solution by linear programming\n",
    "\n",
    "\\begin{align}\n",
    "\\min\\quad & \\sum\\limits_{(i,j) \\in A \\times T} w_{ij} x_{ij}&\\\\\n",
    "s.t.\\quad & \\sum\\limits_{j \\in T} x_{ij} \\leq 1 & i \\in A\\\\\n",
    "\\quad & \\sum\\limits_{i \\in A} x_{ij} = 1 & j \\in T\\\\\n",
    "\\quad & x_{ij} \\geq 0 & i \\in A, j \\in T\n",
    "\\end{align}\n",
    "\n",
    "There is one variable for each pair of agent and task. Each agent is assigned to at most 1 task. Each task is assigned to exactly one agent.\n",
    "\n",
    "While this formulation allows also fractional variable values, in this special case, the LP always has an optimal solution where the variables take integer values. This is because the constraint matrix of the fractional LP is totally unimodular – it satisfies the four conditions of Hoffman and Gale.\n",
    " \n",
    "\n",
    "Esempio: file _costi.csv_<br>\n",
    "Minimum cost assignment: 235<br>\n",
    "Agent 0 assigned to task 3 with cost 70<br>\n",
    "Agent 1 assigned to task 2 with cost 55<br>\n",
    "Agent 3 assigned to task 0 with cost 45<br>\n",
    "Agent 5 assigned to task 1 with cost 65\n",
    "\n",
    "<img src=\"https://www.tommasoadamo.it/images/lez19/2.svg\" style=\"width: 500px; margin:auto;\"/>"
   ]
  },
  {
   "cell_type": "code",
   "execution_count": null,
   "metadata": {},
   "outputs": [],
   "source": [
    "# ALERT: execute this cell to prepare input data!\n",
    "import requests\n",
    "def download(link, nomeFile=None):\n",
    "    if nomeFile == None:\n",
    "        nomeFile = link.split('/')[-1]\n",
    "    richiesta = requests.get(link)\n",
    "    if richiesta.status_code == 200:\n",
    "        with open(nomeFile, 'w') as file:\n",
    "            file.write(richiesta.text)\n",
    "            \n",
    "download('https://tommasoadamo.it/data/costi.csv')"
   ]
  },
  {
   "cell_type": "code",
   "execution_count": null,
   "metadata": {},
   "outputs": [],
   "source": [
    "# ALERT: execute this cell to install DOcplex! \n",
    "!pip install docplex cplex"
   ]
  },
  {
   "cell_type": "code",
   "execution_count": null,
   "metadata": {},
   "outputs": [],
   "source": [
    "import csv\n",
    "import docplex.mp.model as cplex\n",
    "\n",
    "def leggi_grafo(nome):\n",
    "    with open(nome, 'r') as file:\n",
    "        reader = csv.reader(file, quoting=2)\n",
    "        return list(reader)\n",
    "# leggere il file CSV e preparare i dati\n",
    "\n",
    "w = leggi_grafo('costi.csv')\n",
    "A = list(range(len(w)))\n",
    "T = list(range(len(w[0])))\n",
    "\n",
    "# formulare il modello\n",
    "\n",
    "with cplex.Model('assegnamento') as mdl:\n",
    "    x = mdl.continuous_var_matrix(A, T, name='x')\n",
    "    \n",
    "    mdl.minimize(sum(w[i][j] * x[i,j] for i in A for j in T))\n",
    "    \n",
    "    for i in A:\n",
    "        mdl.add_constraint(sum(x[i,j] for j in T) <= 1, 'assegna_agente_'+str(i))\n",
    "    \n",
    "    for j in T:\n",
    "        mdl.add_constraint(sum(x[i,j] for i in A) == 1, 'assegna_task_'+str(j))\n",
    "    \n",
    "    mdl.print_information()\n",
    "    \n",
    "    s = mdl.solve()\n",
    "    \n",
    "    if s == None:\n",
    "        print('No solution.')\n",
    "    else:\n",
    "        #print(s)\n",
    "        print('Costo totale dell\\'assegnamento: '+str(s.objective_value))\n",
    "        for i in A:\n",
    "            for j in T:\n",
    "                if x[i,j].solution_value > 0:\n",
    "                    print('Agente A{} assegnato al task T{} con costo {}'.format(i,j,w[i][j]))"
   ]
  },
  {
   "cell_type": "code",
   "execution_count": null,
   "metadata": {},
   "outputs": [],
   "source": []
  }
 ],
 "metadata": {
  "kernelspec": {
   "display_name": "Python 3 (ipykernel)",
   "language": "python",
   "name": "python3"
  },
  "language_info": {
   "codemirror_mode": {
    "name": "ipython",
    "version": 3
   },
   "file_extension": ".py",
   "mimetype": "text/x-python",
   "name": "python",
   "nbconvert_exporter": "python",
   "pygments_lexer": "ipython3",
   "version": "3.8.12"
  }
 },
 "nbformat": 4,
 "nbformat_minor": 4
}
