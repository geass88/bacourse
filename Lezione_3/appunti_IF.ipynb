{
 "cells": [
  {
   "cell_type": "markdown",
   "metadata": {},
   "source": [
    "# if Statements\n",
    "\n",
    "\n",
    "You can use if statements to run code if a certain condition holds.\n",
    "If an expression evaluates to True, some statements are carried out. Otherwise, they aren't carried out.\n",
    "\n",
    "An if statement looks like this:"
   ]
  },
  {
   "cell_type": "markdown",
   "metadata": {},
   "source": [
    "if expression:\n",
    "\n",
    "&nbsp;&nbsp;&nbsp;&nbsp;statements"
   ]
  },
  {
   "cell_type": "markdown",
   "metadata": {},
   "source": [
    "Python uses indentation (white space at the beginning of a line) to delimit blocks of code. Other languages, such as C, use curly braces to accomplish this, but in Python indentation is mandatory; programs won't work without it. As you can see, the statements in the if should be indented.\n",
    "\n",
    "Here is an example if statement:"
   ]
  },
  {
   "cell_type": "code",
   "execution_count": null,
   "metadata": {},
   "outputs": [],
   "source": [
    "if 10 > 5:\n",
    "    print(\"10 greater than 5\")\n",
    "\n",
    "print(\"Program ended\")"
   ]
  },
  {
   "cell_type": "markdown",
   "metadata": {},
   "source": [
    "The expression determines whether 10 is greater than five. Since it is, the indented statement runs, and \"10 greater than 5\" is output. Then, the unindented statement, which is not part of the if statement, is run, and \"Program ended\" is displayed.\n",
    "\n",
    "Notice the colon at the end of the expression in the if statement.\n",
    "\n",
    "To perform more complex checks, if statements can be nested, one inside the other.\n",
    "This means that the inner if statement is the statement part of the outer one. This is one way to see whether multiple conditions are satisfied.\n",
    "\n",
    "For example:"
   ]
  },
  {
   "cell_type": "code",
   "execution_count": null,
   "metadata": {},
   "outputs": [],
   "source": [
    "num = 12\n",
    "if num > 5:\n",
    "    print(\"Bigger than 5\")\n",
    "    if num <=47:\n",
    "        print(\"Between 5 and 47\")"
   ]
  },
  {
   "cell_type": "markdown",
   "metadata": {},
   "source": [
    "# else Statements\n",
    "\n",
    "An else statement follows an if statement, and contains code that is called when the if statement evaluates to False.\n",
    "As with if statements, the code inside the block should be indented."
   ]
  },
  {
   "cell_type": "code",
   "execution_count": null,
   "metadata": {},
   "outputs": [],
   "source": [
    "x = 4\n",
    "if x == 5:\n",
    "    print(\"Yes\")\n",
    "else:\n",
    "    print(\"No\")"
   ]
  },
  {
   "cell_type": "markdown",
   "metadata": {},
   "source": [
    "You can chain if and else statements to determine which option in a series of possibilities is true.\n",
    "\n",
    "For example:"
   ]
  },
  {
   "cell_type": "code",
   "execution_count": null,
   "metadata": {},
   "outputs": [],
   "source": [
    "num = 7\n",
    "if num == 5:\n",
    "    print(\"Number is 5\")\n",
    "else:\n",
    "    if num == 11:\n",
    "        print(\"Number is 11\")\n",
    "    else:\n",
    "        if num == 7:\n",
    "            print(\"Number is 7\")\n",
    "        else:\n",
    "            print(\"Number isn't 5, 11 or 7\")"
   ]
  },
  {
   "cell_type": "markdown",
   "metadata": {},
   "source": [
    "The elif (short for else if) statement is a shortcut to use when chaining if and else statements.\n",
    "A series of if elif statements can have a final else block, which is called if none of the if or elif expressions is True.\n",
    "For example:"
   ]
  },
  {
   "cell_type": "code",
   "execution_count": null,
   "metadata": {},
   "outputs": [],
   "source": [
    "num = 7\n",
    "if num == 5:\n",
    "    print(\"Number is 5\")\n",
    "elif num == 11:\n",
    "    print(\"Number is 11\")\n",
    "elif num == 7:\n",
    "    print(\"Number is 7\")\n",
    "else:\n",
    "    print(\"Number isn't 5, 11 or 7\")"
   ]
  }
 ],
 "metadata": {
  "kernelspec": {
   "display_name": "Python 3 (ipykernel)",
   "language": "python",
   "name": "python3"
  },
  "language_info": {
   "codemirror_mode": {
    "name": "ipython",
    "version": 3
   },
   "file_extension": ".py",
   "mimetype": "text/x-python",
   "name": "python",
   "nbconvert_exporter": "python",
   "pygments_lexer": "ipython3",
   "version": "3.8.12"
  }
 },
 "nbformat": 4,
 "nbformat_minor": 4
}
