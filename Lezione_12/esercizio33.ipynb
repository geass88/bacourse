{
 "cells": [
  {
   "cell_type": "markdown",
   "metadata": {},
   "source": [
    "## Esercizio 33\n",
    "\n",
    "#### Scrivere una funzione che date due matrici calcoli il loro prodotto riga per colonna.\n",
    "\n",
    "Esempio:\n",
    "\n",
    "> $A = \\begin{bmatrix}\n",
    "1 & 2 & 3\\\\\n",
    "4 & 5 & 6\n",
    "\\end{bmatrix}$\n",
    "\n",
    "> $B = \\begin{bmatrix}\n",
    "3 & 0\\\\\n",
    "2 & -5\\\\\n",
    "1 & 4\n",
    "\\end{bmatrix}$\n",
    "\n",
    "* prodotto(A, B) ritorna: $ \\quad P = A \\times B = \\begin{bmatrix}\n",
    "10 & 2\\\\\n",
    "28 & -1\n",
    "\\end{bmatrix}$\n",
    "\n",
    "\\begin{align}\n",
    "P_{ij} = \\sum_k  A_{ik} \\cdot B_{kj}\n",
    "\\end{align}"
   ]
  },
  {
   "cell_type": "code",
   "execution_count": null,
   "metadata": {},
   "outputs": [],
   "source": []
  }
 ],
 "metadata": {
  "kernelspec": {
   "display_name": "bacourse",
   "language": "python",
   "name": "bacourse"
  },
  "language_info": {
   "codemirror_mode": {
    "name": "ipython",
    "version": 3
   },
   "file_extension": ".py",
   "mimetype": "text/x-python",
   "name": "python",
   "nbconvert_exporter": "python",
   "pygments_lexer": "ipython3",
   "version": "3.8.12"
  }
 },
 "nbformat": 4,
 "nbformat_minor": 4
}
