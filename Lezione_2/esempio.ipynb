{
 "cells": [
  {
   "cell_type": "markdown",
   "id": "conceptual-input",
   "metadata": {},
   "source": [
    "## Esempio 1"
   ]
  },
  {
   "cell_type": "markdown",
   "id": "civilian-insured",
   "metadata": {},
   "source": [
    "#### - dato in input un nome stampare un saluto come nell'esempio seguente:\n",
    "\n",
    "Inserendo il nome \"Alice\" il programma restituirà \"Ciao, Alice!\""
   ]
  },
  {
   "cell_type": "code",
   "execution_count": null,
   "id": "amended-family",
   "metadata": {},
   "outputs": [],
   "source": []
  },
  {
   "cell_type": "code",
   "execution_count": null,
   "id": "5ebcb78b-3572-4871-a998-ce82c9698bc5",
   "metadata": {},
   "outputs": [],
   "source": []
  },
  {
   "cell_type": "code",
   "execution_count": null,
   "id": "191f6169-ba6f-44a7-9e63-a72275664d1b",
   "metadata": {},
   "outputs": [],
   "source": []
  },
  {
   "cell_type": "markdown",
   "id": "healthy-adrian",
   "metadata": {},
   "source": [
    "## Esempio 2\n"
   ]
  },
  {
   "cell_type": "markdown",
   "id": "graphic-norman",
   "metadata": {},
   "source": [
    "#### - dati in input 3 numeri determinarne la media"
   ]
  },
  {
   "cell_type": "code",
   "execution_count": null,
   "id": "married-richardson",
   "metadata": {},
   "outputs": [],
   "source": []
  },
  {
   "cell_type": "code",
   "execution_count": null,
   "id": "415b3788-b1cb-4f65-89ea-ef971f40ca14",
   "metadata": {},
   "outputs": [],
   "source": []
  },
  {
   "cell_type": "code",
   "execution_count": null,
   "id": "9e23157f-5e04-4332-8189-e6f6630f32fd",
   "metadata": {},
   "outputs": [],
   "source": []
  }
 ],
 "metadata": {
   "kernelspec": {
     "display_name": "bacourse",
     "language": "python",
     "name": "bacourse"
   },
  "language_info": {
   "codemirror_mode": {
    "name": "ipython",
    "version": 3
   },
   "file_extension": ".py",
   "mimetype": "text/x-python",
   "name": "python",
   "nbconvert_exporter": "python",
   "pygments_lexer": "ipython3",
   "version": "3.8.12"
  }
 },
 "nbformat": 4,
 "nbformat_minor": 5
}
