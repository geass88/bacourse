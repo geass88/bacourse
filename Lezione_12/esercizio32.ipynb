{
 "cells": [
  {
   "cell_type": "markdown",
   "metadata": {},
   "source": [
    "## Esercizio 32\n",
    "\n",
    "#### Scrivere una funzione che date due matrici calcoli la loro somma\n",
    "\n",
    "Esempio:\n",
    "\n",
    "> $A = \\begin{bmatrix}\n",
    "1 & 2 & 3\\\\\n",
    "4 & 5 & 6\n",
    "\\end{bmatrix}$\n",
    "\n",
    "> $B = \\begin{bmatrix}\n",
    "3 & 2 & 1\\\\\n",
    "0 & -5 & 4\n",
    "\\end{bmatrix}$\n",
    "\n",
    "* somma(A, B) ritorna: $ \\quad A+B = \\begin{bmatrix}\n",
    "4 & 4 & 4\\\\\n",
    "4 & 0 & 10\n",
    "\\end{bmatrix}$\n",
    "\n"
   ]
  },
  {
   "cell_type": "code",
   "execution_count": null,
   "metadata": {},
   "outputs": [],
   "source": []
  }
 ],
 "metadata": {
  "kernelspec": {
   "display_name": "bacourse",
   "language": "python",
   "name": "bacourse"
  },
  "language_info": {
   "codemirror_mode": {
    "name": "ipython",
    "version": 3
   },
   "file_extension": ".py",
   "mimetype": "text/x-python",
   "name": "python",
   "nbconvert_exporter": "python",
   "pygments_lexer": "ipython3",
   "version": "3.8.12"
  }
 },
 "nbformat": 4,
 "nbformat_minor": 4
}
