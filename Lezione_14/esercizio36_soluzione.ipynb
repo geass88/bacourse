{
 "cells": [
  {
   "cell_type": "markdown",
   "metadata": {},
   "source": [
    "## Esercizio 36\n",
    "\n",
    "#### Scrivere una funzione che data una matrice quadrata, innanzitutto verifichi se è non singolare, ed in tal caso ne calcoli l'inversa.\n",
    "\n",
    "Se $|A| \\neq 0$:\n",
    "\n",
    "$\\Large A^{-1} = \\dfrac{1}{|A|} \\cdot \\text{Adj}(A)$ \n",
    "\n",
    "Dove $\\text{Adj}(A)$ è la matrice aggiunta classica di $A$ ottenuta come trasposta della matrice dei cofattori di $A$:\n",
    "\n",
    "$\\Large \\text{Adj}(A) = (\\text{cof}(A))^T$\n",
    "\n",
    "Esempio:\n",
    "> $A = \\begin{bmatrix}\n",
    "1 & 2 & 1\\\\\n",
    "2 & 0 & 3\\\\\n",
    "1 & 3 & 1\n",
    "\\end{bmatrix}$ , $\\quad|A| = -1$\n",
    "\n",
    "> $A^{-1} = \\begin{bmatrix}\n",
    "9 & -1 & -6\\\\\n",
    "-1 & 0 & 1\\\\\n",
    "-6 & 1 & 4\n",
    "\\end{bmatrix}$"
   ]
  },
  {
   "cell_type": "code",
   "execution_count": null,
   "metadata": {},
   "outputs": [],
   "source": [
    "A = [[1,2,1], [2,0,3], [1,3,1]]\n",
    "\n",
    "def det(A):\n",
    "    if len(A) == 1:\n",
    "        return A[0][0] \n",
    "    i = 0\n",
    "    D = 0\n",
    "    for j in range(len(A[0])):\n",
    "        D += A[i][j] * cof(A, i, j)\n",
    "    return D\n",
    "    \n",
    "def cof(A, i, j):\n",
    "    minore = [r[:j]+r[j+1:] for r in A[:i] + A[i+1:]]\n",
    "    return (-1)**(i+j) * det(minore)\n",
    "\n",
    "def inversa(A):\n",
    "    D = det(A)\n",
    "    if D != 0:\n",
    "        M = [[1/D*cof(A, j, i) for j in range(len(A))] for i in range(len(A))]\n",
    "        return M\n",
    "print(inversa(A))"
   ]
  },
  {
   "cell_type": "code",
   "execution_count": null,
   "metadata": {},
   "outputs": [],
   "source": [
    "import numpy as np\n",
    "A = [[1,2,1], [2,0,3], [1,3,1]]\n",
    "print(np.linalg.inv(A))"
   ]
  },
  {
   "cell_type": "markdown",
   "metadata": {},
   "source": [
    "Una volta scritta la funzione che calcola l'inversa di una matrice possiamo riutilizzarla per risolvere sistemi di equazioni lineari di ordine qualsiasi.\n",
    "\n",
    "\n",
    "$\\Large A x = b$\n",
    "\n",
    "$\\Large  x = A^{-1} b$\n",
    "\n",
    "Esempio: \n",
    "\n",
    "$\\begin{cases} 3x-3y+z=1 \\\\ -x+y+2z = 2 \\\\ 2x+y-3z=0 \\end{cases}$\n",
    "\n",
    "\n",
    "> $\\begin{bmatrix}\n",
    "3 & -3 & 1\\\\\n",
    "-1& 1 & 2\\\\\n",
    "2&1&-3\n",
    "\\end{bmatrix} \\begin{bmatrix}\n",
    "x\\\\\n",
    "y\\\\\n",
    "z\n",
    "\\end{bmatrix} = \\begin{bmatrix}\n",
    "1\\\\\n",
    "2\\\\\n",
    "0\n",
    "\\end{bmatrix}$ \n",
    "\n",
    "> $\\begin{bmatrix}\n",
    "x\\\\\n",
    "y\\\\\n",
    "z\n",
    "\\end{bmatrix} = \\begin{bmatrix}\n",
    "1\\\\\n",
    "1\\\\\n",
    "1\n",
    "\\end{bmatrix} $"
   ]
  },
  {
   "cell_type": "code",
   "execution_count": null,
   "metadata": {},
   "outputs": [],
   "source": [
    "def det(A):\n",
    "    if len(A) == 1:\n",
    "        return A[0][0] \n",
    "    i = 0\n",
    "    D = 0\n",
    "    for j in range(len(A[0])):\n",
    "        D += A[i][j] * cof(A, i, j)\n",
    "    return D\n",
    "    \n",
    "def cof(A, i, j):\n",
    "    minore = [r[:j]+r[j+1:] for r in A[:i] + A[i+1:]]\n",
    "    return (-1)**(i+j) * det(minore)\n",
    "\n",
    "def inversa(A):\n",
    "    D = det(A)\n",
    "    if D != 0:\n",
    "        M = [[1/D*cof(A, j, i) for j in range(len(A))] for i in range(len(A))]\n",
    "        return M\n",
    "    \n",
    "def prodotto(A, B):\n",
    "    if len(A[0]) == len(B):\n",
    "        return [[sum(A[i][k] * B[k][j] for k in range(len(B))) for j in range(len(B[0]))] for i in range(len(A))]\n",
    "\n",
    "A = [[3,-3,1], [-1,1,2], [2,1,-3]]\n",
    "b = [[1], [2], [0]]\n",
    "x = prodotto(inversa(A), b)\n",
    "print(x)"
   ]
  },
  {
   "cell_type": "code",
   "execution_count": null,
   "metadata": {},
   "outputs": [],
   "source": [
    "import numpy as np\n",
    "A = [[3,-3,1], [-1,1,2], [2,1,-3]]\n",
    "b = [[1], [2], [0]]\n",
    "print(np.dot(np.linalg.inv(A), b))"
   ]
  },
  {
   "cell_type": "code",
   "execution_count": null,
   "metadata": {},
   "outputs": [],
   "source": []
  }
 ],
 "metadata": {
  "kernelspec": {
   "display_name": "Python 3 (ipykernel)",
   "language": "python",
   "name": "python3"
  },
  "language_info": {
   "codemirror_mode": {
    "name": "ipython",
    "version": 3
   },
   "file_extension": ".py",
   "mimetype": "text/x-python",
   "name": "python",
   "nbconvert_exporter": "python",
   "pygments_lexer": "ipython3",
   "version": "3.8.12"
  }
 },
 "nbformat": 4,
 "nbformat_minor": 4
}
