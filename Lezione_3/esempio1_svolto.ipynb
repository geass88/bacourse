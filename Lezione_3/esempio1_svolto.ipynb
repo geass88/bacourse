{
 "cells": [
  {
   "cell_type": "markdown",
   "metadata": {},
   "source": [
    "## Esempio 1\n",
    "\n",
    "Dati in input due numeri disporli in ordine crescente"
   ]
  },
  {
   "cell_type": "code",
   "execution_count": null,
   "metadata": {},
   "outputs": [],
   "source": [
    "A = float(input('Inserisci il primo numero: '))\n",
    "B = float(input('Inserisci il secondo numero: '))\n",
    "\n",
    "if A >= B:\n",
    "    minore = B\n",
    "    maggiore = A\n",
    "else:\n",
    "    minore = A\n",
    "    maggiore = B\n",
    "print('Minore=' + str(minore) + ' maggiore=' + str(maggiore))"
   ]
  }
 ],
 "metadata": {
  "kernelspec": {
   "display_name": "Python 3 (ipykernel)",
   "language": "python",
   "name": "python3"
  },
  "language_info": {
   "codemirror_mode": {
    "name": "ipython",
    "version": 3
   },
   "file_extension": ".py",
   "mimetype": "text/x-python",
   "name": "python",
   "nbconvert_exporter": "python",
   "pygments_lexer": "ipython3",
   "version": "3.8.12"
  }
 },
 "nbformat": 4,
 "nbformat_minor": 4
}
