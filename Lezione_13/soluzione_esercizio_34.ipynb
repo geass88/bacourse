{
 "cells": [
  {
   "cell_type": "markdown",
   "metadata": {},
   "source": [
    "## Esercizio 34\n",
    "\n",
    "Scrivere una funzione che sia in grado di analizzare un file di testo (senza distinguere maiuscole e minuscole).\n",
    "\n",
    "Dato il nome di un file si vuole stampare la frequenza relativa percentuale di ciascun carattere dell'alfabeto.\n",
    "\n",
    "Esempio: il file divina_commedia.txt contiene 532421 caratteri di cui:\n",
    "\n",
    "a - 8.0%<br>\n",
    "b - 0.56%<br>\n",
    "c - 3.93%<br>\n",
    "d - 2.83%<br>\n",
    "e - 8.77%<br>\n",
    "f - 0.97%<br>\n",
    "g - 1.38%<br>\n",
    "h - 1.34%<br>\n",
    "i - 7.48%<br>\n",
    "j - 0.0%<br>\n",
    "k - 0.0%<br>\n",
    "l - 4.41%<br>\n",
    "m - 2.27%<br>\n",
    "n - 5.01%<br>\n",
    "o - 7.11%<br>\n",
    "p - 2.13%<br>\n",
    "q - 0.63%<br>\n",
    "r - 4.89%<br>\n",
    "s - 4.26%<br>\n",
    "t - 4.3%<br>\n",
    "u - 2.53%<br>\n",
    "v - 1.54%<br>\n",
    "w - 0.0%<br>\n",
    "x - 0.03%<br>\n",
    "y - 0.0%<br>\n",
    "z - 0.35%"
   ]
  },
  {
   "cell_type": "code",
   "execution_count": null,
   "metadata": {},
   "outputs": [],
   "source": [
    "# ALERT: execute this cell to prepare input data!\n",
    "import requests\n",
    "def download(link, nomeFile=None):\n",
    "    if nomeFile == None:\n",
    "        nomeFile = link.split('/')[-1]\n",
    "    richiesta = requests.get(link)\n",
    "    if richiesta.status_code == 200:\n",
    "        with open(nomeFile, 'w') as file:\n",
    "            file.write(richiesta.text)\n",
    "            \n",
    "download('https://tommasoadamo.it/data/divina_commedia.txt')"
   ]
  },
  {
   "cell_type": "code",
   "execution_count": null,
   "metadata": {},
   "outputs": [],
   "source": [
    "def frequenza(testo, car):\n",
    "    conta = 0\n",
    "    for c in testo:\n",
    "        if c == car:\n",
    "            conta += 1\n",
    "    return conta\n",
    "\n",
    "def analizza(filename):\n",
    "    with open(filename, 'r', errors=\"ignore\") as f:\n",
    "        testo = f.read().lower()\n",
    "    for c in 'abcdefghijklmnopqrstuvwxyz':\n",
    "        #print(\"{} - {}%\".format(c, round(frequenza(testo, c)/len(testo)*100.,2)))\n",
    "        print(\"{} - {}%\".format(c, round(testo.count(c)/len(testo)*100.,2)))\n",
    "    \n",
    "nome = input('Inserisci il nome del file da analizzare: ')\n",
    "analizza(nome)"
   ]
  },
  {
   "cell_type": "code",
   "execution_count": null,
   "metadata": {},
   "outputs": [],
   "source": []
  }
 ],
 "metadata": {
  "kernelspec": {
   "display_name": "Python 3 (ipykernel)",
   "language": "python",
   "name": "python3"
  },
  "language_info": {
   "codemirror_mode": {
    "name": "ipython",
    "version": 3
   },
   "file_extension": ".py",
   "mimetype": "text/x-python",
   "name": "python",
   "nbconvert_exporter": "python",
   "pygments_lexer": "ipython3",
   "version": "3.8.12"
  }
 },
 "nbformat": 4,
 "nbformat_minor": 4
}
