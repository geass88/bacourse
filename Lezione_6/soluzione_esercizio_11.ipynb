{
 "cells": [
  {
   "cell_type": "markdown",
   "metadata": {},
   "source": [
    "## Esercizio 11\n",
    "\n",
    "#### Determinare il prodotto di due numeri naturali utilizzando l'operazione di somma."
   ]
  },
  {
   "cell_type": "markdown",
   "metadata": {
    "tags": []
   },
   "source": [
    "\n",
    "$\\large A \\cdot B = \\begin{cases} 0, & \\mbox{if } B\\mbox{ = 0} \\\\ \\sum\\limits_{k=1}^{B} A & \\mbox{if } B\\mbox{ >0} \\end{cases}$"
   ]
  },
  {
   "cell_type": "code",
   "execution_count": null,
   "metadata": {},
   "outputs": [],
   "source": [
    "A = int(input('Inserisci moltiplicando:'))\n",
    "B = int(input('Inserisci moltiplicatore: '))\n",
    "\n",
    "prodotto = 0\n",
    "for k in range(1, B+1):\n",
    "    prodotto += A\n",
    "print(str(A) + ' * ' + str(B) + ' = ' + str(prodotto))\n",
    "\n",
    "print('Il risultato corretto è: ' + str(A*B))\n",
    "del A, B, prodotto"
   ]
  }
 ],
 "metadata": {
  "kernelspec": {
   "display_name": "Python 3 (ipykernel)",
   "language": "python",
   "name": "python3"
  },
  "language_info": {
   "codemirror_mode": {
    "name": "ipython",
    "version": 3
   },
   "file_extension": ".py",
   "mimetype": "text/x-python",
   "name": "python",
   "nbconvert_exporter": "python",
   "pygments_lexer": "ipython3",
   "version": "3.8.12"
  }
 },
 "nbformat": 4,
 "nbformat_minor": 4
}
