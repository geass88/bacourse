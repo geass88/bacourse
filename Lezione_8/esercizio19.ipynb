{
 "cells": [
  {
   "cell_type": "markdown",
   "metadata": {},
   "source": [
    "## Esercizio 19\n",
    "\n",
    "#### Scrivere una funzione che preso un numero decimale restituisca una stringa con la sua rappresentazione binaria.\n",
    "\n",
    "Esempio:\n",
    "> $168_{10} = 10101000_2$\n",
    "\n",
    "> $29_{10} = 11101_2$"
   ]
  },
  {
   "cell_type": "code",
   "execution_count": null,
   "metadata": {},
   "outputs": [],
   "source": []
  }
 ],
 "metadata": {
  "kernelspec": {
   "display_name": "bacourse",
   "language": "python",
   "name": "bacourse"
  },
  "language_info": {
   "codemirror_mode": {
    "name": "ipython",
    "version": 3
   },
   "file_extension": ".py",
   "mimetype": "text/x-python",
   "name": "python",
   "nbconvert_exporter": "python",
   "pygments_lexer": "ipython3",
   "version": "3.8.12"
  }
 },
 "nbformat": 4,
 "nbformat_minor": 4
}
