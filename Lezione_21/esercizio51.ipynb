{
 "cells": [
  {
   "cell_type": "markdown",
   "metadata": {},
   "source": [
    "## Esercizio 51 - Pasta production"
   ]
  },
  {
   "cell_type": "markdown",
   "metadata": {},
   "source": [
    "The model aims at minimizing the production cost for a number of products while satisfying customer demand.\n",
    "\n",
    "   * Each product can be produced either inside the company or outside, at a higher cost.\n",
    "   * The inside production is constrained by the company's resources, while outside production is considered unlimited.\n",
    "\n",
    "The model first declares the products and the resources.\n",
    "The data consists of the description of the products (the demand, the inside and outside costs, and the resource consumption) and the capacity of the various resources.\n",
    "The variables for this problem are the inside and outside production for each product."
   ]
  },
  {
   "cell_type": "markdown",
   "metadata": {},
   "source": [
    "* Data:\n",
    "\n",
    "> $P$ set of products\n",
    "\n",
    "> $R$ set of resources\n",
    "\n",
    "> $c_{p,r}$ consumption of resource $r$ for each product $p$ \n",
    "\n",
    "> $d_p$ customer demand of product $p$\n",
    "\n",
    "> $\\alpha_p$ inside cost for each product $p$\n",
    "\n",
    "> $\\beta_p$ outside cost for each product $p$\n",
    "\n",
    "> $\\gamma_r$ inside capacity for resource $r$\n",
    "\n",
    "* Variables:\n",
    "\n",
    "> $i_p$ inside production for product $p$\n",
    "\n",
    "> $o_p$ outside production for product $p$\n",
    "\n",
    "\\begin{align}\n",
    "\\min \\quad&\\sum\\limits_{p \\in P} \\alpha_p \\ i_p + \\beta_p \\ o_p &\\\\\n",
    "s.t.\\quad&i_p + o_p \\geq d_p & p \\in P,\\\\\n",
    "\\quad&\\sum\\limits_{p \\in P} i_p \\ c_{p,r} \\leq \\gamma_r & r \\in R,\\\\\n",
    "\\quad&i_p \\geq 0 &p \\in P\\\\\n",
    "\\quad&o_p \\geq 0 &p \\in P\n",
    "\\end{align}\n",
    "\n"
   ]
  },
  {
   "cell_type": "markdown",
   "metadata": {},
   "source": [
    "* TEST: pasta.json\n",
    "\n",
    "> kluski inside_production = 40.0 outside_production = 60.0<br>\n",
    "> capellini inside_production = 0 outside_production = 200.0<br>\n",
    "> fettucine inside_production = 0 outside_production = 300.0<br>\n",
    "> Total inside cost = 24.0, total outside cost = 348.0<br>\n",
    "> Total cost = 372"
   ]
  },
  {
   "cell_type": "code",
   "execution_count": null,
   "metadata": {},
   "outputs": [],
   "source": [
    "# ALERT: execute this cell to prepare input data!\n",
    "import requests\n",
    "def download(link, nomeFile=None):\n",
    "    if nomeFile == None:\n",
    "        nomeFile = link.split('/')[-1]\n",
    "    richiesta = requests.get(link)\n",
    "    if richiesta.status_code == 200:\n",
    "        with open(nomeFile, 'w') as file:\n",
    "            file.write(richiesta.text)\n",
    "            \n",
    "download('https://tommasoadamo.it/data/pasta.json')"
   ]
  },
  {
   "cell_type": "code",
   "execution_count": null,
   "metadata": {},
   "outputs": [],
   "source": [
    "# ALERT: execute this cell to install DOcplex! \n",
    "!pip install docplex cplex"
   ]
  },
  {
   "cell_type": "code",
   "execution_count": null,
   "metadata": {},
   "outputs": [],
   "source": []
  }
 ],
 "metadata": {
  "kernelspec": {
   "display_name": "Python 3 (ipykernel)",
   "language": "python",
   "name": "python3"
  },
  "language_info": {
   "codemirror_mode": {
    "name": "ipython",
    "version": 3
   },
   "file_extension": ".py",
   "mimetype": "text/x-python",
   "name": "python",
   "nbconvert_exporter": "python",
   "pygments_lexer": "ipython3",
   "version": "3.8.12"
  }
 },
 "nbformat": 4,
 "nbformat_minor": 4
}
