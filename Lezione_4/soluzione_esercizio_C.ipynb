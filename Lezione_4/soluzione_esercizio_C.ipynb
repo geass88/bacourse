{
 "cells": [
  {
   "cell_type": "markdown",
   "id": "compact-privilege",
   "metadata": {},
   "source": [
    "## Esercizio C\n",
    "#### - Date le equazioni di due rette nella forma y = **m**x+**q**, trovare le coordinate del punto di intersezione (NB: segnalare anche il caso di rette parallele e di rette coincidenti)."
   ]
  },
  {
   "cell_type": "markdown",
   "id": "24cb30be-f9c1-442d-a6c6-ee9def2aad26",
   "metadata": {},
   "source": [
    "\\begin{equation}\n",
    "   \\begin{cases}\n",
    "   y = m_1 x + q_1\\\\\n",
    "   y = m_2 x + q_2\n",
    "   \\end{cases}\\\\\n",
    "   m_1 x + q_1 = m_2 x + q_2\\\\\n",
    "   x =  \\dfrac{q_2 - q_1}{m_1 - m_2}\n",
    "\\end{equation}"
   ]
  },
  {
   "cell_type": "code",
   "execution_count": null,
   "id": "3bed4a93-2316-4637-b2d4-798168eff0bb",
   "metadata": {},
   "outputs": [],
   "source": [
    "m1 = float(input('m1 = '))\n",
    "q1 = float(input('q1 = '))\n",
    "m2 = float(input('m2 = '))\n",
    "q2 = float(input('q2 = '))\n",
    "\n",
    "if m1 == m2:\n",
    "    if q1 == q2:\n",
    "        print('rette coincidenti')\n",
    "    else:\n",
    "        print('rette parallele')\n",
    "else:\n",
    "    x = (q2-q1)/(m1-m2)\n",
    "    y = m1 * x + q1\n",
    "    print('('+ str(x) + ', '+ str(y)+')')"
   ]
  }
 ],
 "metadata": {
  "kernelspec": {
   "display_name": "Python 3 (ipykernel)",
   "language": "python",
   "name": "python3"
  },
  "language_info": {
   "codemirror_mode": {
    "name": "ipython",
    "version": 3
   },
   "file_extension": ".py",
   "mimetype": "text/x-python",
   "name": "python",
   "nbconvert_exporter": "python",
   "pygments_lexer": "ipython3",
   "version": "3.8.12"
  }
 },
 "nbformat": 4,
 "nbformat_minor": 5
}
