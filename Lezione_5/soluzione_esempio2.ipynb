{
 "cells": [
  {
   "cell_type": "markdown",
   "metadata": {},
   "source": [
    "## Esempio 2"
   ]
  },
  {
   "cell_type": "markdown",
   "metadata": {},
   "source": [
    "#### Data una sequenza di N numeri determinare massimo, minimo e media"
   ]
  },
  {
   "cell_type": "code",
   "execution_count": null,
   "metadata": {},
   "outputs": [],
   "source": [
    "N = int(input('Inserisci lunghezza della sequenza: '))\n",
    "massimo = float('-inf')\n",
    "minimo = float('inf')\n",
    "media = 0\n",
    "i = 0\n",
    "while i < N:\n",
    "    num = float(input('Inserisci numero: '))\n",
    "    if num > massimo:\n",
    "        massimo = num\n",
    "    if num < minimo: \n",
    "        minimo = num\n",
    "    media += num\n",
    "    i+=1\n",
    "media /= N\n",
    "print('Minimo=' + str(minimo) + ' Massimo=' + str(massimo) + ' Media=' + str(media))"
   ]
  },
  {
   "cell_type": "code",
   "execution_count": null,
   "metadata": {},
   "outputs": [],
   "source": [
    "# svolgimento con for\n",
    "N = int(input('Inserisci lunghezza della sequenza: '))\n",
    "massimo = float('-inf')\n",
    "minimo = float('inf')\n",
    "media = 0\n",
    "for i in range(N):\n",
    "    num = float(input('Inserisci numero: '))\n",
    "    if num > massimo:\n",
    "        massimo = num\n",
    "    if num < minimo: \n",
    "        minimo = num\n",
    "    media += num    \n",
    "media /= N\n",
    "print('Minimo=' + str(minimo) + ' Massimo=' + str(massimo) + ' Media=' + str(media))"
   ]
  }
 ],
 "metadata": {
  "kernelspec": {
   "display_name": "Python 3 (ipykernel)",
   "language": "python",
   "name": "python3"
  },
  "language_info": {
   "codemirror_mode": {
    "name": "ipython",
    "version": 3
   },
   "file_extension": ".py",
   "mimetype": "text/x-python",
   "name": "python",
   "nbconvert_exporter": "python",
   "pygments_lexer": "ipython3",
   "version": "3.8.12"
  }
 },
 "nbformat": 4,
 "nbformat_minor": 4
}
