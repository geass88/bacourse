{
 "cells": [
  {
   "cell_type": "markdown",
   "metadata": {},
   "source": [
    "# Sistemi di numerazione\n",
    "\n",
    "La base del sistema decimale è 10.\n",
    "\n",
    "I simboli del sistema decimale sono: 0, 1, 2, 3, 4, 5, 6, 7, 8, 9.\n",
    "\n",
    "Il sistema di numerazione decimale è un sistema posizionale. L'aggettivo posizionale indica che il peso dei simboli, cioè le cifre che compongono il numero, dipende dalla loro posizione all'interno del numero stesso.\n",
    "\n",
    "Esempio:\n",
    "\n",
    "> $350 = 0 \\cdot 10^0 + 5 \\cdot 10^1 + 3\\cdot 10^2$\n",
    "\n",
    "## Sistema binario\n",
    "\n",
    "La base del sistema binario è 2.\n",
    "\n",
    "I simboli del sistema binario sono: 0, 1 (comunemente detti bit da \"binary digit\" ossia cifra binaria).\n",
    "\n",
    "## Sistema ottale\n",
    "La base del sistema ottale è 8.\n",
    "\n",
    "I simboli del sistema ottale sono: 0, 1, 2, 3, 4, 5, 6, 7.\n",
    "\n",
    "\n",
    "## Sistema esadecimale\n",
    "La base del sistema esadecimale è 16.\n",
    "\n",
    "I simboli del sistema esadecimale sono: 0, 1, 2, 3, 4, 5, 6, 7, 8, 9, A, B, C, D, E, F.\n",
    "\n",
    "\n",
    "### Conteggio \n",
    "Si comincia con la prima posizione usando tutti i simboli a disposizione.\n",
    "Una volta esauriti i simboli si genera il riporto di 1 e si passa alla posizione successiva, riconsiderando tutti i simboli e sommando il riporto.\n",
    "\n",
    "<table style=\"text-align:center\">\n",
    "    <thead>\n",
    "        <tr><th>DECIMALE</th><th>BINARIO</th><th>OTTALE</th><th>ESADECIMALE</th></tr>\n",
    "    </thead>\n",
    "    <tbody>\n",
    "        <tr><td>0</td><td>0</td><td>0</td><td>0</td></tr>\n",
    "        <tr><td>1</td><td>1</td><td>1</td><td>1</td></tr>\n",
    "        <tr><td>2</td><td>10</td><td>2</td><td>2</td></tr>\n",
    "        <tr><td>3</td><td>11</td><td>3</td><td>3</td></tr>\n",
    "        <tr><td>4</td><td>100</td><td>4</td><td>4</td></tr>\n",
    "        <tr><td>5</td><td>101</td><td>5</td><td>5</td></tr>\n",
    "        <tr><td>6</td><td>110</td><td>6</td><td>6</td></tr>\n",
    "        <tr><td>7</td><td>111</td><td>7</td><td>7</td></tr>\n",
    "        <tr><td>8</td><td>1000</td><td>10</td><td>8</td></tr>\n",
    "        <tr><td>9</td><td>1001</td><td>11</td><td>9</td></tr>\n",
    "        <tr><td>10</td><td>1010</td><td>12</td><td>A</td></tr>\n",
    "        <tr><td>11</td><td>1011</td><td>13</td><td>B</td></tr>\n",
    "        <tr><td>12</td><td>1100</td><td>14</td><td>C</td></tr>\n",
    "        <tr><td>13</td><td>1101</td><td>15</td><td>D</td></tr>\n",
    "        <tr><td>14</td><td>1110</td><td>16</td><td>E</td></tr>\n",
    "        <tr><td>15</td><td>1111</td><td>17</td><td>F</td></tr>\n",
    "        <tr><td>16</td><td>10000</td><td>20</td><td>10</td></tr>\n",
    "    </tbody>\n",
    "</table>"
   ]
  },
  {
   "cell_type": "markdown",
   "metadata": {},
   "source": [
    "## Conversioni di base"
   ]
  },
  {
   "cell_type": "markdown",
   "metadata": {},
   "source": [
    "#### Conversioni di base\n",
    "\n",
    "> $168_{10} = \\text{A}8_{16} = 250_{8} = 10101000_2 \\Longrightarrow 168 = 0x\\text{A}8 = 0o250 = 0b10101000$"
   ]
  },
  {
   "cell_type": "code",
   "execution_count": null,
   "metadata": {},
   "outputs": [],
   "source": [
    "168"
   ]
  },
  {
   "cell_type": "code",
   "execution_count": null,
   "metadata": {},
   "outputs": [],
   "source": [
    "0xA8"
   ]
  },
  {
   "cell_type": "code",
   "execution_count": null,
   "metadata": {},
   "outputs": [],
   "source": [
    "0o250"
   ]
  },
  {
   "cell_type": "code",
   "execution_count": null,
   "metadata": {},
   "outputs": [],
   "source": [
    "0b10101000"
   ]
  },
  {
   "cell_type": "code",
   "execution_count": null,
   "metadata": {},
   "outputs": [],
   "source": []
  },
  {
   "cell_type": "code",
   "execution_count": null,
   "metadata": {},
   "outputs": [],
   "source": []
  },
  {
   "cell_type": "code",
   "execution_count": null,
   "metadata": {},
   "outputs": [],
   "source": []
  },
  {
   "cell_type": "code",
   "execution_count": null,
   "metadata": {},
   "outputs": [],
   "source": []
  },
  {
   "cell_type": "markdown",
   "metadata": {},
   "source": [
    "### Conversione da base $b$ a base 10\n",
    "\n",
    "In generale, in un sistema posizionale di base $b$ la scrittura:\n",
    "\n",
    "> $a_k a_{k-1} \\dots a_1 a_0$\n",
    "\n",
    "equivale a:\n",
    "\n",
    "> $\\large \\sum\\limits_{i=0}^{k} a_i \\cdot b^i$\n",
    "\n",
    "Esempio:\n",
    "\n",
    "> $0xA8 = 10 \\cdot 16^1 + 8\\cdot 16^0$\n",
    "\n",
    "> $0o250 = 2 \\cdot 8^2 + 5 \\cdot 8^1 + 0\\cdot 8^0$\n",
    "\n",
    "> $0b10101000 = 1 \\cdot 2^7 + 0 \\cdot 2^6 + 1 \\cdot 2^5 + 0 \\cdot 2^4 + 1 \\cdot 2^3 + 0 \\cdot 2^2 + 0 \\cdot 2^1 + 0 \\cdot 2^0 $"
   ]
  },
  {
   "cell_type": "markdown",
   "metadata": {},
   "source": [
    "## Conversione da base 10 a base $b$\n",
    "\n",
    "Si applica un metodo che divide ripetutamente per $b$ il numero da convertire.\n",
    "\n",
    "Esempio:\n",
    "\n",
    "* conversione di 168 in base 2\n",
    "\n",
    "<table style=\"text-align:center\">\n",
    "    <thead>\n",
    "        <tr><th>Divisione</th><th>Quoziente</th><th>Resto</th></tr>\n",
    "    </thead>\n",
    "    <tbody>\n",
    "        <tr><td>168 : 2</td><td>84</td><td>0</td></tr>\n",
    "        <tr><td>84 : 2</td><td>42</td><td>0</td></tr>\n",
    "        <tr><td>42 : 2</td><td>21</td><td>0</td></tr>\n",
    "        <tr><td>21 : 2</td><td>10</td><td>1</td></tr>\n",
    "        <tr><td>10 : 2</td><td>5</td><td>0</td></tr>\n",
    "        <tr><td>5 : 2</td><td>2</td><td>1</td></tr>\n",
    "        <tr><td>2 : 2</td><td>1</td><td>0</td></tr>\n",
    "        <tr><td>1 : 2</td><td>0</td><td>1</td></tr>\n",
    "    </tbody>\n",
    "</table>\n",
    "\n",
    "* conversione di 168 in base 8\n",
    "\n",
    "<table style=\"text-align:center\">\n",
    "    <thead>\n",
    "        <tr><th>Divisione</th><th>Quoziente</th><th>Resto</th></tr>\n",
    "    </thead>\n",
    "    <tbody>\n",
    "        <tr><td>168 : 8</td><td>21</td><td>0</td></tr>\n",
    "        <tr><td>21 : 8</td><td>2</td><td>5</td></tr>\n",
    "        <tr><td>2 : 8</td><td>0</td><td>2</td></tr>\n",
    "    </tbody>\n",
    "</table>\n",
    "\n",
    "* conversione di 168 in base 16\n",
    "\n",
    "<table style=\"text-align:center\">\n",
    "    <thead>\n",
    "        <tr><th>Divisione</th><th>Quoziente</th><th>Resto</th></tr>\n",
    "    </thead>\n",
    "    <tbody>\n",
    "        <tr><td>168 : 16</td><td>10</td><td>8</td></tr>\n",
    "        <tr><td>10 : 16</td><td>0</td><td>10</td></tr>\n",
    "    </tbody>\n",
    "</table>\n",
    "\n",
    "Leggendo i resti dal basso verso l'alto si ottiene il numero in base $b$."
   ]
  },
  {
   "cell_type": "code",
   "execution_count": null,
   "metadata": {},
   "outputs": [],
   "source": []
  }
 ],
 "metadata": {
  "kernelspec": {
   "display_name": "Python 3 (ipykernel)",
   "language": "python",
   "name": "python3"
  },
  "language_info": {
   "codemirror_mode": {
    "name": "ipython",
    "version": 3
   },
   "file_extension": ".py",
   "mimetype": "text/x-python",
   "name": "python",
   "nbconvert_exporter": "python",
   "pygments_lexer": "ipython3",
   "version": "3.8.12"
  }
 },
 "nbformat": 4,
 "nbformat_minor": 4
}
