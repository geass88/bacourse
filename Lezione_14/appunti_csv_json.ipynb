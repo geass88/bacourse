{
 "cells": [
  {
   "cell_type": "markdown",
   "metadata": {},
   "source": [
    "## CSV and JSON\n",
    "\n",
    "CSV and JSON files are just plaintext files.\n",
    "\n",
    "You can view them in a text editor. But Python also comes with the special <b>csv</b> and <b>json</b> modules, each providing functions to help you work with these file formats.\n",
    "\n",
    "CSV stands for \"comma-separated values,\" and CSV files are simplified spreadsheets stored as plaintext files.\n",
    "\n",
    "JSON (JavaScript Object Notation) is a format that stores information as JavaScript source code in plaintext files; it facilitates structured data interchange between all programming languages.\n"
   ]
  },
  {
   "cell_type": "code",
   "execution_count": 2,
   "metadata": {},
   "outputs": [],
   "source": [
    "# ALERT: execute this cell to prepare input data!\n",
    "import requests\n",
    "def download(link, nomeFile=None):\n",
    "    if nomeFile == None:\n",
    "        nomeFile = link.split('/')[-1]\n",
    "    richiesta = requests.get(link)\n",
    "    if richiesta.status_code == 200:\n",
    "        with open(nomeFile, 'w') as file:\n",
    "            file.write(richiesta.text)\n",
    "            \n",
    "download('https://tommasoadamo.it/data/example.csv')\n",
    "download('https://tommasoadamo.it/data/diet.json')"
   ]
  },
  {
   "cell_type": "markdown",
   "metadata": {},
   "source": [
    "### The csv Module\n",
    "Each line in a CSV file represents a row in the spreadsheet, and commas separate the cells in the row. Example:"
   ]
  },
  {
   "cell_type": "markdown",
   "metadata": {},
   "source": [
    "\"date\",\"fruit\",\"amount, kg\"\n",
    "\"4/5/2014 13:34\",\"Apples\",73\n",
    "\"4/5/2014 3:41\",\"Cherries\",85\n",
    "\"4/6/2014 12:46\",\"Pears\",14\n",
    "\"4/8/2014 8:59\",\"Oranges\",52\n",
    "\"4/10/2014 2:07\",\"Apples\",152\n",
    "\"4/10/2014 18:10\",\"Bananas\",23\n",
    "\"4/10/2014 2:40\",\"Strawberries\",98"
   ]
  },
  {
   "cell_type": "markdown",
   "metadata": {},
   "source": [
    "CSV files are simple, lacking many of the features of an Excel spreadsheet. For example, CSV files:\n",
    "\n",
    "* Don't have types for their values—everything is a string\n",
    "* Don't have settings for font size or color\n",
    "* Don't have multiple worksheets\n",
    "* Can't specify cell widths and heights\n",
    "* Can't have merged cells\n",
    "* Can't have images or charts embedded in them\n",
    "\n",
    "The advantage of CSV files is simplicity."
   ]
  },
  {
   "cell_type": "markdown",
   "metadata": {},
   "source": [
    "#### reader Objects\n",
    "To read data from a CSV file with the csv module, you need to create a reader object. A reader object lets you iterate over lines in the CSV file. The most direct way to access the values in the reader object is to convert it to a plain Python list by passing it to list()."
   ]
  },
  {
   "cell_type": "code",
   "execution_count": null,
   "metadata": {},
   "outputs": [],
   "source": [
    "import csv\n",
    "with open('example.csv') as f:\n",
    "    reader = csv.reader(f)\n",
    "    data = list(reader)\n",
    "print(data)"
   ]
  },
  {
   "cell_type": "markdown",
   "metadata": {},
   "source": [
    "The variable data contains a list of lists, so you can access the value at a particular row and column with the expression data[row][col]."
   ]
  },
  {
   "cell_type": "code",
   "execution_count": null,
   "metadata": {},
   "outputs": [],
   "source": [
    "print(data[1][2])\n",
    "print(data[2][0])"
   ]
  },
  {
   "cell_type": "markdown",
   "metadata": {},
   "source": [
    "For large CSV files, you'll want to use the reader object in a for loop. This avoids loading the entire file into memory at once."
   ]
  },
  {
   "cell_type": "code",
   "execution_count": null,
   "metadata": {},
   "outputs": [],
   "source": [
    "import csv\n",
    "\n",
    "with open('example.csv') as f:\n",
    "    reader = csv.reader(f)\n",
    "    for row in reader:\n",
    "        print('Row #' + str(reader.line_num) + ' ' + str(row))"
   ]
  },
  {
   "cell_type": "markdown",
   "metadata": {},
   "source": [
    "Each row is a list of values, with each value representing a cell.\n",
    "\n",
    "The print() function call prints the number of the current row (using the line_num property) and the contents of the row.\n",
    "\n",
    "The reader object can be looped over only once. To reread the CSV file, you must call csv.reader to create a new reader object."
   ]
  },
  {
   "cell_type": "markdown",
   "metadata": {},
   "source": [
    "#### writer Objects\n",
    "A writer object lets you write data to a CSV file. To create a writer object, you use the csv.writer() function."
   ]
  },
  {
   "cell_type": "code",
   "execution_count": null,
   "metadata": {},
   "outputs": [],
   "source": [
    "import csv\n",
    "\n",
    "with open('output.csv', 'w') as f:\n",
    "    writer = csv.writer(f, delimiter=';')\n",
    "    writer.writerow(['A', 'B', 'C', 'D'])\n",
    "    writer.writerow(['spam', 'eggs', 'bacon', 'ham'])\n",
    "    writer.writerow(['Hello, world!', 'eggs', 'bacon', 'ham'])\n",
    "    writer.writerow([1, 2, 3.141592, 4])"
   ]
  },
  {
   "cell_type": "markdown",
   "metadata": {},
   "source": [
    "The writerow() method for writer objects takes a list argument. Each value in the list is placed in its own cell in the output CSV file. The return value of writerow() is the number of characters written to the file for that row (including newline characters).\n",
    "\n",
    "The delimiter is the character that appears between cells on a row. By default, the delimiter for a CSV file is a comma. You can change this character to a different value by using the delimiter keyword arguments with csv.reader or csv.writer()."
   ]
  },
  {
   "cell_type": "markdown",
   "metadata": {},
   "source": [
    "### The json Module\n",
    "\n",
    "Python’s json module handles all the details of translating between a string with JSON data and Python values for the json.loads() and json.dumps() functions. JSON can’t store every kind of Python value. It can contain values of only the following data types: strings, integers, floats, Booleans, lists, dictionaries, and NoneType.\n",
    "\n",
    "To translate a string containing JSON data into a Python value, pass it to the json.loads() function. (The name means “load string,” not “loads.”)"
   ]
  },
  {
   "cell_type": "code",
   "execution_count": null,
   "metadata": {},
   "outputs": [],
   "source": [
    "import json\n",
    "\n",
    "stringOfJsonData = '{\"name\": \"Zophie\", \"isCat\": true, \"miceCaught\": 0, \"felineIQ\": null}'\n",
    "jsonDataAsPythonValue = json.loads(stringOfJsonData)\n",
    "print(jsonDataAsPythonValue)"
   ]
  },
  {
   "cell_type": "markdown",
   "metadata": {},
   "source": [
    "The json.dumps() function (which means “dump string,” not “dumps”) will translate a Python value into a string of JSON-formatted data."
   ]
  },
  {
   "cell_type": "code",
   "execution_count": null,
   "metadata": {},
   "outputs": [],
   "source": [
    "import json\n",
    "\n",
    "pythonValue = {'isCat': True, 'miceCaught': 0, 'name': 'Zophie', 'felineIQ': None}\n",
    "stringOfJsonData = json.dumps(pythonValue)\n",
    "print(stringOfJsonData)"
   ]
  },
  {
   "cell_type": "markdown",
   "metadata": {},
   "source": [
    "You can also directly pass file references to function json.load() and json.dump(). For example:"
   ]
  },
  {
   "cell_type": "code",
   "execution_count": null,
   "metadata": {},
   "outputs": [],
   "source": [
    "import json\n",
    "\n",
    "with open('diet1.json') as f:\n",
    "    text = f.read()\n",
    "\n",
    "diet = json.loads(text)\n",
    "print(diet['FOODS'])    \n",
    "print() # leave an empty line\n",
    "print(diet['NUTRIENTS'])    \n",
    "print() \n",
    "print(diet['FOOD_NUTRIENTS'])    "
   ]
  },
  {
   "cell_type": "code",
   "execution_count": null,
   "metadata": {},
   "outputs": [],
   "source": [
    "import json\n",
    "with open('diet1.json') as f:\n",
    "    diet = json.load(f)\n",
    "print(diet['FOODS'])\n",
    "print() \n",
    "print(diet['NUTRIENTS'])    \n",
    "print()\n",
    "print(diet['FOOD_NUTRIENTS'])   \n",
    "print()\n",
    "print(diet['FOODS'][0]['name'])"
   ]
  },
  {
   "cell_type": "code",
   "execution_count": null,
   "metadata": {},
   "outputs": [],
   "source": [
    "import json\n",
    "nutrients = [{'name': 'Calories', 'qmin': 2000, 'qmax': 2500}, {'name': 'Calcium', 'qmin': 800, 'qmax': 1600}, {'name': 'Iron', 'qmin': 10, 'qmax': 30}, {'name': 'Vit_A', 'qmin': 5000, 'qmax': 50000}, {'name': 'Dietary_Fiber', 'qmin': 25, 'qmax': 100}, {'name': 'Carbohydrates', 'qmin': 0, 'qmax': 300}, {'name': 'Protein', 'qmin': 50, 'qmax': 100}]\n",
    "with open('diet2.json', 'w') as f:\n",
    "    json.dump(nutrients, f)"
   ]
  },
  {
   "cell_type": "markdown",
   "metadata": {},
   "source": [
    "## Remote resources\n",
    "\n",
    "The requests module lets you easily download files from the web without having to worry about complicated issues such as network errors, connection problems, and data compression. \n",
    "\n",
    "Example: \n",
    "http://tommasoadamo.it/data/todos.json"
   ]
  },
  {
   "cell_type": "code",
   "execution_count": null,
   "metadata": {},
   "outputs": [],
   "source": [
    "import requests\n",
    "import json \n",
    "\n",
    "R = requests.get(\"http://tommasoadamo.it/data/todos.json\")\n",
    "if R.status_code == 200: # check download status: 200 stands for OK!\n",
    "    data = json.loads(R.text)\n",
    "    print(data)"
   ]
  },
  {
   "cell_type": "markdown",
   "metadata": {},
   "source": [
    "If the request succeeded, the downloaded web page is stored as a string in the Response object's text variable."
   ]
  },
  {
   "cell_type": "code",
   "execution_count": null,
   "metadata": {},
   "outputs": [],
   "source": []
  }
 ],
 "metadata": {
  "kernelspec": {
   "display_name": "Python 3 (ipykernel)",
   "language": "python",
   "name": "python3"
  },
  "language_info": {
   "codemirror_mode": {
    "name": "ipython",
    "version": 3
   },
   "file_extension": ".py",
   "mimetype": "text/x-python",
   "name": "python",
   "nbconvert_exporter": "python",
   "pygments_lexer": "ipython3",
   "version": "3.8.12"
  }
 },
 "nbformat": 4,
 "nbformat_minor": 4
}
