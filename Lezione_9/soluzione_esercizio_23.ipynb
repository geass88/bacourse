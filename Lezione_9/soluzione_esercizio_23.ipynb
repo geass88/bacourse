{
 "cells": [
  {
   "cell_type": "markdown",
   "id": "above-showcase",
   "metadata": {},
   "source": [
    "## Esercizio 23\n",
    "\n",
    "#### Scrivere una funzione che preso un numero decimale restituisca una stringa con la sua rappresentazione esadecimale.\n",
    "\n",
    "Esempio:\n",
    "> $168_{10} = \\text{A}8_{16}$\n",
    "\n",
    "> $7658_{10} = \\text{1DEA}_{16}$"
   ]
  },
  {
   "cell_type": "code",
   "execution_count": null,
   "id": "unlikely-valuation",
   "metadata": {},
   "outputs": [],
   "source": [
    "def decToHex(N):\n",
    "    Nconv = ''\n",
    "    while N > 0:\n",
    "        resto = N%16\n",
    "        if resto == 10:\n",
    "            c = 'a'\n",
    "        elif resto == 11:\n",
    "            c = 'b'\n",
    "        elif resto == 12:\n",
    "            c = 'c'\n",
    "        elif resto == 13:\n",
    "            c = 'd'\n",
    "        elif resto == 14:\n",
    "            c = 'e'\n",
    "        elif resto == 15:\n",
    "            c = 'f'\n",
    "        else:\n",
    "            c = str(resto)\n",
    "        Nconv = c + Nconv \n",
    "        N //= 16\n",
    "    return Nconv\n",
    "\n",
    "numero = int(input('Inserisci un numero: '))\n",
    "print('In esadecimale è: ' + decToHex(numero))"
   ]
  },
  {
   "cell_type": "code",
   "execution_count": null,
   "id": "nutritional-diving",
   "metadata": {},
   "outputs": [],
   "source": [
    "# conversione da decimale a esadecimale\n",
    "# soluzione alternativa\n",
    "\n",
    "def decToHex(N):\n",
    "    Nconv = ''\n",
    "    cifre='0123456789ABCDEF'\n",
    "    while N > 0:\n",
    "        resto = N%16        \n",
    "        Nconv = cifre[resto] + Nconv \n",
    "        N //= 16\n",
    "    return Nconv\n",
    "\n",
    "numero = int(input('Inserisci un numero: '))\n",
    "print('In esadecimale è: ' + decToHex(numero))"
   ]
  }
 ],
 "metadata": {
  "kernelspec": {
   "display_name": "Python 3 (ipykernel)",
   "language": "python",
   "name": "python3"
  },
  "language_info": {
   "codemirror_mode": {
    "name": "ipython",
    "version": 3
   },
   "file_extension": ".py",
   "mimetype": "text/x-python",
   "name": "python",
   "nbconvert_exporter": "python",
   "pygments_lexer": "ipython3",
   "version": "3.8.12"
  }
 },
 "nbformat": 4,
 "nbformat_minor": 5
}
