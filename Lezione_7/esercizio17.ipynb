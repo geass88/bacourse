{
 "cells": [
  {
   "cell_type": "markdown",
   "metadata": {},
   "source": [
    "## Esercizio 17\n",
    "\n",
    "#### Scrivere una funzione che dato in input un numero intero positivo sia in grado di scomporlo in fattori primi.\n",
    "\n",
    "Esempio:\n",
    "\n",
    "> $100 = 2^2 \\cdot 5^2$\n",
    "\n",
    "> $2334948 = 2^2 \\cdot 3^1 \\cdot 7^2 \\cdot 11^1 \\cdot 19^2$ "
   ]
  },
  {
   "cell_type": "code",
   "execution_count": null,
   "metadata": {},
   "outputs": [],
   "source": []
  }
 ],
 "metadata": {
  "kernelspec": {
   "display_name": "bacourse",
   "language": "python",
   "name": "bacourse"
  },
  "language_info": {
   "codemirror_mode": {
    "name": "ipython",
    "version": 3
   },
   "file_extension": ".py",
   "mimetype": "text/x-python",
   "name": "python",
   "nbconvert_exporter": "python",
   "pygments_lexer": "ipython3",
   "version": "3.8.12"
  }
 },
 "nbformat": 4,
 "nbformat_minor": 4
}
