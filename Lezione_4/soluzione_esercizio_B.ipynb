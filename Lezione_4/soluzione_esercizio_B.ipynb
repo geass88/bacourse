{
 "cells": [
  {
   "cell_type": "markdown",
   "id": "major-basics",
   "metadata": {},
   "source": [
    "## Esercizio B\n",
    "\n",
    "#### - Date le coordinate di due punti nel piano scrivere l'equazione della retta passante per essi nella forma y = **m**x+**q** (NB: controllare che la retta non sia verticale)."
   ]
  },
  {
   "cell_type": "markdown",
   "id": "efe157a9-a026-4826-b706-2519c56fc932",
   "metadata": {},
   "source": [
    "\\begin{equation}\n",
    "   \\begin{cases}\n",
    "   y_1 = m x_1 + q\\\\\n",
    "   y_2 = m x_2 + q\n",
    "   \\end{cases}\\\\\n",
    "   y_2 - y_1 = m x_2 - m x_1\\\\\n",
    "   m =  \\dfrac{y_2 - y_1}{x_2 - x_1}\n",
    "\\end{equation}"
   ]
  },
  {
   "cell_type": "code",
   "execution_count": null,
   "id": "bbe393ba-56e3-4ecf-b751-fef27de82158",
   "metadata": {},
   "outputs": [],
   "source": [
    "x1 = float(input('x1 = '))\n",
    "y1 = float(input('y1 = '))\n",
    "x2 = float(input('x2 = '))\n",
    "y2 = float(input('y2 = '))\n",
    "\n",
    "if x1 == x2:\n",
    "    if y1 == y2:\n",
    "        print('punti coincidenti')\n",
    "    else:\n",
    "        print('retta verticale')\n",
    "else:\n",
    "    m = (y2-y1)/(x2-x1)\n",
    "    q = y1 - m * x1\n",
    "    print('y = ' + str(m) + ' x + ' + str(q))"
   ]
  }
 ],
 "metadata": {
  "kernelspec": {
   "display_name": "Python 3 (ipykernel)",
   "language": "python",
   "name": "python3"
  },
  "language_info": {
   "codemirror_mode": {
    "name": "ipython",
    "version": 3
   },
   "file_extension": ".py",
   "mimetype": "text/x-python",
   "name": "python",
   "nbconvert_exporter": "python",
   "pygments_lexer": "ipython3",
   "version": "3.8.12"
  }
 },
 "nbformat": 4,
 "nbformat_minor": 5
}
