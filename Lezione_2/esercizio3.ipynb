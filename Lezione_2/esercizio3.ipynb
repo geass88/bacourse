{
 "cells": [
  {
   "cell_type": "markdown",
   "metadata": {},
   "source": [
    "## Esercizio 3"
   ]
  },
  {
   "cell_type": "markdown",
   "metadata": {},
   "source": [
    "#### - dati in input i coefficienti di un'equazione di secondo grado in forma canonica, calcolarne le radici.\n",
    "\n",
    "$a x^2 + b x + c  = 0 $\n",
    "\n",
    "> $x_{1,2} = \\Large \\frac {-b \\pm \\sqrt{b^2-4ac} } {2a} $\n",
    "\n",
    "Esempi:\n",
    "\n",
    "* $16 x^2 -24x +9= 0$\n",
    "\n",
    "> $x_{1,2} = \\frac{3}{4}$\n",
    "\n",
    "\n",
    "* $x^2 +2x - 3= 0$\n",
    "\n",
    "> $x_{1} = 1$,\n",
    "$x_{2} = -3$\n"
   ]
  },
  {
   "cell_type": "code",
   "execution_count": null,
   "metadata": {},
   "outputs": [],
   "source": []
  }
 ],
 "metadata": {
   "kernelspec": {
     "display_name": "bacourse",
     "language": "python",
     "name": "bacourse"
   },
  "language_info": {
   "codemirror_mode": {
    "name": "ipython",
    "version": 3
   },
   "file_extension": ".py",
   "mimetype": "text/x-python",
   "name": "python",
   "nbconvert_exporter": "python",
   "pygments_lexer": "ipython3",
   "version": "3.8.12"
  }
 },
 "nbformat": 4,
 "nbformat_minor": 4
}
