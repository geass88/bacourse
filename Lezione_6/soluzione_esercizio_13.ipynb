{
 "cells": [
  {
   "cell_type": "markdown",
   "metadata": {},
   "source": [
    "## Esercizio 13\n",
    "\n",
    "#### Determinare il risultato della divisione intera di due numeri naturali ed il resto utilizzando l'operazione di differenza.\n",
    "\n",
    "Attenzione al divisore!"
   ]
  },
  {
   "cell_type": "code",
   "execution_count": null,
   "metadata": {},
   "outputs": [],
   "source": [
    "A = int(input('Inserisci dividendo:'))\n",
    "B = int(input('Inserisci divisore: '))\n",
    "\n",
    "if B == 0:\n",
    "    print('ZeroDivisionError')\n",
    "else:\n",
    "    quoziente = 0\n",
    "    differenza = A\n",
    "    while differenza >= B:\n",
    "        differenza -= B\n",
    "        quoziente += 1\n",
    "    resto = differenza\n",
    "    print(str(A) + ' // ' + str(B) + ' = ' + str(quoziente))\n",
    "    print(str(A) + ' % ' + str(B) + ' = ' + str(resto))\n",
    "\n",
    "    print('Il risultato corretto è: ' + str(A//B) + ' con resto ' + str(A%B))"
   ]
  }
 ],
 "metadata": {
  "kernelspec": {
   "display_name": "Python 3 (ipykernel)",
   "language": "python",
   "name": "python3"
  },
  "language_info": {
   "codemirror_mode": {
    "name": "ipython",
    "version": 3
   },
   "file_extension": ".py",
   "mimetype": "text/x-python",
   "name": "python",
   "nbconvert_exporter": "python",
   "pygments_lexer": "ipython3",
   "version": "3.8.12"
  }
 },
 "nbformat": 4,
 "nbformat_minor": 4
}
