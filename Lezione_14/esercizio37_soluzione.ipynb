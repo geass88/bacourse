{
 "cells": [
  {
   "cell_type": "markdown",
   "metadata": {},
   "source": [
    "## Esercizio 37\n",
    "\n",
    "Un'azienda vuole inviare una newsletter via e-mail ad una lista di contatti raccolti all'interno di un file di testo (\"mails.txt\"). Tuttavia per errore un singolo indirizzo e-mail può essere presente più volte nel file di testo. Per evitare che a causa di questi contatti duplicati un singolo indirizzo riceva più volte la newsletter si vuole implementare una funzione che generi un nuovo file di testo privo di duplicati.\n",
    "\n",
    "Attenzione che gli indirizzi e-mail non sono case-sensitive, quindi ad esempio: tommaso.adamo@unisalento.it e TOMMASO.adamo@unisalento.it sono lo stesso indirizzo.\n",
    "\n",
    "Output atteso: un file di testo con 2557 indirizzi e-mail unici."
   ]
  },
  {
   "cell_type": "code",
   "execution_count": null,
   "metadata": {},
   "outputs": [],
   "source": [
    "# ALERT: execute this cell to prepare input data!\n",
    "import requests\n",
    "def download(link, nomeFile=None):\n",
    "    if nomeFile == None:\n",
    "        nomeFile = link.split('/')[-1]\n",
    "    richiesta = requests.get(link)\n",
    "    if richiesta.status_code == 200:\n",
    "        with open(nomeFile, 'w') as file:\n",
    "            file.write(richiesta.text)\n",
    "            \n",
    "download('https://tommasoadamo.it/data/mails.txt')"
   ]
  },
  {
   "cell_type": "code",
   "execution_count": null,
   "metadata": {},
   "outputs": [],
   "source": [
    "def rimuoviDuplicati(nomeFileIngresso, nomeFileUscita):\n",
    "    with open(nomeFileIngresso) as f:\n",
    "        S = set()\n",
    "        for m in f:\n",
    "            S.add(m.lower())\n",
    "    with open(nomeFileUscita, 'w') as f:\n",
    "        for m in S:\n",
    "            f.write(m)\n",
    "    \n",
    "rimuoviDuplicati('mails.txt', 'pulito.txt')"
   ]
  },
  {
   "cell_type": "code",
   "execution_count": null,
   "metadata": {},
   "outputs": [],
   "source": []
  }
 ],
 "metadata": {
  "kernelspec": {
   "display_name": "Python 3 (ipykernel)",
   "language": "python",
   "name": "python3"
  },
  "language_info": {
   "codemirror_mode": {
    "name": "ipython",
    "version": 3
   },
   "file_extension": ".py",
   "mimetype": "text/x-python",
   "name": "python",
   "nbconvert_exporter": "python",
   "pygments_lexer": "ipython3",
   "version": "3.8.12"
  }
 },
 "nbformat": 4,
 "nbformat_minor": 4
}
