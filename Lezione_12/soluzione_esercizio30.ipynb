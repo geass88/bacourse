{
 "cells": [
  {
   "cell_type": "markdown",
   "metadata": {},
   "source": [
    "## Esercizio 30\n",
    "\n",
    "#### Scrivere una funzione per fondere due liste di numeri ordinati in senso crescente creandone una terza che ne conserva l'ordinamento.\n",
    "\n",
    "Esempio:\n",
    "\n",
    "> lista1 = [ 0, 10, 50, 90 ]\n",
    "\n",
    "> lista2 = [ 20, 30, 40, 60, 70, 80 ]\n",
    "\n",
    "* fusione(lista1, lista2) ritorna [0, 10, 20, 30, 40, 50, 60, 70, 80, 90]"
   ]
  },
  {
   "cell_type": "code",
   "execution_count": null,
   "metadata": {},
   "outputs": [],
   "source": [
    "def fusione(V1, V2):\n",
    "    V3 = V1 + V2\n",
    "    V3.sort()\n",
    "    return V3\n",
    "lista1 = [ 0, 10, 50, 90 ]\n",
    "lista2 = [ 20, 30, 40, 60, 70, 80 ]\n",
    "print(fusione(lista1, lista2))"
   ]
  },
  {
   "cell_type": "code",
   "execution_count": null,
   "metadata": {},
   "outputs": [],
   "source": [
    "# APPROFONDIMENTO: alternativa più efficiente\n",
    "def fusione(V1, V2):\n",
    "    V3 = []\n",
    "    i = 0\n",
    "    j = 0\n",
    "    while i < len(V1) and j < len(V2):\n",
    "        if V1[i] < V2[j]:\n",
    "            V3.append(V1[i])\n",
    "            i += 1\n",
    "        else:\n",
    "            V3.append(V2[j])\n",
    "            j += 1\n",
    "    while i < len(V1):\n",
    "        V3.append(V1[i])\n",
    "        i += 1\n",
    "    while j < len(V2):\n",
    "        V3.append(V2[j])\n",
    "        j += 1 \n",
    "    return V3\n",
    "\n",
    "lista1 = [ 0, 10, 50, 90 ]\n",
    "lista2 = [ 20, 30, 40, 60, 70, 80 ]\n",
    "print(fusione(lista1, lista2))"
   ]
  },
  {
   "cell_type": "code",
   "execution_count": null,
   "metadata": {},
   "outputs": [],
   "source": []
  }
 ],
 "metadata": {
  "kernelspec": {
   "display_name": "Python 3 (ipykernel)",
   "language": "python",
   "name": "python3"
  },
  "language_info": {
   "codemirror_mode": {
    "name": "ipython",
    "version": 3
   },
   "file_extension": ".py",
   "mimetype": "text/x-python",
   "name": "python",
   "nbconvert_exporter": "python",
   "pygments_lexer": "ipython3",
   "version": "3.8.12"
  }
 },
 "nbformat": 4,
 "nbformat_minor": 4
}
