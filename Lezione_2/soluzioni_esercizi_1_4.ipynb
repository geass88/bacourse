{
 "cells": [
  {
   "cell_type": "markdown",
   "metadata": {},
   "source": [
    "## Esercizi"
   ]
  },
  {
   "cell_type": "markdown",
   "metadata": {},
   "source": [
    "#### 1) date in input le coordinate di due punti nel piano, determinare le coordinate del punto medio"
   ]
  },
  {
   "cell_type": "code",
   "execution_count": 1,
   "metadata": {},
   "outputs": [
    {
     "name": "stdout",
     "output_type": "stream",
     "text": [
      "Inserisci le coordinate di due punti nel piano\n"
     ]
    },
    {
     "name": "stdin",
     "output_type": "stream",
     "text": [
      "x1 =  1\n",
      "y1 =  2\n",
      "x2 =  3\n",
      "y2 =  4\n"
     ]
    },
    {
     "name": "stdout",
     "output_type": "stream",
     "text": [
      "Il punto medio è (2.0, 3.0)\n"
     ]
    }
   ],
   "source": [
    "print('Inserisci le coordinate di due punti nel piano')\n",
    "\n",
    "x1 = float(input('x1 = '))\n",
    "y1 = float(input('y1 = '))\n",
    "x2 = float(input('x2 = '))\n",
    "y2 = float(input('y2 = '))\n",
    "\n",
    "xm = (x1+x2)/2\n",
    "ym = (y1+y2)/2\n",
    "print('Il punto medio è (' + str(xm) + ', ' + str(ym) + ')')\n",
    "del x1, y1, x2, y2, xm, ym"
   ]
  },
  {
   "cell_type": "markdown",
   "metadata": {},
   "source": [
    "#### 2) date in input le misure dei cateti di un triangolo rettangolo trovare il perimetro"
   ]
  },
  {
   "cell_type": "code",
   "execution_count": 2,
   "metadata": {},
   "outputs": [
    {
     "name": "stdout",
     "output_type": "stream",
     "text": [
      "Inserisci le misure dei due cateti\n"
     ]
    },
    {
     "name": "stdin",
     "output_type": "stream",
     "text": [
      "Primo cateto =  5\n",
      "Secondo cateto =  12\n"
     ]
    },
    {
     "name": "stdout",
     "output_type": "stream",
     "text": [
      "Il perimetro del triangolo è 30.0\n"
     ]
    }
   ],
   "source": [
    "print('Inserisci le misure dei due cateti')\n",
    "\n",
    "cateto1 = float(input('Primo cateto = '))\n",
    "cateto2 = float(input('Secondo cateto = '))\n",
    "\n",
    "ipotenusa = (cateto1**2 + cateto2**2) ** 0.5\n",
    "perimetro = cateto1+cateto2+ipotenusa\n",
    "print('Il perimetro del triangolo è ' + str(perimetro))\n",
    "del cateto1, cateto2, ipotenusa, perimetro"
   ]
  },
  {
   "cell_type": "markdown",
   "metadata": {},
   "source": [
    "#### 3) dati in input i coefficienti di un'equazione di secondo grado in forma canonica, calcolarne le radici.\n",
    "\n",
    "$a x^2 + b x + c  = 0 $\n",
    "\n",
    "> $x_{1,2} = \\Large \\frac {-b \\pm \\sqrt{b^2-4ac} } {2a} $\n",
    "\n",
    "Esempi:\n",
    "\n",
    "* $16 x^2 -24x +9= 0$\n",
    "\n",
    "> $x_{1,2} = \\frac{3}{4}$\n",
    "\n",
    "\n",
    "* $x^2 +2x - 3= 0$\n",
    "\n",
    "> $x_{1} = 1$,\n",
    "$x_{2} = -3$\n"
   ]
  },
  {
   "cell_type": "code",
   "execution_count": 3,
   "metadata": {},
   "outputs": [
    {
     "name": "stdout",
     "output_type": "stream",
     "text": [
      "Inserisci i coefficienti dell'equazione\n"
     ]
    },
    {
     "name": "stdin",
     "output_type": "stream",
     "text": [
      "a =  1\n",
      "b =  2\n",
      "c =  -3\n"
     ]
    },
    {
     "name": "stdout",
     "output_type": "stream",
     "text": [
      "x1 = 1.0\n",
      "x2 = -3.0\n"
     ]
    }
   ],
   "source": [
    "print('Inserisci i coefficienti dell\\'equazione')\n",
    "a = float(input('a = '))\n",
    "b = float(input('b = '))\n",
    "c = float(input('c = '))\n",
    "x1 = (-b + (b**2-4*a*c)**0.5)/(2*a)\n",
    "x2 = (-b - (b**2-4*a*c)**0.5)/(2*a)\n",
    "print('x1 = ' + str(x1))\n",
    "print('x2 = ' + str(x2))\n",
    "del a, b, c, x1, x2"
   ]
  },
  {
   "cell_type": "markdown",
   "metadata": {},
   "source": [
    "#### 4) date in input le misure di 3 angoli espresse in secondi (interi) determinare l'angolo risultante dalla loro somma in forma normale (gradi, primi e secondi)\n",
    "\n",
    "Esempio:\n",
    "\n",
    "$20000'' + 5000'' + 156'' = 6^\\circ \\ 59' \\ 16''$"
   ]
  },
  {
   "cell_type": "code",
   "execution_count": 4,
   "metadata": {},
   "outputs": [
    {
     "name": "stdout",
     "output_type": "stream",
     "text": [
      "Inserisci le misure di tre angoli: \n"
     ]
    },
    {
     "name": "stdin",
     "output_type": "stream",
     "text": [
      "Primo angolo =  20000\n",
      "Secondo angolo =  5000\n",
      "Terzo angolo =  156\n"
     ]
    },
    {
     "name": "stdout",
     "output_type": "stream",
     "text": [
      "L'angolo risultante è: 6° 59' 16''\n"
     ]
    }
   ],
   "source": [
    "print('Inserisci le misure di tre angoli: ')\n",
    "a1 = int(input('Primo angolo = '))\n",
    "a2 = int(input('Secondo angolo = '))\n",
    "a3 = int(input('Terzo angolo = '))\n",
    "somma_angoli = a1+a2+a3\n",
    "\n",
    "# si può fare anche così:\n",
    "#gradi = somma_angoli // 60 // 60\n",
    "#primi = somma_angoli // 60 % 60\n",
    "#secondi = somma_angoli % 60\n",
    "\n",
    "primi = somma_angoli // 60\n",
    "secondi = somma_angoli % 60\n",
    "\n",
    "gradi = primi // 60\n",
    "primi %= 60\n",
    "\n",
    "print(\"L'angolo risultante è: \" + str(gradi) + '° ' + str(primi) + \"' \" + str(secondi) + \"''\")\n",
    "del a1, a2, a3, somma_angoli, gradi, primi, secondi"
   ]
  }
 ],
 "metadata": {
  "kernelspec": {
   "display_name": "Python 3 (ipykernel)",
   "language": "python",
   "name": "python3"
  },
  "language_info": {
   "codemirror_mode": {
    "name": "ipython",
    "version": 3
   },
   "file_extension": ".py",
   "mimetype": "text/x-python",
   "name": "python",
   "nbconvert_exporter": "python",
   "pygments_lexer": "ipython3",
   "version": "3.8.12"
  }
 },
 "nbformat": 4,
 "nbformat_minor": 4
}
