{
 "cells": [
  {
   "cell_type": "markdown",
   "metadata": {},
   "source": [
    "## Esercizio 44\n",
    "\n",
    "Un'industria produce $n$ tipi di elettrodomestici $E=\\{1,\\dots,n\\}$ ed è divisa in $m$ reparti $R=\\{1,\\dots,m\\}$.\n",
    "\n",
    "Ciascun reparto può fabbricare ciascuno tipo di elettrodomestico. Questa industria dispone di operai ripartiti per reparto. Ciascun operaio ha un monteore prestabilito $M$. Indichiamo con $t_{ji} \\ \\ i \\in E, j\\in R$ il tempo di lavorazione (in ore) necessario per ottenere un elettrodomestico pronto per la vendita, per ciascun tipo di elettrodomestico $i$ e per ciascun reparto $j$; mentre indichiamo con $P_i \\ \\ i\\in E$ il prezzo di vendita unitario in euro di ciascun tipo di elettrodomestico.\n",
    "\n",
    "Questa industria deve pianificare la sua produzione settimanale, deve cioè determinare il numero di ciascuno degli elettrodomestici che deve essere fabbricato da ciascun reparto in modo da soddisfare un ordine di almeno $p_i \\ \\ i \\in E$ elettrodomestici e in modo da massimizzare il profitto complessivo ricavato dalla vendita.\n",
    "\n",
    "\n",
    "_Attenzione_: ciascun reparto è in grado di fornire prodotti finiti pronti per la vendita, cioè non è necessaria la lavorazione su tutti i reparti per ottenere un prodotto finito!!\n",
    "\n",
    "I dati dell'istanza sono stati raccolti nel \"file ex44.json\"."
   ]
  },
  {
   "cell_type": "markdown",
   "metadata": {},
   "source": [
    "\\begin{align}\n",
    "\\max \\quad & \\sum\\limits_{i \\in E} P_i \\sum\\limits_{j \\in R} x_{ij} & \\\\\n",
    "\\quad & \\sum\\limits_{i \\in E} t_{ji} x_{ij} \\leq M \\cdot o_j & j \\in R \\\\\n",
    "\\quad & \\sum\\limits_{j \\in R} x_{ij} \\geq p_i & i \\in E\\\\\n",
    "\\quad & x_{ij} \\geq 0 \\quad \\mbox{integer} & i \\in E, j \\in R\n",
    "\\end{align}"
   ]
  },
  {
   "cell_type": "code",
   "execution_count": null,
   "metadata": {},
   "outputs": [],
   "source": [
    "# ALERT: execute this cell to prepare input data!\n",
    "import requests\n",
    "def download(link, nomeFile=None):\n",
    "    if nomeFile == None:\n",
    "        nomeFile = link.split('/')[-1]\n",
    "    richiesta = requests.get(link)\n",
    "    if richiesta.status_code == 200:\n",
    "        with open(nomeFile, 'w') as file:\n",
    "            file.write(richiesta.text)\n",
    "            \n",
    "download('https://tommasoadamo.it/data/ex44.json')"
   ]
  },
  {
   "cell_type": "code",
   "execution_count": null,
   "metadata": {},
   "outputs": [],
   "source": [
    "# ALERT: execute this cell to install DOcplex! \n",
    "!pip install docplex cplex"
   ]
  },
  {
   "cell_type": "code",
   "execution_count": null,
   "metadata": {},
   "outputs": [],
   "source": []
  }
 ],
 "metadata": {
  "kernelspec": {
   "display_name": "Python 3 (ipykernel)",
   "language": "python",
   "name": "python3"
  },
  "language_info": {
   "codemirror_mode": {
    "name": "ipython",
    "version": 3
   },
   "file_extension": ".py",
   "mimetype": "text/x-python",
   "name": "python",
   "nbconvert_exporter": "python",
   "pygments_lexer": "ipython3",
   "version": "3.8.12"
  }
 },
 "nbformat": 4,
 "nbformat_minor": 4
}
