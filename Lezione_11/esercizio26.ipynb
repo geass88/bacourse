{
 "cells": [
  {
   "cell_type": "markdown",
   "metadata": {},
   "source": [
    "## Esercizio 26\n",
    "\n",
    "#### Scrivere una funzione per calcolare la p-norma di un vettore.\n",
    "\n",
    "Sia $ v= [v_1, v_2, \\dots, v_K] $. La p-norma con p in $[1, +\\infty[$ è definita come:\n",
    "\n",
    "$\\Large ||v||_p = \\sqrt[p]{\\sum\\limits_{k=1}^K |v_k|^p} $\n",
    "\n",
    "Esempi:\n",
    "\n",
    "> $v = [27, 84, 110, 133] \\qquad\\qquad\\qquad\\qquad\\qquad\\quad  \\ \\ \\  ||v||_1 = 354$\n",
    "\n",
    "> $v = [1,2,3,4,5,27]  \\qquad\\qquad\\qquad\\qquad\\qquad\\qquad \\  ||v||_2 = 28$\n",
    "\n",
    "> $v = [30, 120, 272, 315]  \\qquad \\qquad\\qquad \\qquad\\qquad\\quad \\ ||v||_4 = 353$\n",
    "\n",
    "> $v = [90, 223, 478, 524, 748, 1088, 1190, 1324]  \\qquad\\quad ||v||_8 = 1409$"
   ]
  },
  {
   "cell_type": "code",
   "execution_count": null,
   "metadata": {},
   "outputs": [],
   "source": [
    "def norma(V, p):\n",
    "    somma = 0\n",
    "    for v in V:\n",
    "        somma += abs(v)**p\n",
    "    return somma ** (1/p)\n",
    "\n",
    "print(norma([27, 84, 110, 133], 1))\n",
    "print(norma([1,2,3,4,5,27], 2))\n",
    "print(norma([30, 120, 272, 315], 4))\n",
    "print(norma([90, 223, 478, 524, 748, 1088, 1190, 1324], 8))"
   ]
  }
 ],
 "metadata": {
  "kernelspec": {
   "display_name": "Python 3 (ipykernel)",
   "language": "python",
   "name": "python3"
  },
  "language_info": {
   "codemirror_mode": {
    "name": "ipython",
    "version": 3
   },
   "file_extension": ".py",
   "mimetype": "text/x-python",
   "name": "python",
   "nbconvert_exporter": "python",
   "pygments_lexer": "ipython3",
   "version": "3.8.12"
  }
 },
 "nbformat": 4,
 "nbformat_minor": 4
}
